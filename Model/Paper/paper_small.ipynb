{
 "cells": [
  {
   "cell_type": "code",
   "execution_count": 1,
   "metadata": {},
   "outputs": [],
   "source": [
    "import math\n",
    "import pickle\n",
    "import numpy as np\n",
    "import tensorflow as tf\n",
    "from tqdm.notebook import tqdm\n",
    "import matplotlib.pyplot as plt\n",
    "from tensorflow.keras import regularizers\n",
    "from tensorflow.keras.layers import Dense, Conv2D, MaxPool2D, Flatten   \n",
    "from tensorflow.keras.layers import Layer, ZeroPadding2D, Input, concatenate\n",
    "from tensorflow.keras.models import Model\n",
    "from tensorflow.keras.optimizers import SGD, Adam\n",
    "from tensorflow.keras.callbacks import ModelCheckpoint, LearningRateScheduler"
   ]
  },
  {
   "cell_type": "markdown",
   "metadata": {},
   "source": [
    "### Helpers"
   ]
  },
  {
   "cell_type": "code",
   "execution_count": 2,
   "metadata": {},
   "outputs": [],
   "source": [
    "# an implication of Pytorch CrossMapLRN2d with Keras\n",
    "class LRN2D(Layer):\n",
    "    \"\"\"\n",
    "    This code is adapted from pylearn2.\n",
    "    License at: https://github.com/lisa-lab/pylearn2/blob/master/LICENSE.txt\n",
    "    \"\"\"\n",
    "\n",
    "    def __init__(self, alpha=1e-4, k=2, beta=0.75, n=5):\n",
    "        if n % 2 == 0:\n",
    "            raise NotImplementedError('LRN2D only works with odd n. n provided: ' + str(n))\n",
    "        super(LRN2D, self).__init__()\n",
    "        self.alpha = alpha\n",
    "        self.k = k\n",
    "        self.beta = beta\n",
    "        self.n = n\n",
    "\n",
    "    def get_output(self, train):\n",
    "        X = self.get_input(train)\n",
    "        b, ch, r, c = X.shape\n",
    "        half_n = self.n // 2\n",
    "        input_sqr = T.sqr(X)\n",
    "        extra_channels = T.alloc(0., b, ch + 2*half_n, r, c)\n",
    "        input_sqr = T.set_subtensor(extra_channels[:, half_n:half_n+ch, :, :], input_sqr)\n",
    "        scale = self.k\n",
    "        for i in range(self.n):\n",
    "            scale += self.alpha * input_sqr[:, i:i+ch, :, :]\n",
    "        scale = scale ** self.beta\n",
    "        return X / scale\n",
    "\n",
    "    def get_config(self):\n",
    "        return {'name': self.__class__.__name__,\n",
    "                'alpha': self.alpha,\n",
    "                'k': self.k,\n",
    "                'beta': self.beta,\n",
    "                'n': self.n}\n",
    "\n",
    "    \n",
    "\n",
    "# another implication of Pytorch CrossMapLRN2d with Keras\n",
    "class LocalResponseNormalization(Layer):\n",
    "  \n",
    "    def __init__(self, n=5, alpha=1e-4, beta=0.75, k=2, **kwargs):\n",
    "        self.n = n\n",
    "        self.alpha = alpha\n",
    "        self.beta = beta\n",
    "        self.k = k\n",
    "        super(LocalResponseNormalization, self).__init__(**kwargs)\n",
    "\n",
    "    def build(self, input_shape):\n",
    "        self.shape = input_shape\n",
    "        super(LocalResponseNormalization, self).build(input_shape)\n",
    "\n",
    "    def call(self, x):\n",
    "        _, r, c, f = self.shape \n",
    "        squared = K.square(x)\n",
    "        pooled = K.pool2d(squared, (self.n, self.n), strides=(1,1), padding='same', pool_mode='avg')\n",
    "        summed = K.sum(pooled, axis=3, keepdims=True)\n",
    "        averaged = self.alpha * K.repeat_elements(summed, f, axis=3)\n",
    "        denom = K.pow(self.k + averaged, self.beta)\n",
    "        return x / denom \n",
    "    \n",
    "    def compute_output_shape(self, input_shape):\n",
    "        return input_shape\n",
    "\n",
    "\n",
    "\n",
    "# Function for changing learning rate over epochs\n",
    "def lr_decay(epoch):\n",
    "    decay = .1\n",
    "    lr = base_lr * math.pow(decay, (epoch // 30))   \n",
    "    return lr\n"
   ]
  },
  {
   "cell_type": "markdown",
   "metadata": {},
   "source": [
    "## **1. Data**"
   ]
  },
  {
   "cell_type": "code",
   "execution_count": 10,
   "metadata": {},
   "outputs": [
    {
     "data": {
      "application/vnd.jupyter.widget-view+json": {
       "model_id": "eca4ae24fb4a493097f046f9ad9951ba",
       "version_major": 2,
       "version_minor": 0
      },
      "text/plain": [
       "HBox(children=(FloatProgress(value=0.0, max=5.0), HTML(value='')))"
      ]
     },
     "metadata": {},
     "output_type": "display_data"
    },
    {
     "name": "stdout",
     "output_type": "stream",
     "text": [
      "\n"
     ]
    }
   ],
   "source": [
    "# load the scaled dataset\n",
    "path = 'D:/ETE/Data/Data_Mini_4Os/pickles/'\n",
    "pickles = ['left_eye', 'right_eye', 'face', 'grid_paper', 'labels']\n",
    "\n",
    "for pkl in tqdm(pickles):\n",
    "    with open(path + pkl + '.pkl','rb') as f:\n",
    "        exec(pkl + ' = pickle.load(f)')"
   ]
  },
  {
   "cell_type": "markdown",
   "metadata": {},
   "source": [
    "## **2. The Model**"
   ]
  },
  {
   "cell_type": "markdown",
   "metadata": {},
   "source": [
    "### **Eye Net**"
   ]
  },
  {
   "cell_type": "code",
   "execution_count": 3,
   "metadata": {},
   "outputs": [],
   "source": [
    "eye_input = Input(shape=(64,64,3))\n",
    "eye_cnn1_out = Conv2D(filters=96,\n",
    "                       kernel_size=11,\n",
    "                       strides=4,\n",
    "                       padding='valid',\n",
    "                       activation='relu',\n",
    "                       kernel_regularizer=regularizers.l2(1e-4),\n",
    "                       input_shape=(224,224,3))(eye_input)\n",
    "eye_max1_out = MaxPool2D(pool_size=3, strides=2)(eye_cnn1_out)\n",
    "eye_lrn1_out = LRN2D(n=5, alpha=1e-4, beta=0.75, k=1.0)(eye_max1_out)\n",
    "eye_zro1_out = ZeroPadding2D(padding=2)(eye_lrn1_out)\n",
    "eye_cnn2_out = Conv2D(filters=256,\n",
    "                      kernel_size=5,\n",
    "                      strides=1,\n",
    "                      padding='valid',\n",
    "                      #groups=2,\n",
    "                      activation='relu',\n",
    "                      kernel_regularizer=regularizers.l2(1e-4))(eye_zro1_out)\n",
    "eye_max2_out = MaxPool2D(pool_size=3, strides=2)(eye_cnn2_out)\n",
    "eye_lrn2_out = LRN2D(n=5, alpha=1e-4, beta=0.75, k=1.0)(eye_max2_out)\n",
    "eye_cnn3_out = Conv2D(filters=384,\n",
    "                      kernel_size=3,\n",
    "                      strides=1,\n",
    "                      padding='same',\n",
    "                      activation='relu',\n",
    "                      kernel_regularizer=regularizers.l2(1e-4))(eye_lrn2_out)\n",
    "eye_cnn4_out = Conv2D(filters=64,\n",
    "                      kernel_size=1,\n",
    "                      strides=1,\n",
    "                      padding='valid',\n",
    "                      activation='relu',\n",
    "                      kernel_regularizer=regularizers.l2(1e-4))(eye_cnn3_out)\n",
    "eye_out = Flatten()(eye_cnn4_out)\n",
    "\n",
    "model_eye = Model(eye_input, eye_out)\n"
   ]
  },
  {
   "cell_type": "markdown",
   "metadata": {},
   "source": [
    "### **Face Net**"
   ]
  },
  {
   "cell_type": "code",
   "execution_count": 4,
   "metadata": {},
   "outputs": [],
   "source": [
    "face_input = Input(shape=(64,64,3))\n",
    "face_cnn1_out = Conv2D(filters=96,\n",
    "                       kernel_size=11,\n",
    "                       strides=4,\n",
    "                       padding='valid',\n",
    "                       activation='relu',\n",
    "                       kernel_regularizer=regularizers.l2(1e-4),\n",
    "                       input_shape=(224,224,3))(face_input)\n",
    "face_max1_out = MaxPool2D(pool_size=3, strides=2)(face_cnn1_out)\n",
    "face_lrn1_out = LRN2D(n=5, alpha=1e-4, beta=0.75, k=1.0)(face_max1_out)\n",
    "face_zro1_out = ZeroPadding2D(padding=2)(face_lrn1_out)\n",
    "face_cnn2_out = Conv2D(filters=256,\n",
    "                       kernel_size=5,\n",
    "                       strides=1,\n",
    "                       padding='valid',\n",
    "                       #groups=2,\n",
    "                       activation='relu',\n",
    "                       kernel_regularizer=regularizers.l2(1e-4))(face_zro1_out)\n",
    "face_max2_out = MaxPool2D(pool_size=3, strides=2)(face_cnn2_out)\n",
    "face_lrn2_out = LRN2D(n=5, alpha=1e-4, beta=0.75, k=1.0)(face_max2_out)\n",
    "face_cnn3_out = Conv2D(filters=384,\n",
    "                       kernel_size=3,\n",
    "                       strides=1,\n",
    "                       padding='same',\n",
    "                       activation='relu',\n",
    "                       kernel_regularizer=regularizers.l2(1e-4))(face_lrn2_out)\n",
    "face_cnn4_out = Conv2D(filters=64,\n",
    "                       kernel_size=1,\n",
    "                       strides=1,\n",
    "                       padding='valid',\n",
    "                       activation='relu',\n",
    "                       kernel_regularizer=regularizers.l2(1e-4))(face_cnn3_out)\n",
    "face_flt_out = Flatten()(face_cnn4_out)\n",
    "face_dns_out = Dense(128, activation = 'relu',\n",
    "                     kernel_regularizer=regularizers.l2(1e-4))(face_flt_out)\n",
    "face_out = Dense(64, activation = 'relu')(face_dns_out)\n"
   ]
  },
  {
   "cell_type": "markdown",
   "metadata": {},
   "source": [
    "### **Papaer Grid Net**"
   ]
  },
  {
   "cell_type": "code",
   "execution_count": 5,
   "metadata": {},
   "outputs": [],
   "source": [
    "grid_input = Input(shape=(25,25))\n",
    "grid_flt_out = Flatten()(grid_input)\n",
    "grid_dns_out = Dense(256, activation = 'relu',\n",
    "                     kernel_regularizer=regularizers.l2(1e-4))(grid_flt_out)\n",
    "grid_out = Dense(128, activation = 'relu',\n",
    "                 kernel_regularizer=regularizers.l2(1e-4))(grid_dns_out)\n"
   ]
  },
  {
   "cell_type": "markdown",
   "metadata": {},
   "source": [
    "### **Merge the Eyes' Nets**"
   ]
  },
  {
   "cell_type": "code",
   "execution_count": 6,
   "metadata": {},
   "outputs": [],
   "source": [
    "eye_left_input = Input(shape=(64,64,3))\n",
    "eye_right_input = Input(shape=(64,64,3))\n",
    "eye_left_out = model_eye(eye_left_input)\n",
    "eye_right_out = model_eye(eye_right_input)\n",
    "\n",
    "concat_eyes = concatenate([eye_left_out, eye_right_out])\n",
    "\n",
    "eyes_out = Dense(128, activation='relu',\n",
    "                 kernel_regularizer=regularizers.l2(1e-4))(concat_eyes)\n"
   ]
  },
  {
   "cell_type": "markdown",
   "metadata": {},
   "source": [
    "### **Merge the Eyes, Face, and the Grid Nets**"
   ]
  },
  {
   "cell_type": "code",
   "execution_count": 7,
   "metadata": {},
   "outputs": [],
   "source": [
    "concat_all = concatenate([eyes_out, face_out, grid_out])\n",
    "\n",
    "final_dns_out = Dense(128, activation='relu',\n",
    "                      kernel_regularizer=regularizers.l2(1e-4))(concat_all)\n",
    "final_out = Dense(2, activation='relu',\n",
    "                  kernel_regularizer=regularizers.l2(1e-4))(final_dns_out)\n",
    "\n",
    "final_model = Model([eye_left_input, eye_right_input, face_input, grid_input], final_out)\n"
   ]
  },
  {
   "cell_type": "code",
   "execution_count": 8,
   "metadata": {},
   "outputs": [
    {
     "name": "stdout",
     "output_type": "stream",
     "text": [
      "Model: \"model_1\"\n",
      "__________________________________________________________________________________________________\n",
      "Layer (type)                    Output Shape         Param #     Connected to                     \n",
      "==================================================================================================\n",
      "input_2 (InputLayer)            [(None, 64, 64, 3)]  0                                            \n",
      "__________________________________________________________________________________________________\n",
      "conv2d_4 (Conv2D)               (None, 14, 14, 96)   34944       input_2[0][0]                    \n",
      "__________________________________________________________________________________________________\n",
      "max_pooling2d_2 (MaxPooling2D)  (None, 6, 6, 96)     0           conv2d_4[0][0]                   \n",
      "__________________________________________________________________________________________________\n",
      "lr_n2d_2 (LRN2D)                (None, 6, 6, 96)     0           max_pooling2d_2[0][0]            \n",
      "__________________________________________________________________________________________________\n",
      "zero_padding2d_1 (ZeroPadding2D (None, 10, 10, 96)   0           lr_n2d_2[0][0]                   \n",
      "__________________________________________________________________________________________________\n",
      "conv2d_5 (Conv2D)               (None, 6, 6, 256)    614656      zero_padding2d_1[0][0]           \n",
      "__________________________________________________________________________________________________\n",
      "max_pooling2d_3 (MaxPooling2D)  (None, 2, 2, 256)    0           conv2d_5[0][0]                   \n",
      "__________________________________________________________________________________________________\n",
      "lr_n2d_3 (LRN2D)                (None, 2, 2, 256)    0           max_pooling2d_3[0][0]            \n",
      "__________________________________________________________________________________________________\n",
      "conv2d_6 (Conv2D)               (None, 2, 2, 384)    885120      lr_n2d_3[0][0]                   \n",
      "__________________________________________________________________________________________________\n",
      "input_4 (InputLayer)            [(None, 64, 64, 3)]  0                                            \n",
      "__________________________________________________________________________________________________\n",
      "input_5 (InputLayer)            [(None, 64, 64, 3)]  0                                            \n",
      "__________________________________________________________________________________________________\n",
      "conv2d_7 (Conv2D)               (None, 2, 2, 64)     24640       conv2d_6[0][0]                   \n",
      "__________________________________________________________________________________________________\n",
      "input_3 (InputLayer)            [(None, 25, 25)]     0                                            \n",
      "__________________________________________________________________________________________________\n",
      "model (Model)                   (None, 256)          1559360     input_4[0][0]                    \n",
      "                                                                 input_5[0][0]                    \n",
      "__________________________________________________________________________________________________\n",
      "flatten_1 (Flatten)             (None, 256)          0           conv2d_7[0][0]                   \n",
      "__________________________________________________________________________________________________\n",
      "flatten_2 (Flatten)             (None, 625)          0           input_3[0][0]                    \n",
      "__________________________________________________________________________________________________\n",
      "concatenate (Concatenate)       (None, 512)          0           model[1][0]                      \n",
      "                                                                 model[2][0]                      \n",
      "__________________________________________________________________________________________________\n",
      "dense (Dense)                   (None, 128)          32896       flatten_1[0][0]                  \n",
      "__________________________________________________________________________________________________\n",
      "dense_2 (Dense)                 (None, 256)          160256      flatten_2[0][0]                  \n",
      "__________________________________________________________________________________________________\n",
      "dense_4 (Dense)                 (None, 128)          65664       concatenate[0][0]                \n",
      "__________________________________________________________________________________________________\n",
      "dense_1 (Dense)                 (None, 64)           8256        dense[0][0]                      \n",
      "__________________________________________________________________________________________________\n",
      "dense_3 (Dense)                 (None, 128)          32896       dense_2[0][0]                    \n",
      "__________________________________________________________________________________________________\n",
      "concatenate_1 (Concatenate)     (None, 320)          0           dense_4[0][0]                    \n",
      "                                                                 dense_1[0][0]                    \n",
      "                                                                 dense_3[0][0]                    \n",
      "__________________________________________________________________________________________________\n",
      "dense_5 (Dense)                 (None, 128)          41088       concatenate_1[0][0]              \n",
      "__________________________________________________________________________________________________\n",
      "dense_6 (Dense)                 (None, 2)            258         dense_5[0][0]                    \n",
      "==================================================================================================\n",
      "Total params: 3,460,034\n",
      "Trainable params: 3,460,034\n",
      "Non-trainable params: 0\n",
      "__________________________________________________________________________________________________\n"
     ]
    }
   ],
   "source": [
    "final_model.summary()"
   ]
  },
  {
   "cell_type": "markdown",
   "metadata": {},
   "source": [
    "## **3. Training**"
   ]
  },
  {
   "cell_type": "code",
   "execution_count": 9,
   "metadata": {},
   "outputs": [],
   "source": [
    "lr_callback = LearningRateScheduler(lr_decay)\n",
    "checkpointer = ModelCheckpoint(filepath='./weights/paper_small.hdf5', monitor='val_loss',\n",
    "                               verbose=1, save_best_only=True)\n",
    "base_lr = 0.0001\n",
    "momentum = 0.9\n",
    "\n",
    "# sgd = SGD(lr=base_lr, momentum=momentum)\n",
    "sgd = SGD(lr=1e-1, decay=5e-4, momentum=9e-1, nesterov=True)\n",
    "adam = Adam(lr=1e-1)"
   ]
  },
  {
   "cell_type": "code",
   "execution_count": 12,
   "metadata": {},
   "outputs": [
    {
     "name": "stdout",
     "output_type": "stream",
     "text": [
      "Train on 7992 samples, validate on 1998 samples\n",
      "Epoch 1/20\n",
      "7968/7992 [============================>.] - ETA: 0s - loss: 20.7155 - mae: 3.2831\n",
      "Epoch 00001: val_loss did not improve from 22.46018\n",
      "7992/7992 [==============================] - 8s 1ms/sample - loss: 20.7162 - mae: 3.2835 - val_loss: 23.2932 - val_mae: 3.5340\n",
      "Epoch 2/20\n",
      "7968/7992 [============================>.] - ETA: 0s - loss: 19.2033 - mae: 3.1081\n",
      "Epoch 00002: val_loss improved from 22.46018 to 22.37709, saving model to Weights.hdf5\n",
      "7992/7992 [==============================] - 6s 758us/sample - loss: 19.1978 - mae: 3.1083 - val_loss: 22.3771 - val_mae: 3.4416\n",
      "Epoch 3/20\n",
      "7936/7992 [============================>.] - ETA: 0s - loss: 18.6447 - mae: 3.0269\n",
      "Epoch 00003: val_loss did not improve from 22.37709\n",
      "7992/7992 [==============================] - 6s 701us/sample - loss: 18.6429 - mae: 3.0268 - val_loss: 22.6145 - val_mae: 3.4612\n",
      "Epoch 4/20\n",
      "7904/7992 [============================>.] - ETA: 0s - loss: 18.2112 - mae: 2.9529\n",
      "Epoch 00004: val_loss improved from 22.37709 to 22.34780, saving model to Weights.hdf5\n",
      "7992/7992 [==============================] - 6s 708us/sample - loss: 18.1993 - mae: 2.9523 - val_loss: 22.3478 - val_mae: 3.4300\n",
      "Epoch 5/20\n",
      "7936/7992 [============================>.] - ETA: 0s - loss: 17.8892 - mae: 2.8986\n",
      "Epoch 00005: val_loss improved from 22.34780 to 22.26109, saving model to Weights.hdf5\n",
      "7992/7992 [==============================] - 6s 758us/sample - loss: 17.8816 - mae: 2.8974 - val_loss: 22.2611 - val_mae: 3.4213\n",
      "Epoch 6/20\n",
      "7904/7992 [============================>.] - ETA: 0s - loss: 17.6987 - mae: 2.8573\n",
      "Epoch 00006: val_loss improved from 22.26109 to 22.23201, saving model to Weights.hdf5\n",
      "7992/7992 [==============================] - 5s 674us/sample - loss: 17.6763 - mae: 2.8550 - val_loss: 22.2320 - val_mae: 3.4177\n",
      "Epoch 7/20\n",
      "7904/7992 [============================>.] - ETA: 0s - loss: 17.4874 - mae: 2.8192\n",
      "Epoch 00007: val_loss did not improve from 22.23201\n",
      "7992/7992 [==============================] - 5s 664us/sample - loss: 17.5041 - mae: 2.8202 - val_loss: 22.6642 - val_mae: 3.4543\n",
      "Epoch 8/20\n",
      "7968/7992 [============================>.] - ETA: 0s - loss: 17.4664 - mae: 2.8145\n",
      "Epoch 00008: val_loss did not improve from 22.23201\n",
      "7992/7992 [==============================] - 5s 677us/sample - loss: 17.4819 - mae: 2.8157 - val_loss: 22.6098 - val_mae: 3.4619\n",
      "Epoch 9/20\n",
      "7968/7992 [============================>.] - ETA: 0s - loss: 17.2548 - mae: 2.7666\n",
      "Epoch 00009: val_loss did not improve from 22.23201\n",
      "7992/7992 [==============================] - 5s 675us/sample - loss: 17.2697 - mae: 2.7677 - val_loss: 22.3872 - val_mae: 3.4382\n",
      "Epoch 10/20\n",
      "7904/7992 [============================>.] - ETA: 0s - loss: 17.1986 - mae: 2.7555\n",
      "Epoch 00010: val_loss did not improve from 22.23201\n",
      "7992/7992 [==============================] - 5s 658us/sample - loss: 17.2242 - mae: 2.7572 - val_loss: 22.5268 - val_mae: 3.4398\n",
      "Epoch 11/20\n",
      "7904/7992 [============================>.] - ETA: 0s - loss: 17.0132 - mae: 2.7056\n",
      "Epoch 00011: val_loss did not improve from 22.23201\n",
      "7992/7992 [==============================] - 5s 658us/sample - loss: 17.0133 - mae: 2.7075 - val_loss: 22.3718 - val_mae: 3.4355\n",
      "Epoch 12/20\n",
      "7904/7992 [============================>.] - ETA: 0s - loss: 16.9122 - mae: 2.6835\n",
      "Epoch 00012: val_loss improved from 22.23201 to 22.21496, saving model to Weights.hdf5\n",
      "7992/7992 [==============================] - 6s 708us/sample - loss: 16.9294 - mae: 2.6848 - val_loss: 22.2150 - val_mae: 3.4165\n",
      "Epoch 13/20\n",
      "7904/7992 [============================>.] - ETA: 0s - loss: 16.9871 - mae: 2.6980\n",
      "Epoch 00013: val_loss did not improve from 22.21496\n",
      "7992/7992 [==============================] - 5s 671us/sample - loss: 16.9633 - mae: 2.6954 - val_loss: 22.3389 - val_mae: 3.4285\n",
      "Epoch 14/20\n",
      "7904/7992 [============================>.] - ETA: 0s - loss: 16.9132 - mae: 2.6784 ETA: 0s - loss: 16.8740 - m\n",
      "Epoch 00014: val_loss did not improve from 22.21496\n",
      "7992/7992 [==============================] - 5s 668us/sample - loss: 16.8998 - mae: 2.6778 - val_loss: 22.2158 - val_mae: 3.4172\n",
      "Epoch 15/20\n",
      "7904/7992 [============================>.] - ETA: 0s - loss: 16.8253 - mae: 2.6617\n",
      "Epoch 00015: val_loss did not improve from 22.21496\n",
      "7992/7992 [==============================] - 5s 656us/sample - loss: 16.8354 - mae: 2.6626 - val_loss: 22.2643 - val_mae: 3.4194\n",
      "Epoch 16/20\n",
      "7904/7992 [============================>.] - ETA: 0s - loss: 16.7085 - mae: 2.6141\n",
      "Epoch 00016: val_loss did not improve from 22.21496\n",
      "7992/7992 [==============================] - 5s 671us/sample - loss: 16.6871 - mae: 2.6148 - val_loss: 22.3412 - val_mae: 3.4320\n",
      "Epoch 17/20\n",
      "7904/7992 [============================>.] - ETA: 0s - loss: 16.7133 - mae: 2.6091\n",
      "Epoch 00017: val_loss did not improve from 22.21496\n",
      "7992/7992 [==============================] - 5s 670us/sample - loss: 16.6652 - mae: 2.6042 - val_loss: 22.2970 - val_mae: 3.4285\n",
      "Epoch 18/20\n",
      "7904/7992 [============================>.] - ETA: 0s - loss: 16.6347 - mae: 2.6001\n",
      "Epoch 00018: val_loss did not improve from 22.21496\n",
      "7992/7992 [==============================] - 5s 665us/sample - loss: 16.6376 - mae: 2.6002 - val_loss: 22.2677 - val_mae: 3.4245\n",
      "Epoch 19/20\n",
      "7904/7992 [============================>.] - ETA: 0s - loss: 16.5866 - mae: 2.5888\n",
      "Epoch 00019: val_loss improved from 22.21496 to 22.18594, saving model to Weights.hdf5\n",
      "7992/7992 [==============================] - 6s 728us/sample - loss: 16.5985 - mae: 2.5874 - val_loss: 22.1859 - val_mae: 3.4154\n",
      "Epoch 20/20\n",
      "7904/7992 [============================>.] - ETA: 0s - loss: 16.5963 - mae: 2.5856\n",
      "Epoch 00020: val_loss did not improve from 22.18594\n",
      "7992/7992 [==============================] - 5s 645us/sample - loss: 16.5914 - mae: 2.5845 - val_loss: 22.2047 - val_mae: 3.4152\n"
     ]
    },
    {
     "data": {
      "text/plain": [
       "<tensorflow.python.keras.callbacks.History at 0x28cef4e6b08>"
      ]
     },
     "execution_count": 12,
     "metadata": {},
     "output_type": "execute_result"
    }
   ],
   "source": [
    "final_model.compile(optimizer=adam, loss='mse', metrics=['mae'])\n",
    "\n",
    "final_model.fit(x=[left_eye, right_eye, face, grid_paper], \n",
    "          y=labels,\n",
    "          batch_size=32,\n",
    "          epochs=20,\n",
    "          validation_split=0.2,\n",
    "          shuffle=True,\n",
    "          callbacks=[lr_callback, checkpointer])\n"
   ]
  }
 ],
 "metadata": {
  "kernelspec": {
   "display_name": "Python 3",
   "language": "python",
   "name": "python3"
  },
  "language_info": {
   "codemirror_mode": {
    "name": "ipython",
    "version": 3
   },
   "file_extension": ".py",
   "mimetype": "text/x-python",
   "name": "python",
   "nbconvert_exporter": "python",
   "pygments_lexer": "ipython3",
   "version": "3.7.7"
  }
 },
 "nbformat": 4,
 "nbformat_minor": 2
}
