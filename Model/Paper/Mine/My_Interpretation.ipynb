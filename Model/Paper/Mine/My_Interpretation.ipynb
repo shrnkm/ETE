{
 "cells": [
  {
   "cell_type": "code",
   "execution_count": 2,
   "metadata": {},
   "outputs": [],
   "source": [
    "import numpy as np\n",
    "import pandas as pd\n",
    "import tensorflow as tf\n",
    "from tensorflow.keras import Sequential, layers\n",
    "from tensorflow.keras.callbacks import ModelCheckpoint\n",
    "\n",
    "# tf.compat.v1.logging.set_verbosity(tf.compat.v1.logging.ERROR)"
   ]
  },
  {
   "cell_type": "markdown",
   "metadata": {},
   "source": [
    "## Eye Net"
   ]
  },
  {
   "cell_type": "code",
   "execution_count": 5,
   "metadata": {},
   "outputs": [
    {
     "ename": "SyntaxError",
     "evalue": "invalid syntax (<ipython-input-5-0695bd1a962b>, line 14)",
     "output_type": "error",
     "traceback": [
      "\u001b[1;36m  File \u001b[1;32m\"<ipython-input-5-0695bd1a962b>\"\u001b[1;36m, line \u001b[1;32m14\u001b[0m\n\u001b[1;33m    model_e.add(layers.MaxPool2D(pool_size=3, strides=2))\u001b[0m\n\u001b[1;37m          ^\u001b[0m\n\u001b[1;31mSyntaxError\u001b[0m\u001b[1;31m:\u001b[0m invalid syntax\n"
     ]
    }
   ],
   "source": [
    "model_e = Sequential()\n",
    "\n",
    "model_e.add(layers.Conv2D(filters=96,\n",
    "                          kernel_size=11,\n",
    "                          strides=4,\n",
    "                          activation='relu',\n",
    "                          input_shape=(224,224,3)))\n",
    "model_e.add(layers.MaxPool2D(pool_size=3, strides=2))\n",
    "model_e.add(layers.BatchNormalization())\n",
    "\n",
    "model_e.add(layers.Conv2D(filters=256,\n",
    "                          kernel_size=5,\n",
    "                          activation='relu')\n",
    "model_e.add(layers.MaxPool2D(pool_size=3, strides=2))\n",
    "model_e.add(layers.BatchNormalization())\n",
    "\n",
    "model_e.add(layers.Conv2D(filters=384,\n",
    "                          kernel_size=3,\n",
    "                          activation='relu')\n",
    "\n",
    "model_e.add(layers.Conv2D(filters=64,\n",
    "                          kernel_size=1,\n",
    "                          activation='relu')\n",
    "\n",
    "model_e.add(layers.Flatten())\n"
   ]
  },
  {
   "cell_type": "markdown",
   "metadata": {},
   "source": [
    "## Right Eye Net"
   ]
  },
  {
   "cell_type": "code",
   "execution_count": null,
   "metadata": {},
   "outputs": [],
   "source": [
    "model_r = Sequential()\n",
    "\n",
    "model_r.add(layers.Conv2D(filters=96,\n",
    "                          kernel_size=11,\n",
    "                          strides=4,\n",
    "                          activation='relu',\n",
    "                          input_shape=(224,224,3)))\n",
    "model_r.add(layers.MaxPool2D(pool_size=3, strides=2))\n",
    "model_r.add(layers.BatchNormalization())\n",
    "\n",
    "model_r.add(layers.Conv2D(filters=256,\n",
    "                          kernel_size=5,\n",
    "                          activation='relu')\n",
    "model_r.add(layers.MaxPool2D(pool_size=3, strides=2))\n",
    "model_r.add(layers.BatchNormalization())\n",
    "\n",
    "model_r.add(layers.Conv2D(filters=384,\n",
    "                          kernel_size=3,\n",
    "                          activation='relu')\n",
    "\n",
    "model_r.add(layers.Conv2D(filters=64,\n",
    "                          kernel_size=1,\n",
    "                          activation='relu')\n",
    "\n",
    "model_r.add(layers.Flatten())\n"
   ]
  },
  {
   "cell_type": "markdown",
   "metadata": {},
   "source": [
    "## Face Net"
   ]
  },
  {
   "cell_type": "code",
   "execution_count": null,
   "metadata": {},
   "outputs": [],
   "source": [
    "model_f = Sequential()\n",
    "\n",
    "model_f.add(layers.Conv2D(filters=96,\n",
    "                          kernel_size=11,\n",
    "                          strides=4,\n",
    "                          activation='relu',\n",
    "                          input_shape=(224,224,3)))\n",
    "model_f.add(layers.MaxPool2D(pool_size=3, strides=2))\n",
    "model_f.add(layers.BatchNormalization())\n",
    "\n",
    "model_f.add(layers.Conv2D(filters=256,\n",
    "                          kernel_size=5,\n",
    "                          activation='relu')\n",
    "model_f.add(layers.MaxPool2D(pool_size=3, strides=2))\n",
    "model_f.add(layers.BatchNormalization())\n",
    "\n",
    "model_f.add(layers.Conv2D(filters=384,\n",
    "                          kernel_size=3,\n",
    "                          activation='relu')\n",
    "\n",
    "model_f.add(layers.Conv2D(filters=64,\n",
    "                          kernel_size=1,\n",
    "                          activation='relu')\n",
    "\n",
    "model_f.add(layers.Flatten())\n"
   ]
  },
  {
   "cell_type": "markdown",
   "metadata": {},
   "source": [
    "## Grid Net"
   ]
  },
  {
   "cell_type": "code",
   "execution_count": null,
   "metadata": {},
   "outputs": [],
   "source": [
    "model_g = Sequential()\n",
    "\n",
    "model_g.add(layers.Flatten())\n",
    "model_g.add(layers.Dense(256, activation = 'relu'))\n",
    "model_g.add(layers.Dense(128, activation = 'relu'))"
   ]
  }
 ],
 "metadata": {
  "kernelspec": {
   "display_name": "Python 3",
   "language": "python",
   "name": "python3"
  },
  "language_info": {
   "codemirror_mode": {
    "name": "ipython",
    "version": 3
   },
   "file_extension": ".py",
   "mimetype": "text/x-python",
   "name": "python",
   "nbconvert_exporter": "python",
   "pygments_lexer": "ipython3",
   "version": "3.7.5"
  }
 },
 "nbformat": 4,
 "nbformat_minor": 2
}
