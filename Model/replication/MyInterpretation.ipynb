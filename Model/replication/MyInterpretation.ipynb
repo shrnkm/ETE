{
 "cells": [
  {
   "cell_type": "code",
   "execution_count": 1,
   "metadata": {},
   "outputs": [],
   "source": [
    "import random\n",
    "import numpy as np\n",
    "import pandas as pd\n",
    "import tensorflow as tf\n",
    "import matplotlib.pyplot as plt\n",
    "from tqdm.notebook import tqdm\n",
    "from tensorflow.keras import Sequential, layers\n",
    "from tensorflow.keras.callbacks import ModelCheckpoint\n",
    "\n",
    "tf.compat.v1.logging.set_verbosity(tf.compat.v1.logging.ERROR)"
   ]
  },
  {
   "cell_type": "markdown",
   "metadata": {},
   "source": [
    "## Left Eye Net"
   ]
  },
  {
   "cell_type": "code",
   "execution_count": null,
   "metadata": {},
   "outputs": [],
   "source": [
    "model_l = Sequential()\n",
    "\n",
    "model_l.add(layers.Conv2D(filters=96,\n",
    "                          kernel_size=11,\n",
    "                          strides=4,\n",
    "                          activation='relu',\n",
    "                          input_shape=(224,224,3)))\n",
    "model_l.add(layers.MaxPool2D(pool_size=3, strides=2))\n",
    "model_l.add(layers.BatchNormalization())\n",
    "\n",
    "model_l.add(layers.Conv2D(filters=256,\n",
    "                          kernel_size=5,\n",
    "                          activation='relu')\n",
    "model_l.add(layers.MaxPool2D(pool_size=3, strides=2))\n",
    "model_l.add(layers.BatchNormalization())\n",
    "\n",
    "model_l.add(layers.Conv2D(filters=384,\n",
    "                          kernel_size=3,\n",
    "                          activation='relu')\n",
    "\n",
    "model_l.add(layers.Conv2D(filters=64,\n",
    "                          kernel_size=1,\n",
    "                          activation='relu')\n",
    "\n",
    "model_l.add(layers.Flatten())\n"
   ]
  },
  {
   "cell_type": "markdown",
   "metadata": {},
   "source": [
    "## Right Eye Net"
   ]
  },
  {
   "cell_type": "code",
   "execution_count": null,
   "metadata": {},
   "outputs": [],
   "source": [
    "model_r = Sequential()\n",
    "\n",
    "model_r.add(layers.Conv2D(filters=96,\n",
    "                          kernel_size=11,\n",
    "                          strides=4,\n",
    "                          activation='relu',\n",
    "                          input_shape=(224,224,3)))\n",
    "model_r.add(layers.MaxPool2D(pool_size=3, strides=2))\n",
    "model_r.add(layers.BatchNormalization())\n",
    "\n",
    "model_r.add(layers.Conv2D(filters=256,\n",
    "                          kernel_size=5,\n",
    "                          activation='relu')\n",
    "model_r.add(layers.MaxPool2D(pool_size=3, strides=2))\n",
    "model_r.add(layers.BatchNormalization())\n",
    "\n",
    "model_r.add(layers.Conv2D(filters=384,\n",
    "                          kernel_size=3,\n",
    "                          activation='relu')\n",
    "\n",
    "model_r.add(layers.Conv2D(filters=64,\n",
    "                          kernel_size=1,\n",
    "                          activation='relu')\n",
    "\n",
    "model_r.add(layers.Flatten())\n"
   ]
  },
  {
   "cell_type": "markdown",
   "metadata": {},
   "source": [
    "## Face Net"
   ]
  },
  {
   "cell_type": "code",
   "execution_count": null,
   "metadata": {},
   "outputs": [],
   "source": [
    "model_f = Sequential()\n",
    "\n",
    "model_f.add(layers.Conv2D(filters=96,\n",
    "                          kernel_size=11,\n",
    "                          strides=4,\n",
    "                          activation='relu',\n",
    "                          input_shape=(224,224,3)))\n",
    "model_f.add(layers.MaxPool2D(pool_size=3, strides=2))\n",
    "model_f.add(layers.BatchNormalization())\n",
    "\n",
    "model_f.add(layers.Conv2D(filters=256,\n",
    "                          kernel_size=5,\n",
    "                          activation='relu')\n",
    "model_f.add(layers.MaxPool2D(pool_size=3, strides=2))\n",
    "model_f.add(layers.BatchNormalization())\n",
    "\n",
    "model_f.add(layers.Conv2D(filters=384,\n",
    "                          kernel_size=3,\n",
    "                          activation='relu')\n",
    "\n",
    "model_f.add(layers.Conv2D(filters=64,\n",
    "                          kernel_size=1,\n",
    "                          activation='relu')\n",
    "\n",
    "model_f.add(layers.Flatten())\n"
   ]
  },
  {
   "cell_type": "markdown",
   "metadata": {},
   "source": [
    "## Grid Net"
   ]
  },
  {
   "cell_type": "code",
   "execution_count": null,
   "metadata": {},
   "outputs": [],
   "source": [
    "model_g = Sequential()\n",
    "\n",
    "model_g.add(layers.Flatten())\n",
    "model_g.add(layers.Dense(256, activation = 'relu'))\n",
    "model_g.add(layers.Dense(128, activation = 'relu'))"
   ]
  }
 ],
 "metadata": {
  "kernelspec": {
   "display_name": "Python 3",
   "language": "python",
   "name": "python3"
  },
  "language_info": {
   "codemirror_mode": {
    "name": "ipython",
    "version": 3
   },
   "file_extension": ".py",
   "mimetype": "text/x-python",
   "name": "python",
   "nbconvert_exporter": "python",
   "pygments_lexer": "ipython3",
   "version": "3.7.5"
  }
 },
 "nbformat": 4,
 "nbformat_minor": 2
}
