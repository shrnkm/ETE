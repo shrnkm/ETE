{
 "cells": [
  {
   "cell_type": "code",
   "execution_count": 1,
   "metadata": {},
   "outputs": [],
   "source": [
    "import math\n",
    "import pickle\n",
    "import numpy as np\n",
    "import tensorflow as tf\n",
    "from tqdm.notebook import tqdm\n",
    "import matplotlib.pyplot as plt\n",
    "from tensorflow.keras import regularizers\n",
    "from tensorflow.keras.layers import Dense, Conv2D, MaxPool2D, Flatten   \n",
    "from tensorflow.keras.layers import Layer, ZeroPadding2D, Input, concatenate\n",
    "from tensorflow.keras.models import Model\n",
    "from tensorflow.keras.optimizers import SGD, Adam\n",
    "from tensorflow.keras.callbacks import ModelCheckpoint, LearningRateScheduler"
   ]
  },
  {
   "cell_type": "markdown",
   "metadata": {},
   "source": [
    "### Helpers"
   ]
  },
  {
   "cell_type": "code",
   "execution_count": 2,
   "metadata": {},
   "outputs": [],
   "source": [
    "# an implication of Pytorch CrossMapLRN2d with Keras\n",
    "class LRN2D(Layer):\n",
    "    \"\"\"\n",
    "    This code is adapted from pylearn2.\n",
    "    License at: https://github.com/lisa-lab/pylearn2/blob/master/LICENSE.txt\n",
    "    \"\"\"\n",
    "\n",
    "    def __init__(self, alpha=1e-4, k=2, beta=0.75, n=5):\n",
    "        if n % 2 == 0:\n",
    "            raise NotImplementedError('LRN2D only works with odd n. n provided: ' + str(n))\n",
    "        super(LRN2D, self).__init__()\n",
    "        self.alpha = alpha\n",
    "        self.k = k\n",
    "        self.beta = beta\n",
    "        self.n = n\n",
    "\n",
    "    def get_output(self, train):\n",
    "        X = self.get_input(train)\n",
    "        b, ch, r, c = X.shape\n",
    "        half_n = self.n // 2\n",
    "        input_sqr = T.sqr(X)\n",
    "        extra_channels = T.alloc(0., b, ch + 2*half_n, r, c)\n",
    "        input_sqr = T.set_subtensor(extra_channels[:, half_n:half_n+ch, :, :], input_sqr)\n",
    "        scale = self.k\n",
    "        for i in range(self.n):\n",
    "            scale += self.alpha * input_sqr[:, i:i+ch, :, :]\n",
    "        scale = scale ** self.beta\n",
    "        return X / scale\n",
    "\n",
    "    def get_config(self):\n",
    "        return {'name': self.__class__.__name__,\n",
    "                'alpha': self.alpha,\n",
    "                'k': self.k,\n",
    "                'beta': self.beta,\n",
    "                'n': self.n}\n",
    "\n",
    "    \n",
    "\n",
    "# another implication of Pytorch CrossMapLRN2d with Keras\n",
    "class LocalResponseNormalization(Layer):\n",
    "  \n",
    "    def __init__(self, n=5, alpha=1e-4, beta=0.75, k=2, **kwargs):\n",
    "        self.n = n\n",
    "        self.alpha = alpha\n",
    "        self.beta = beta\n",
    "        self.k = k\n",
    "        super(LocalResponseNormalization, self).__init__(**kwargs)\n",
    "\n",
    "    def build(self, input_shape):\n",
    "        self.shape = input_shape\n",
    "        super(LocalResponseNormalization, self).build(input_shape)\n",
    "\n",
    "    def call(self, x):\n",
    "        _, r, c, f = self.shape \n",
    "        squared = K.square(x)\n",
    "        pooled = K.pool2d(squared, (self.n, self.n), strides=(1,1), padding='same', pool_mode='avg')\n",
    "        summed = K.sum(pooled, axis=3, keepdims=True)\n",
    "        averaged = self.alpha * K.repeat_elements(summed, f, axis=3)\n",
    "        denom = K.pow(self.k + averaged, self.beta)\n",
    "        return x / denom \n",
    "    \n",
    "    def compute_output_shape(self, input_shape):\n",
    "        return input_shape\n",
    "\n",
    "\n",
    "\n",
    "# Function for changing learning rate over epochs\n",
    "def lr_decay(epoch):\n",
    "    decay = .1\n",
    "    lr = base_lr * math.pow(decay, (epoch // 30))   \n",
    "    return lr\n"
   ]
  },
  {
   "cell_type": "markdown",
   "metadata": {},
   "source": [
    "## **1. Data**"
   ]
  },
  {
   "cell_type": "code",
   "execution_count": 11,
   "metadata": {},
   "outputs": [
    {
     "data": {
      "application/vnd.jupyter.widget-view+json": {
       "model_id": "d4b61c8ab4014ed693428ae53314cda4",
       "version_major": 2,
       "version_minor": 0
      },
      "text/plain": [
       "HBox(children=(FloatProgress(value=0.0, max=5.0), HTML(value='')))"
      ]
     },
     "metadata": {},
     "output_type": "display_data"
    },
    {
     "name": "stdout",
     "output_type": "stream",
     "text": [
      "\n"
     ]
    }
   ],
   "source": [
    "# load the scaled dataset\n",
    "path = 'D:/ETE/Data/Data_Mini_4Os/pickles/'\n",
    "pickles = ['left_eye', 'right_eye', 'face', 'grid_mtcnn', 'labels']\n",
    "\n",
    "for pkl in tqdm(pickles):\n",
    "    with open(path + pkl + '.pkl','rb') as f:\n",
    "        exec(pkl + ' = pickle.load(f)')"
   ]
  },
  {
   "cell_type": "markdown",
   "metadata": {},
   "source": [
    "## **2. The Model**"
   ]
  },
  {
   "cell_type": "markdown",
   "metadata": {},
   "source": [
    "### **Eye Net**"
   ]
  },
  {
   "cell_type": "code",
   "execution_count": 3,
   "metadata": {},
   "outputs": [],
   "source": [
    "eye_input = Input(shape=(64,64,3))\n",
    "eye_cnn1_out = Conv2D(filters=96,\n",
    "                       kernel_size=11,\n",
    "                       strides=4,\n",
    "                       padding='valid',\n",
    "                       activation='relu',\n",
    "                       kernel_regularizer=regularizers.l2(1e-4),\n",
    "                       input_shape=(224,224,3))(eye_input)\n",
    "eye_max1_out = MaxPool2D(pool_size=3, strides=2)(eye_cnn1_out)\n",
    "eye_lrn1_out = LRN2D(n=5, alpha=1e-4, beta=0.75, k=1.0)(eye_max1_out)\n",
    "eye_zro1_out = ZeroPadding2D(padding=2)(eye_lrn1_out)\n",
    "eye_cnn2_out = Conv2D(filters=256,\n",
    "                      kernel_size=5,\n",
    "                      strides=1,\n",
    "                      padding='valid',\n",
    "                      #groups=2,\n",
    "                      activation='relu',\n",
    "                      kernel_regularizer=regularizers.l2(1e-4))(eye_zro1_out)\n",
    "eye_max2_out = MaxPool2D(pool_size=3, strides=2)(eye_cnn2_out)\n",
    "eye_lrn2_out = LRN2D(n=5, alpha=1e-4, beta=0.75, k=1.0)(eye_max2_out)\n",
    "eye_cnn3_out = Conv2D(filters=384,\n",
    "                      kernel_size=3,\n",
    "                      strides=1,\n",
    "                      padding='same',\n",
    "                      activation='relu',\n",
    "                      kernel_regularizer=regularizers.l2(1e-4))(eye_lrn2_out)\n",
    "eye_cnn4_out = Conv2D(filters=64,\n",
    "                      kernel_size=1,\n",
    "                      strides=1,\n",
    "                      padding='valid',\n",
    "                      activation='relu',\n",
    "                      kernel_regularizer=regularizers.l2(1e-4))(eye_cnn3_out)\n",
    "eye_out = Flatten()(eye_cnn4_out)\n",
    "\n",
    "model_eye = Model(eye_input, eye_out)\n"
   ]
  },
  {
   "cell_type": "markdown",
   "metadata": {},
   "source": [
    "### **Face Net**"
   ]
  },
  {
   "cell_type": "code",
   "execution_count": 4,
   "metadata": {},
   "outputs": [],
   "source": [
    "face_input = Input(shape=(64,64,3))\n",
    "face_cnn1_out = Conv2D(filters=96,\n",
    "                       kernel_size=11,\n",
    "                       strides=4,\n",
    "                       padding='valid',\n",
    "                       activation='relu',\n",
    "                       kernel_regularizer=regularizers.l2(1e-4),\n",
    "                       input_shape=(224,224,3))(face_input)\n",
    "face_max1_out = MaxPool2D(pool_size=3, strides=2)(face_cnn1_out)\n",
    "face_lrn1_out = LRN2D(n=5, alpha=1e-4, beta=0.75, k=1.0)(face_max1_out)\n",
    "face_zro1_out = ZeroPadding2D(padding=2)(face_lrn1_out)\n",
    "face_cnn2_out = Conv2D(filters=256,\n",
    "                       kernel_size=5,\n",
    "                       strides=1,\n",
    "                       padding='valid',\n",
    "                       #groups=2,\n",
    "                       activation='relu',\n",
    "                       kernel_regularizer=regularizers.l2(1e-4))(face_zro1_out)\n",
    "face_max2_out = MaxPool2D(pool_size=3, strides=2)(face_cnn2_out)\n",
    "face_lrn2_out = LRN2D(n=5, alpha=1e-4, beta=0.75, k=1.0)(face_max2_out)\n",
    "face_cnn3_out = Conv2D(filters=384,\n",
    "                       kernel_size=3,\n",
    "                       strides=1,\n",
    "                       padding='same',\n",
    "                       activation='relu',\n",
    "                       kernel_regularizer=regularizers.l2(1e-4))(face_lrn2_out)\n",
    "face_cnn4_out = Conv2D(filters=64,\n",
    "                       kernel_size=1,\n",
    "                       strides=1,\n",
    "                       padding='valid',\n",
    "                       activation='relu',\n",
    "                       kernel_regularizer=regularizers.l2(1e-4))(face_cnn3_out)\n",
    "face_flt_out = Flatten()(face_cnn4_out)\n",
    "face_dns_out = Dense(128, activation = 'relu',\n",
    "                     kernel_regularizer=regularizers.l2(1e-4))(face_flt_out)\n",
    "face_out = Dense(64, activation = 'relu')(face_dns_out)\n"
   ]
  },
  {
   "cell_type": "markdown",
   "metadata": {},
   "source": [
    "### **MTCNN Grid Net**"
   ]
  },
  {
   "cell_type": "code",
   "execution_count": 5,
   "metadata": {},
   "outputs": [],
   "source": [
    "grid_input = Input(shape=(50,50))\n",
    "grid_flt_out = Flatten()(grid_input)\n",
    "grid_dns_out = Dense(256, activation = 'relu',\n",
    "                     kernel_regularizer=regularizers.l2(1e-4))(grid_flt_out)\n",
    "grid_out = Dense(128, activation = 'relu',\n",
    "                 kernel_regularizer=regularizers.l2(1e-4))(grid_dns_out)\n"
   ]
  },
  {
   "cell_type": "markdown",
   "metadata": {},
   "source": [
    "### **Merge the Eyes' Nets**"
   ]
  },
  {
   "cell_type": "code",
   "execution_count": 6,
   "metadata": {},
   "outputs": [],
   "source": [
    "eye_left_input = Input(shape=(64,64,3))\n",
    "eye_right_input = Input(shape=(64,64,3))\n",
    "eye_left_out = model_eye(eye_left_input)\n",
    "eye_right_out = model_eye(eye_right_input)\n",
    "\n",
    "concat_eyes = concatenate([eye_left_out, eye_right_out])\n",
    "\n",
    "eyes_out = Dense(128, activation='relu',\n",
    "                 kernel_regularizer=regularizers.l2(1e-4))(concat_eyes)\n"
   ]
  },
  {
   "cell_type": "markdown",
   "metadata": {},
   "source": [
    "### **Merge the Eyes, Face, and the Grid Nets**"
   ]
  },
  {
   "cell_type": "code",
   "execution_count": 7,
   "metadata": {},
   "outputs": [],
   "source": [
    "concat_all = concatenate([eyes_out, face_out, grid_out])\n",
    "\n",
    "final_dns_out = Dense(128, activation='relu',\n",
    "                      kernel_regularizer=regularizers.l2(1e-4))(concat_all)\n",
    "final_out = Dense(2, activation='relu',\n",
    "                  kernel_regularizer=regularizers.l2(1e-4))(final_dns_out)\n",
    "\n",
    "final_model = Model([eye_left_input, eye_right_input, face_input, grid_input], final_out)\n"
   ]
  },
  {
   "cell_type": "code",
   "execution_count": 8,
   "metadata": {},
   "outputs": [
    {
     "name": "stdout",
     "output_type": "stream",
     "text": [
      "Model: \"model_1\"\n",
      "__________________________________________________________________________________________________\n",
      "Layer (type)                    Output Shape         Param #     Connected to                     \n",
      "==================================================================================================\n",
      "input_2 (InputLayer)            [(None, 64, 64, 3)]  0                                            \n",
      "__________________________________________________________________________________________________\n",
      "conv2d_4 (Conv2D)               (None, 14, 14, 96)   34944       input_2[0][0]                    \n",
      "__________________________________________________________________________________________________\n",
      "max_pooling2d_2 (MaxPooling2D)  (None, 6, 6, 96)     0           conv2d_4[0][0]                   \n",
      "__________________________________________________________________________________________________\n",
      "lr_n2d_2 (LRN2D)                (None, 6, 6, 96)     0           max_pooling2d_2[0][0]            \n",
      "__________________________________________________________________________________________________\n",
      "zero_padding2d_1 (ZeroPadding2D (None, 10, 10, 96)   0           lr_n2d_2[0][0]                   \n",
      "__________________________________________________________________________________________________\n",
      "conv2d_5 (Conv2D)               (None, 6, 6, 256)    614656      zero_padding2d_1[0][0]           \n",
      "__________________________________________________________________________________________________\n",
      "max_pooling2d_3 (MaxPooling2D)  (None, 2, 2, 256)    0           conv2d_5[0][0]                   \n",
      "__________________________________________________________________________________________________\n",
      "lr_n2d_3 (LRN2D)                (None, 2, 2, 256)    0           max_pooling2d_3[0][0]            \n",
      "__________________________________________________________________________________________________\n",
      "conv2d_6 (Conv2D)               (None, 2, 2, 384)    885120      lr_n2d_3[0][0]                   \n",
      "__________________________________________________________________________________________________\n",
      "input_4 (InputLayer)            [(None, 64, 64, 3)]  0                                            \n",
      "__________________________________________________________________________________________________\n",
      "input_5 (InputLayer)            [(None, 64, 64, 3)]  0                                            \n",
      "__________________________________________________________________________________________________\n",
      "conv2d_7 (Conv2D)               (None, 2, 2, 64)     24640       conv2d_6[0][0]                   \n",
      "__________________________________________________________________________________________________\n",
      "input_3 (InputLayer)            [(None, 50, 50)]     0                                            \n",
      "__________________________________________________________________________________________________\n",
      "model (Model)                   (None, 256)          1559360     input_4[0][0]                    \n",
      "                                                                 input_5[0][0]                    \n",
      "__________________________________________________________________________________________________\n",
      "flatten_1 (Flatten)             (None, 256)          0           conv2d_7[0][0]                   \n",
      "__________________________________________________________________________________________________\n",
      "flatten_2 (Flatten)             (None, 2500)         0           input_3[0][0]                    \n",
      "__________________________________________________________________________________________________\n",
      "concatenate (Concatenate)       (None, 512)          0           model[1][0]                      \n",
      "                                                                 model[2][0]                      \n",
      "__________________________________________________________________________________________________\n",
      "dense (Dense)                   (None, 128)          32896       flatten_1[0][0]                  \n",
      "__________________________________________________________________________________________________\n",
      "dense_2 (Dense)                 (None, 256)          640256      flatten_2[0][0]                  \n",
      "__________________________________________________________________________________________________\n",
      "dense_4 (Dense)                 (None, 128)          65664       concatenate[0][0]                \n",
      "__________________________________________________________________________________________________\n",
      "dense_1 (Dense)                 (None, 64)           8256        dense[0][0]                      \n",
      "__________________________________________________________________________________________________\n",
      "dense_3 (Dense)                 (None, 128)          32896       dense_2[0][0]                    \n",
      "__________________________________________________________________________________________________\n",
      "concatenate_1 (Concatenate)     (None, 320)          0           dense_4[0][0]                    \n",
      "                                                                 dense_1[0][0]                    \n",
      "                                                                 dense_3[0][0]                    \n",
      "__________________________________________________________________________________________________\n",
      "dense_5 (Dense)                 (None, 128)          41088       concatenate_1[0][0]              \n",
      "__________________________________________________________________________________________________\n",
      "dense_6 (Dense)                 (None, 2)            258         dense_5[0][0]                    \n",
      "==================================================================================================\n",
      "Total params: 3,940,034\n",
      "Trainable params: 3,940,034\n",
      "Non-trainable params: 0\n",
      "__________________________________________________________________________________________________\n"
     ]
    }
   ],
   "source": [
    "final_model.summary()"
   ]
  },
  {
   "cell_type": "markdown",
   "metadata": {},
   "source": [
    "## **3. Training**"
   ]
  },
  {
   "cell_type": "code",
   "execution_count": 9,
   "metadata": {},
   "outputs": [],
   "source": [
    "lr_callback = LearningRateScheduler(lr_decay)\n",
    "checkpointer = ModelCheckpoint(filepath='./weights/mtcnn_grid.hdf5', monitor='val_loss',\n",
    "                               verbose=1, save_best_only=True)\n",
    "base_lr = 0.0001\n",
    "momentum = 0.9\n",
    "\n",
    "# sgd = SGD(lr=base_lr, momentum=momentum)\n",
    "sgd = SGD(lr=1e-1, decay=5e-4, momentum=9e-1, nesterov=True)\n",
    "adam = Adam(lr=1e-1)"
   ]
  },
  {
   "cell_type": "code",
   "execution_count": 13,
   "metadata": {},
   "outputs": [
    {
     "name": "stdout",
     "output_type": "stream",
     "text": [
      "Train on 7992 samples, validate on 1998 samples\n",
      "Epoch 1/20\n",
      "7936/7992 [============================>.] - ETA: 0s - loss: 20.4633 - mae: 3.2340\n",
      "Epoch 00001: val_loss did not improve from 21.43046\n",
      "7992/7992 [==============================] - 8s 957us/sample - loss: 20.5143 - mae: 3.2360 - val_loss: 22.3005 - val_mae: 3.4181\n",
      "Epoch 2/20\n",
      "7904/7992 [============================>.] - ETA: 0s - loss: 19.2964 - mae: 3.0959\n",
      "Epoch 00002: val_loss did not improve from 21.43046\n",
      "7992/7992 [==============================] - 6s 719us/sample - loss: 19.3010 - mae: 3.0958 - val_loss: 21.8929 - val_mae: 3.3717\n",
      "Epoch 3/20\n",
      "7968/7992 [============================>.] - ETA: 0s - loss: 18.5559 - mae: 2.9790\n",
      "Epoch 00003: val_loss did not improve from 21.43046\n",
      "7992/7992 [==============================] - 6s 737us/sample - loss: 18.5531 - mae: 2.9789 - val_loss: 21.5489 - val_mae: 3.3583\n",
      "Epoch 4/20\n",
      "7936/7992 [============================>.] - ETA: 0s - loss: 18.1731 - mae: 2.9198\n",
      "Epoch 00004: val_loss did not improve from 21.43046\n",
      "7992/7992 [==============================] - 6s 733us/sample - loss: 18.1803 - mae: 2.9199 - val_loss: 22.1386 - val_mae: 3.3994\n",
      "Epoch 5/20\n",
      "7904/7992 [============================>.] - ETA: 0s - loss: 18.1594 - mae: 2.9135\n",
      "Epoch 00005: val_loss did not improve from 21.43046\n",
      "7992/7992 [==============================] - 6s 746us/sample - loss: 18.1022 - mae: 2.9099 - val_loss: 21.9361 - val_mae: 3.3954\n",
      "Epoch 6/20\n",
      "7904/7992 [============================>.] - ETA: 0s - loss: 17.9253 - mae: 2.8743\n",
      "Epoch 00006: val_loss did not improve from 21.43046\n",
      "7992/7992 [==============================] - 5s 677us/sample - loss: 17.9006 - mae: 2.8720 - val_loss: 21.8646 - val_mae: 3.3946\n",
      "Epoch 7/20\n",
      "7904/7992 [============================>.] - ETA: 0s - loss: 17.7041 - mae: 2.8393\n",
      "Epoch 00007: val_loss did not improve from 21.43046\n",
      "7992/7992 [==============================] - 6s 718us/sample - loss: 17.7016 - mae: 2.8391 - val_loss: 22.0276 - val_mae: 3.4156\n",
      "Epoch 8/20\n",
      "7936/7992 [============================>.] - ETA: 0s - loss: 17.5655 - mae: 2.8229\n",
      "Epoch 00008: val_loss did not improve from 21.43046\n",
      "7992/7992 [==============================] - 6s 737us/sample - loss: 17.5621 - mae: 2.8228 - val_loss: 21.7529 - val_mae: 3.3780\n",
      "Epoch 9/20\n",
      "7904/7992 [============================>.] - ETA: 0s - loss: 17.3911 - mae: 2.7858 ETA: 0s - loss: 17.3370 - mae: 2.\n",
      "Epoch 00009: val_loss did not improve from 21.43046\n",
      "7992/7992 [==============================] - 6s 730us/sample - loss: 17.3895 - mae: 2.7853 - val_loss: 21.9587 - val_mae: 3.4002\n",
      "Epoch 10/20\n",
      "7904/7992 [============================>.] - ETA: 0s - loss: 17.2791 - mae: 2.7679\n",
      "Epoch 00010: val_loss did not improve from 21.43046\n",
      "7992/7992 [==============================] - 6s 724us/sample - loss: 17.2940 - mae: 2.7696 - val_loss: 21.8799 - val_mae: 3.3947\n",
      "Epoch 11/20\n",
      "7936/7992 [============================>.] - ETA: 0s - loss: 17.1807 - mae: 2.7474\n",
      "Epoch 00011: val_loss did not improve from 21.43046\n",
      "7992/7992 [==============================] - 6s 757us/sample - loss: 17.1976 - mae: 2.7480 - val_loss: 21.7884 - val_mae: 3.3820\n",
      "Epoch 12/20\n",
      "7968/7992 [============================>.] - ETA: 0s - loss: 17.0046 - mae: 2.7055 ETA: 0s - loss: 16.9901\n",
      "Epoch 00012: val_loss did not improve from 21.43046\n",
      "7992/7992 [==============================] - 6s 715us/sample - loss: 17.0216 - mae: 2.7071 - val_loss: 21.8268 - val_mae: 3.3874\n",
      "Epoch 13/20\n",
      "7968/7992 [============================>.] - ETA: 0s - loss: 16.9996 - mae: 2.7027\n",
      "Epoch 00013: val_loss did not improve from 21.43046\n",
      "7992/7992 [==============================] - 6s 731us/sample - loss: 16.9998 - mae: 2.7024 - val_loss: 21.5710 - val_mae: 3.3570\n",
      "Epoch 14/20\n",
      "7936/7992 [============================>.] - ETA: 0s - loss: 16.9622 - mae: 2.7023 ETA: 0s - loss: 16.8550 - mae: \n",
      "Epoch 00014: val_loss did not improve from 21.43046\n",
      "7992/7992 [==============================] - 6s 723us/sample - loss: 16.9741 - mae: 2.7029 - val_loss: 21.7593 - val_mae: 3.3889\n",
      "Epoch 15/20\n",
      "7904/7992 [============================>.] - ETA: 0s - loss: 16.8430 - mae: 2.6556\n",
      "Epoch 00015: val_loss did not improve from 21.43046\n",
      "7992/7992 [==============================] - 6s 726us/sample - loss: 16.8084 - mae: 2.6527 - val_loss: 21.5208 - val_mae: 3.3511\n",
      "Epoch 16/20\n",
      "7904/7992 [============================>.] - ETA: 0s - loss: 16.7929 - mae: 2.6426\n",
      "Epoch 00016: val_loss did not improve from 21.43046\n",
      "7992/7992 [==============================] - 6s 693us/sample - loss: 16.7746 - mae: 2.6426 - val_loss: 21.7375 - val_mae: 3.3692\n",
      "Epoch 17/20\n",
      "7968/7992 [============================>.] - ETA: 0s - loss: 16.7175 - mae: 2.6270\n",
      "Epoch 00017: val_loss did not improve from 21.43046\n",
      "7992/7992 [==============================] - 6s 694us/sample - loss: 16.7289 - mae: 2.6280 - val_loss: 21.7720 - val_mae: 3.3851\n",
      "Epoch 18/20\n",
      "7968/7992 [============================>.] - ETA: 0s - loss: 16.7095 - mae: 2.6183\n",
      "Epoch 00018: val_loss did not improve from 21.43046\n",
      "7992/7992 [==============================] - 6s 708us/sample - loss: 16.6983 - mae: 2.6173 - val_loss: 21.7698 - val_mae: 3.3697\n",
      "Epoch 19/20\n",
      "7904/7992 [============================>.] - ETA: 0s - loss: 16.6438 - mae: 2.6147\n",
      "Epoch 00019: val_loss did not improve from 21.43046\n",
      "7992/7992 [==============================] - 6s 699us/sample - loss: 16.6780 - mae: 2.6178 - val_loss: 21.6608 - val_mae: 3.3667\n",
      "Epoch 20/20\n",
      "7904/7992 [============================>.] - ETA: 0s - loss: 16.6814 - mae: 2.6169\n",
      "Epoch 00020: val_loss did not improve from 21.43046\n",
      "7992/7992 [==============================] - 6s 705us/sample - loss: 16.6846 - mae: 2.6179 - val_loss: 21.5770 - val_mae: 3.3473\n"
     ]
    },
    {
     "data": {
      "text/plain": [
       "<tensorflow.python.keras.callbacks.History at 0x181d8c3eac8>"
      ]
     },
     "execution_count": 13,
     "metadata": {},
     "output_type": "execute_result"
    }
   ],
   "source": [
    "final_model.compile(optimizer=adam, loss='mse', metrics=['mae'])\n",
    "\n",
    "final_model.fit(x=[left_eye, right_eye, face, grid_mtcnn], \n",
    "          y=labels,\n",
    "          batch_size=32,\n",
    "          epochs=20,\n",
    "          validation_split=0.2,\n",
    "          shuffle=True,\n",
    "          callbacks=[lr_callback, checkpointer])\n",
    "\n",
    "#val_loss: 21.4305 - val_mae: 3.3473\n"
   ]
  }
 ],
 "metadata": {
  "kernelspec": {
   "display_name": "Python 3",
   "language": "python",
   "name": "python3"
  },
  "language_info": {
   "codemirror_mode": {
    "name": "ipython",
    "version": 3
   },
   "file_extension": ".py",
   "mimetype": "text/x-python",
   "name": "python",
   "nbconvert_exporter": "python",
   "pygments_lexer": "ipython3",
   "version": "3.7.7"
  }
 },
 "nbformat": 4,
 "nbformat_minor": 2
}
