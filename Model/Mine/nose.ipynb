{
 "cells": [
  {
   "cell_type": "code",
   "execution_count": 1,
   "metadata": {},
   "outputs": [],
   "source": [
    "import math\n",
    "import pickle\n",
    "import numpy as np\n",
    "import tensorflow as tf\n",
    "from tqdm.notebook import tqdm\n",
    "import matplotlib.pyplot as plt\n",
    "from tensorflow.keras import regularizers\n",
    "from tensorflow.keras.layers import Dense, Conv2D, MaxPool2D, Flatten   \n",
    "from tensorflow.keras.layers import Layer, ZeroPadding2D, Input, concatenate\n",
    "from tensorflow.keras.models import Model\n",
    "from tensorflow.keras.optimizers import SGD, Adam\n",
    "from tensorflow.keras.callbacks import ModelCheckpoint, LearningRateScheduler"
   ]
  },
  {
   "cell_type": "markdown",
   "metadata": {},
   "source": [
    "### Helpers"
   ]
  },
  {
   "cell_type": "code",
   "execution_count": 2,
   "metadata": {},
   "outputs": [],
   "source": [
    "# an implication of Pytorch CrossMapLRN2d with Keras\n",
    "class LRN2D(Layer):\n",
    "    \"\"\"\n",
    "    This code is adapted from pylearn2.\n",
    "    License at: https://github.com/lisa-lab/pylearn2/blob/master/LICENSE.txt\n",
    "    \"\"\"\n",
    "\n",
    "    def __init__(self, alpha=1e-4, k=2, beta=0.75, n=5):\n",
    "        if n % 2 == 0:\n",
    "            raise NotImplementedError('LRN2D only works with odd n. n provided: ' + str(n))\n",
    "        super(LRN2D, self).__init__()\n",
    "        self.alpha = alpha\n",
    "        self.k = k\n",
    "        self.beta = beta\n",
    "        self.n = n\n",
    "\n",
    "    def get_output(self, train):\n",
    "        X = self.get_input(train)\n",
    "        b, ch, r, c = X.shape\n",
    "        half_n = self.n // 2\n",
    "        input_sqr = T.sqr(X)\n",
    "        extra_channels = T.alloc(0., b, ch + 2*half_n, r, c)\n",
    "        input_sqr = T.set_subtensor(extra_channels[:, half_n:half_n+ch, :, :], input_sqr)\n",
    "        scale = self.k\n",
    "        for i in range(self.n):\n",
    "            scale += self.alpha * input_sqr[:, i:i+ch, :, :]\n",
    "        scale = scale ** self.beta\n",
    "        return X / scale\n",
    "\n",
    "    def get_config(self):\n",
    "        return {'name': self.__class__.__name__,\n",
    "                'alpha': self.alpha,\n",
    "                'k': self.k,\n",
    "                'beta': self.beta,\n",
    "                'n': self.n}\n",
    "\n",
    "    \n",
    "\n",
    "# another implication of Pytorch CrossMapLRN2d with Keras\n",
    "class LocalResponseNormalization(Layer):\n",
    "  \n",
    "    def __init__(self, n=5, alpha=1e-4, beta=0.75, k=2, **kwargs):\n",
    "        self.n = n\n",
    "        self.alpha = alpha\n",
    "        self.beta = beta\n",
    "        self.k = k\n",
    "        super(LocalResponseNormalization, self).__init__(**kwargs)\n",
    "\n",
    "    def build(self, input_shape):\n",
    "        self.shape = input_shape\n",
    "        super(LocalResponseNormalization, self).build(input_shape)\n",
    "\n",
    "    def call(self, x):\n",
    "        _, r, c, f = self.shape \n",
    "        squared = K.square(x)\n",
    "        pooled = K.pool2d(squared, (self.n, self.n), strides=(1,1), padding='same', pool_mode='avg')\n",
    "        summed = K.sum(pooled, axis=3, keepdims=True)\n",
    "        averaged = self.alpha * K.repeat_elements(summed, f, axis=3)\n",
    "        denom = K.pow(self.k + averaged, self.beta)\n",
    "        return x / denom \n",
    "    \n",
    "    def compute_output_shape(self, input_shape):\n",
    "        return input_shape\n",
    "\n",
    "\n",
    "\n",
    "# Function for changing learning rate over epochs\n",
    "def lr_decay(epoch):\n",
    "    decay = .1\n",
    "    lr = base_lr * math.pow(decay, (epoch // 30))   \n",
    "    return lr\n"
   ]
  },
  {
   "cell_type": "markdown",
   "metadata": {},
   "source": [
    "## **1. Data**"
   ]
  },
  {
   "cell_type": "code",
   "execution_count": 11,
   "metadata": {},
   "outputs": [
    {
     "data": {
      "application/vnd.jupyter.widget-view+json": {
       "model_id": "2141f62d5cd544869708b0751f040721",
       "version_major": 2,
       "version_minor": 0
      },
      "text/plain": [
       "HBox(children=(FloatProgress(value=0.0, max=6.0), HTML(value='')))"
      ]
     },
     "metadata": {},
     "output_type": "display_data"
    },
    {
     "name": "stdout",
     "output_type": "stream",
     "text": [
      "\n"
     ]
    }
   ],
   "source": [
    "# load the scaled dataset\n",
    "path = 'D:/ETE/Data/Data_Mini/pickles/'\n",
    "pickles = ['nose', 'left_eye', 'right_eye', 'face', 'grid_paper', 'labels']\n",
    "\n",
    "for pkl in tqdm(pickles):\n",
    "    with open(path + pkl + '.pkl','rb') as f:\n",
    "        exec(pkl + ' = pickle.load(f)')"
   ]
  },
  {
   "cell_type": "markdown",
   "metadata": {},
   "source": [
    "## **2. The Model**"
   ]
  },
  {
   "cell_type": "markdown",
   "metadata": {},
   "source": [
    "### **Eye Nose**"
   ]
  },
  {
   "cell_type": "code",
   "execution_count": 3,
   "metadata": {},
   "outputs": [],
   "source": [
    "nose_input = Input(shape=(64,64,3))\n",
    "nose_cnn1_out = Conv2D(filters=96,\n",
    "                       kernel_size=11,\n",
    "                       strides=4,\n",
    "                       padding='valid',\n",
    "                       activation='relu',\n",
    "                       kernel_regularizer=regularizers.l2(1e-4),\n",
    "                       input_shape=(224,224,3))(nose_input)\n",
    "nose_max1_out = MaxPool2D(pool_size=3, strides=2)(nose_cnn1_out)\n",
    "nose_lrn1_out = LRN2D(n=5, alpha=1e-4, beta=0.75, k=1.0)(nose_max1_out)\n",
    "nose_zro1_out = ZeroPadding2D(padding=2)(nose_lrn1_out)\n",
    "nose_cnn2_out = Conv2D(filters=256,\n",
    "                       kernel_size=5,\n",
    "                       strides=1,\n",
    "                       padding='valid',\n",
    "                       #groups=2,\n",
    "                       activation='relu',\n",
    "                       kernel_regularizer=regularizers.l2(1e-4))(nose_zro1_out)\n",
    "nose_max2_out = MaxPool2D(pool_size=3, strides=2)(nose_cnn2_out)\n",
    "nose_lrn2_out = LRN2D(n=5, alpha=1e-4, beta=0.75, k=1.0)(nose_max2_out)\n",
    "nose_cnn3_out = Conv2D(filters=384,\n",
    "                       kernel_size=3,\n",
    "                       strides=1,\n",
    "                       padding='same',\n",
    "                       activation='relu',\n",
    "                       kernel_regularizer=regularizers.l2(1e-4))(nose_lrn2_out)\n",
    "nose_cnn4_out = Conv2D(filters=64,\n",
    "                       kernel_size=1,\n",
    "                       strides=1,\n",
    "                       padding='valid',\n",
    "                       activation='relu',\n",
    "                       kernel_regularizer=regularizers.l2(1e-4))(nose_cnn3_out)\n",
    "nose_flt_out = Flatten()(nose_cnn4_out)\n",
    "nose_dns_out = Dense(128, activation = 'relu',\n",
    "                     kernel_regularizer=regularizers.l2(1e-4))(nose_flt_out)\n",
    "nose_out = Dense(64, activation = 'relu')(nose_dns_out)\n"
   ]
  },
  {
   "cell_type": "markdown",
   "metadata": {},
   "source": [
    "### **Eye Net**"
   ]
  },
  {
   "cell_type": "code",
   "execution_count": 4,
   "metadata": {},
   "outputs": [],
   "source": [
    "eye_input = Input(shape=(64,64,3))\n",
    "eye_cnn1_out = Conv2D(filters=96,\n",
    "                       kernel_size=11,\n",
    "                       strides=4,\n",
    "                       padding='valid',\n",
    "                       activation='relu',\n",
    "                       kernel_regularizer=regularizers.l2(1e-4),\n",
    "                       input_shape=(224,224,3))(eye_input)\n",
    "eye_max1_out = MaxPool2D(pool_size=3, strides=2)(eye_cnn1_out)\n",
    "eye_lrn1_out = LRN2D(n=5, alpha=1e-4, beta=0.75, k=1.0)(eye_max1_out)\n",
    "eye_zro1_out = ZeroPadding2D(padding=2)(eye_lrn1_out)\n",
    "eye_cnn2_out = Conv2D(filters=256,\n",
    "                      kernel_size=5,\n",
    "                      strides=1,\n",
    "                      padding='valid',\n",
    "                      #groups=2,\n",
    "                      activation='relu',\n",
    "                      kernel_regularizer=regularizers.l2(1e-4))(eye_zro1_out)\n",
    "eye_max2_out = MaxPool2D(pool_size=3, strides=2)(eye_cnn2_out)\n",
    "eye_lrn2_out = LRN2D(n=5, alpha=1e-4, beta=0.75, k=1.0)(eye_max2_out)\n",
    "eye_cnn3_out = Conv2D(filters=384,\n",
    "                      kernel_size=3,\n",
    "                      strides=1,\n",
    "                      padding='same',\n",
    "                      activation='relu',\n",
    "                      kernel_regularizer=regularizers.l2(1e-4))(eye_lrn2_out)\n",
    "eye_cnn4_out = Conv2D(filters=64,\n",
    "                      kernel_size=1,\n",
    "                      strides=1,\n",
    "                      padding='valid',\n",
    "                      activation='relu',\n",
    "                      kernel_regularizer=regularizers.l2(1e-4))(eye_cnn3_out)\n",
    "eye_out = Flatten()(eye_cnn4_out)\n",
    "\n",
    "model_eye = Model(eye_input, eye_out)\n"
   ]
  },
  {
   "cell_type": "markdown",
   "metadata": {},
   "source": [
    "### **Face Net**"
   ]
  },
  {
   "cell_type": "code",
   "execution_count": 5,
   "metadata": {},
   "outputs": [],
   "source": [
    "face_input = Input(shape=(64,64,3))\n",
    "face_cnn1_out = Conv2D(filters=96,\n",
    "                       kernel_size=11,\n",
    "                       strides=4,\n",
    "                       padding='valid',\n",
    "                       activation='relu',\n",
    "                       kernel_regularizer=regularizers.l2(1e-4),\n",
    "                       input_shape=(224,224,3))(face_input)\n",
    "face_max1_out = MaxPool2D(pool_size=3, strides=2)(face_cnn1_out)\n",
    "face_lrn1_out = LRN2D(n=5, alpha=1e-4, beta=0.75, k=1.0)(face_max1_out)\n",
    "face_zro1_out = ZeroPadding2D(padding=2)(face_lrn1_out)\n",
    "face_cnn2_out = Conv2D(filters=256,\n",
    "                       kernel_size=5,\n",
    "                       strides=1,\n",
    "                       padding='valid',\n",
    "                       #groups=2,\n",
    "                       activation='relu',\n",
    "                       kernel_regularizer=regularizers.l2(1e-4))(face_zro1_out)\n",
    "face_max2_out = MaxPool2D(pool_size=3, strides=2)(face_cnn2_out)\n",
    "face_lrn2_out = LRN2D(n=5, alpha=1e-4, beta=0.75, k=1.0)(face_max2_out)\n",
    "face_cnn3_out = Conv2D(filters=384,\n",
    "                       kernel_size=3,\n",
    "                       strides=1,\n",
    "                       padding='same',\n",
    "                       activation='relu',\n",
    "                       kernel_regularizer=regularizers.l2(1e-4))(face_lrn2_out)\n",
    "face_cnn4_out = Conv2D(filters=64,\n",
    "                       kernel_size=1,\n",
    "                       strides=1,\n",
    "                       padding='valid',\n",
    "                       activation='relu',\n",
    "                       kernel_regularizer=regularizers.l2(1e-4))(face_cnn3_out)\n",
    "face_flt_out = Flatten()(face_cnn4_out)\n",
    "face_dns_out = Dense(128, activation = 'relu',\n",
    "                     kernel_regularizer=regularizers.l2(1e-4))(face_flt_out)\n",
    "face_out = Dense(64, activation = 'relu')(face_dns_out)"
   ]
  },
  {
   "cell_type": "markdown",
   "metadata": {},
   "source": [
    "### **Papaer Grid Net**"
   ]
  },
  {
   "cell_type": "code",
   "execution_count": 6,
   "metadata": {},
   "outputs": [],
   "source": [
    "grid_input = Input(shape=(25,25))\n",
    "grid_flt_out = Flatten()(grid_input)\n",
    "grid_dns_out = Dense(256, activation = 'relu',\n",
    "                     kernel_regularizer=regularizers.l2(1e-4))(grid_flt_out)\n",
    "grid_out = Dense(128, activation = 'relu',\n",
    "                 kernel_regularizer=regularizers.l2(1e-4))(grid_dns_out)\n"
   ]
  },
  {
   "cell_type": "markdown",
   "metadata": {},
   "source": [
    "### **Merge the Eyes' Nets**"
   ]
  },
  {
   "cell_type": "code",
   "execution_count": 7,
   "metadata": {},
   "outputs": [],
   "source": [
    "eye_left_input = Input(shape=(64,64,3))\n",
    "eye_right_input = Input(shape=(64,64,3))\n",
    "eye_left_out = model_eye(eye_left_input)\n",
    "eye_right_out = model_eye(eye_right_input)\n",
    "\n",
    "concat_eyes = concatenate([eye_left_out, eye_right_out])\n",
    "\n",
    "eyes_out = Dense(128, activation='relu',\n",
    "                 kernel_regularizer=regularizers.l2(1e-4))(concat_eyes)\n"
   ]
  },
  {
   "cell_type": "markdown",
   "metadata": {},
   "source": [
    "### **Merge the Eyes, Face, and the Grid Nets**"
   ]
  },
  {
   "cell_type": "code",
   "execution_count": 8,
   "metadata": {},
   "outputs": [],
   "source": [
    "concat_all = concatenate([nose_out, eyes_out, face_out, grid_out])\n",
    "\n",
    "final_dns_out = Dense(128, activation='relu',\n",
    "                      kernel_regularizer=regularizers.l2(1e-4))(concat_all)\n",
    "final_out = Dense(2, activation='relu',\n",
    "                  kernel_regularizer=regularizers.l2(1e-4))(final_dns_out)\n",
    "\n",
    "final_model = Model([nose_input, eye_left_input, eye_right_input, face_input, grid_input], final_out)\n"
   ]
  },
  {
   "cell_type": "code",
   "execution_count": 9,
   "metadata": {},
   "outputs": [
    {
     "name": "stdout",
     "output_type": "stream",
     "text": [
      "Model: \"model_1\"\n",
      "__________________________________________________________________________________________________\n",
      "Layer (type)                    Output Shape         Param #     Connected to                     \n",
      "==================================================================================================\n",
      "input_1 (InputLayer)            [(None, 64, 64, 3)]  0                                            \n",
      "__________________________________________________________________________________________________\n",
      "input_3 (InputLayer)            [(None, 64, 64, 3)]  0                                            \n",
      "__________________________________________________________________________________________________\n",
      "conv2d (Conv2D)                 (None, 14, 14, 96)   34944       input_1[0][0]                    \n",
      "__________________________________________________________________________________________________\n",
      "conv2d_8 (Conv2D)               (None, 14, 14, 96)   34944       input_3[0][0]                    \n",
      "__________________________________________________________________________________________________\n",
      "max_pooling2d (MaxPooling2D)    (None, 6, 6, 96)     0           conv2d[0][0]                     \n",
      "__________________________________________________________________________________________________\n",
      "max_pooling2d_4 (MaxPooling2D)  (None, 6, 6, 96)     0           conv2d_8[0][0]                   \n",
      "__________________________________________________________________________________________________\n",
      "lr_n2d (LRN2D)                  (None, 6, 6, 96)     0           max_pooling2d[0][0]              \n",
      "__________________________________________________________________________________________________\n",
      "lr_n2d_4 (LRN2D)                (None, 6, 6, 96)     0           max_pooling2d_4[0][0]            \n",
      "__________________________________________________________________________________________________\n",
      "zero_padding2d (ZeroPadding2D)  (None, 10, 10, 96)   0           lr_n2d[0][0]                     \n",
      "__________________________________________________________________________________________________\n",
      "zero_padding2d_2 (ZeroPadding2D (None, 10, 10, 96)   0           lr_n2d_4[0][0]                   \n",
      "__________________________________________________________________________________________________\n",
      "conv2d_1 (Conv2D)               (None, 6, 6, 256)    614656      zero_padding2d[0][0]             \n",
      "__________________________________________________________________________________________________\n",
      "conv2d_9 (Conv2D)               (None, 6, 6, 256)    614656      zero_padding2d_2[0][0]           \n",
      "__________________________________________________________________________________________________\n",
      "max_pooling2d_1 (MaxPooling2D)  (None, 2, 2, 256)    0           conv2d_1[0][0]                   \n",
      "__________________________________________________________________________________________________\n",
      "max_pooling2d_5 (MaxPooling2D)  (None, 2, 2, 256)    0           conv2d_9[0][0]                   \n",
      "__________________________________________________________________________________________________\n",
      "lr_n2d_1 (LRN2D)                (None, 2, 2, 256)    0           max_pooling2d_1[0][0]            \n",
      "__________________________________________________________________________________________________\n",
      "lr_n2d_5 (LRN2D)                (None, 2, 2, 256)    0           max_pooling2d_5[0][0]            \n",
      "__________________________________________________________________________________________________\n",
      "conv2d_2 (Conv2D)               (None, 2, 2, 384)    885120      lr_n2d_1[0][0]                   \n",
      "__________________________________________________________________________________________________\n",
      "conv2d_10 (Conv2D)              (None, 2, 2, 384)    885120      lr_n2d_5[0][0]                   \n",
      "__________________________________________________________________________________________________\n",
      "conv2d_3 (Conv2D)               (None, 2, 2, 64)     24640       conv2d_2[0][0]                   \n",
      "__________________________________________________________________________________________________\n",
      "input_5 (InputLayer)            [(None, 64, 64, 3)]  0                                            \n",
      "__________________________________________________________________________________________________\n",
      "input_6 (InputLayer)            [(None, 64, 64, 3)]  0                                            \n",
      "__________________________________________________________________________________________________\n",
      "conv2d_11 (Conv2D)              (None, 2, 2, 64)     24640       conv2d_10[0][0]                  \n",
      "__________________________________________________________________________________________________\n",
      "input_4 (InputLayer)            [(None, 25, 25)]     0                                            \n",
      "__________________________________________________________________________________________________\n",
      "flatten (Flatten)               (None, 256)          0           conv2d_3[0][0]                   \n",
      "__________________________________________________________________________________________________\n",
      "model (Model)                   (None, 256)          1559360     input_5[0][0]                    \n",
      "                                                                 input_6[0][0]                    \n",
      "__________________________________________________________________________________________________\n",
      "flatten_2 (Flatten)             (None, 256)          0           conv2d_11[0][0]                  \n",
      "__________________________________________________________________________________________________\n",
      "flatten_3 (Flatten)             (None, 625)          0           input_4[0][0]                    \n",
      "__________________________________________________________________________________________________\n",
      "dense (Dense)                   (None, 128)          32896       flatten[0][0]                    \n",
      "__________________________________________________________________________________________________\n",
      "concatenate (Concatenate)       (None, 512)          0           model[1][0]                      \n",
      "                                                                 model[2][0]                      \n",
      "__________________________________________________________________________________________________\n",
      "dense_2 (Dense)                 (None, 128)          32896       flatten_2[0][0]                  \n",
      "__________________________________________________________________________________________________\n",
      "dense_4 (Dense)                 (None, 256)          160256      flatten_3[0][0]                  \n",
      "__________________________________________________________________________________________________\n",
      "dense_1 (Dense)                 (None, 64)           8256        dense[0][0]                      \n",
      "__________________________________________________________________________________________________\n",
      "dense_6 (Dense)                 (None, 128)          65664       concatenate[0][0]                \n",
      "__________________________________________________________________________________________________\n",
      "dense_3 (Dense)                 (None, 64)           8256        dense_2[0][0]                    \n",
      "__________________________________________________________________________________________________\n",
      "dense_5 (Dense)                 (None, 128)          32896       dense_4[0][0]                    \n",
      "__________________________________________________________________________________________________\n",
      "concatenate_1 (Concatenate)     (None, 384)          0           dense_1[0][0]                    \n",
      "                                                                 dense_6[0][0]                    \n",
      "                                                                 dense_3[0][0]                    \n",
      "                                                                 dense_5[0][0]                    \n",
      "__________________________________________________________________________________________________\n",
      "dense_7 (Dense)                 (None, 128)          49280       concatenate_1[0][0]              \n",
      "__________________________________________________________________________________________________\n",
      "dense_8 (Dense)                 (None, 2)            258         dense_7[0][0]                    \n",
      "==================================================================================================\n",
      "Total params: 5,068,738\n",
      "Trainable params: 5,068,738\n",
      "Non-trainable params: 0\n",
      "__________________________________________________________________________________________________\n"
     ]
    }
   ],
   "source": [
    "final_model.summary()"
   ]
  },
  {
   "cell_type": "markdown",
   "metadata": {},
   "source": [
    "## **3. Training**"
   ]
  },
  {
   "cell_type": "code",
   "execution_count": 10,
   "metadata": {},
   "outputs": [],
   "source": [
    "lr_callback = LearningRateScheduler(lr_decay)\n",
    "checkpointer = ModelCheckpoint(filepath='Weights.hdf5', monitor='val_loss',\n",
    "                               verbose=1, save_best_only=True)\n",
    "base_lr = 0.0001\n",
    "momentum = 0.9\n",
    "\n",
    "# sgd = SGD(lr=base_lr, momentum=momentum)\n",
    "sgd = SGD(lr=1e-1, decay=5e-4, momentum=9e-1, nesterov=True)\n",
    "adam = Adam(lr=1e-1)"
   ]
  },
  {
   "cell_type": "code",
   "execution_count": 13,
   "metadata": {},
   "outputs": [
    {
     "name": "stdout",
     "output_type": "stream",
     "text": [
      "Train on 4800 samples, validate on 1200 samples\n",
      "Epoch 1/25\n",
      "4672/4800 [============================>.] - ETA: 0s - loss: 31.3140 - mae: 4.0825\n",
      "Epoch 00001: val_loss did not improve from 27.50179\n",
      "4800/4800 [==============================] - 5s 991us/sample - loss: 31.2404 - mae: 4.0773 - val_loss: 27.5043 - val_mae: 3.8657\n",
      "Epoch 2/25\n",
      "4672/4800 [============================>.] - ETA: 0s - loss: 31.1260 - mae: 4.0734\n",
      "Epoch 00002: val_loss did not improve from 27.50179\n",
      "4800/4800 [==============================] - 3s 568us/sample - loss: 31.2395 - mae: 4.0771 - val_loss: 27.5063 - val_mae: 3.8662\n",
      "Epoch 3/25\n",
      "4672/4800 [============================>.] - ETA: 0s - loss: 31.3410 - mae: 4.0839 ETA: 1s - loss: 30.7004 - mae:  - ETA: 1s - loss: 31.3305 - ETA: 0s - loss: 31.42\n",
      "Epoch 00003: val_loss did not improve from 27.50179\n",
      "4800/4800 [==============================] - 3s 571us/sample - loss: 31.2399 - mae: 4.0768 - val_loss: 27.5068 - val_mae: 3.8661\n",
      "Epoch 4/25\n",
      "4672/4800 [============================>.] - ETA: 0s - loss: 31.0907 - mae: 4.0712\n",
      "Epoch 00004: val_loss did not improve from 27.50179\n",
      "4800/4800 [==============================] - 3s 566us/sample - loss: 31.2414 - mae: 4.0776 - val_loss: 27.5049 - val_mae: 3.8658\n",
      "Epoch 5/25\n",
      "4672/4800 [============================>.] - ETA: 0s - loss: 31.3409 - mae: 4.0836 ETA: 0s - loss: 31.5082 - mae\n",
      "Epoch 00005: val_loss did not improve from 27.50179\n",
      "4800/4800 [==============================] - 3s 570us/sample - loss: 31.2404 - mae: 4.0772 - val_loss: 27.5052 - val_mae: 3.8659\n",
      "Epoch 6/25\n",
      "4672/4800 [============================>.] - ETA: 0s - loss: 31.2388 - mae: 4.0771\n",
      "Epoch 00006: val_loss did not improve from 27.50179\n",
      "4800/4800 [==============================] - 3s 566us/sample - loss: 31.2395 - mae: 4.0770 - val_loss: 27.5051 - val_mae: 3.8658\n",
      "Epoch 7/25\n",
      "4672/4800 [============================>.] - ETA: 0s - loss: 31.2061 - mae: 4.0781\n",
      "Epoch 00007: val_loss did not improve from 27.50179\n",
      "4800/4800 [==============================] - 3s 576us/sample - loss: 31.2398 - mae: 4.0773 - val_loss: 27.5047 - val_mae: 3.8657\n",
      "Epoch 8/25\n",
      "4672/4800 [============================>.] - ETA: 0s - loss: 31.2232 - mae: 4.0747\n",
      "Epoch 00008: val_loss did not improve from 27.50179\n",
      "4800/4800 [==============================] - 3s 568us/sample - loss: 31.2406 - mae: 4.0774 - val_loss: 27.5056 - val_mae: 3.8660\n",
      "Epoch 9/25\n",
      "4672/4800 [============================>.] - ETA: 0s - loss: 31.1638 - mae: 4.0724\n",
      "Epoch 00009: val_loss did not improve from 27.50179\n",
      "4800/4800 [==============================] - 3s 569us/sample - loss: 31.2398 - mae: 4.0772 - val_loss: 27.5050 - val_mae: 3.8658\n",
      "Epoch 10/25\n",
      "4672/4800 [============================>.] - ETA: 0s - loss: 31.3178 - mae: 4.0806 ETA: 1s - loss: 30.4619 -\n",
      "Epoch 00010: val_loss did not improve from 27.50179\n",
      "4800/4800 [==============================] - 3s 568us/sample - loss: 31.2402 - mae: 4.0769 - val_loss: 27.5051 - val_mae: 3.8658\n",
      "Epoch 11/25\n",
      "4672/4800 [============================>.] - ETA: 0s - loss: 31.2805 - mae: 4.0820\n",
      "Epoch 00011: val_loss did not improve from 27.50179\n",
      "4800/4800 [==============================] - 3s 570us/sample - loss: 31.2393 - mae: 4.0769 - val_loss: 27.5054 - val_mae: 3.8659\n",
      "Epoch 12/25\n",
      "4672/4800 [============================>.] - ETA: 0s - loss: 31.4153 - mae: 4.0883\n",
      "Epoch 00012: val_loss did not improve from 27.50179\n",
      "4800/4800 [==============================] - 3s 565us/sample - loss: 31.2381 - mae: 4.0768 - val_loss: 27.5065 - val_mae: 3.8662\n",
      "Epoch 13/25\n",
      "4672/4800 [============================>.] - ETA: 0s - loss: 31.1217 - mae: 4.0706 E - ETA: 0s - loss: 31.1345 - mae\n",
      "Epoch 00013: val_loss did not improve from 27.50179\n",
      "4800/4800 [==============================] - 3s 570us/sample - loss: 31.2388 - mae: 4.0766 - val_loss: 27.5053 - val_mae: 3.8658\n",
      "Epoch 14/25\n",
      "4672/4800 [============================>.] - ETA: 0s - loss: 31.3396 - mae: 4.0836 ETA: 0s - l\n",
      "Epoch 00014: val_loss did not improve from 27.50179\n",
      "4800/4800 [==============================] - 3s 564us/sample - loss: 31.2397 - mae: 4.0768 - val_loss: 27.5053 - val_mae: 3.8658\n",
      "Epoch 15/25\n",
      "4672/4800 [============================>.] - ETA: 0s - loss: 31.2230 - mae: 4.0778 ETA: 2s - los\n",
      "Epoch 00015: val_loss did not improve from 27.50179\n",
      "4800/4800 [==============================] - 3s 567us/sample - loss: 31.2389 - mae: 4.0771 - val_loss: 27.5053 - val_mae: 3.8658\n",
      "Epoch 16/25\n",
      "4672/4800 [============================>.] - ETA: 0s - loss: 31.1259 - mae: 4.07 - ETA: 0s - loss: 31.1153 - mae: 4.0714\n",
      "Epoch 00016: val_loss did not improve from 27.50179\n",
      "4800/4800 [==============================] - 3s 574us/sample - loss: 31.2387 - mae: 4.0768 - val_loss: 27.5055 - val_mae: 3.8658\n",
      "Epoch 17/25\n",
      "4672/4800 [============================>.] - ETA: 0s - loss: 31.2516 - mae: 4.0777\n",
      "Epoch 00017: val_loss did not improve from 27.50179\n",
      "4800/4800 [==============================] - 3s 566us/sample - loss: 31.2388 - mae: 4.0768 - val_loss: 27.5057 - val_mae: 3.8659\n",
      "Epoch 18/25\n",
      "4672/4800 [============================>.] - ETA: 0s - loss: 31.2903 - mae: 4.0817\n",
      "Epoch 00018: val_loss did not improve from 27.50179\n",
      "4800/4800 [==============================] - 3s 572us/sample - loss: 31.2375 - mae: 4.0767 - val_loss: 27.5056 - val_mae: 3.8659\n",
      "Epoch 19/25\n",
      "4672/4800 [============================>.] - ETA: 0s - loss: 31.2629 - mae: 4.0787\n",
      "Epoch 00019: val_loss did not improve from 27.50179\n",
      "4800/4800 [==============================] - 3s 565us/sample - loss: 31.2372 - mae: 4.0766 - val_loss: 27.5059 - val_mae: 3.8660\n",
      "Epoch 20/25\n",
      "4672/4800 [============================>.] - ETA: 0s - loss: 31.0803 - mae: 4.0677 ETA: 2s - loss:\n",
      "Epoch 00020: val_loss did not improve from 27.50179\n",
      "4800/4800 [==============================] - 3s 573us/sample - loss: 31.2379 - mae: 4.0767 - val_loss: 27.5059 - val_mae: 3.8660\n",
      "Epoch 21/25\n",
      "4672/4800 [============================>.] - ETA: 0s - loss: 31.2505 - mae: 4.0770 ETA: 2s - - ETA: \n",
      "Epoch 00021: val_loss did not improve from 27.50179\n",
      "4800/4800 [==============================] - 3s 566us/sample - loss: 31.2381 - mae: 4.0767 - val_loss: 27.5057 - val_mae: 3.8659\n",
      "Epoch 22/25\n",
      "4672/4800 [============================>.] - ETA: 0s - loss: 31.3978 - mae: 4.0871\n",
      "Epoch 00022: val_loss did not improve from 27.50179\n",
      "4800/4800 [==============================] - 3s 568us/sample - loss: 31.2368 - mae: 4.0765 - val_loss: 27.5057 - val_mae: 3.8659\n",
      "Epoch 23/25\n",
      "4672/4800 [============================>.] - ETA: 0s - loss: 31.2224 - mae: 4.0770 ETA: 0s - loss: 31.2026 - mae\n",
      "Epoch 00023: val_loss did not improve from 27.50179\n",
      "4800/4800 [==============================] - 3s 566us/sample - loss: 31.2374 - mae: 4.0765 - val_loss: 27.5057 - val_mae: 3.8659\n",
      "Epoch 24/25\n",
      "4672/4800 [============================>.] - ETA: 0s - loss: 31.1806 - mae: 4.0747 ETA: 0s - loss: 31.1440 - mae: 4.\n",
      "Epoch 00024: val_loss did not improve from 27.50179\n",
      "4800/4800 [==============================] - 3s 571us/sample - loss: 31.2366 - mae: 4.0765 - val_loss: 27.5061 - val_mae: 3.8660\n",
      "Epoch 25/25\n",
      "4672/4800 [============================>.] - ETA: 0s - loss: 31.1918 - mae: 4.0740 ETA: 0s -\n",
      "Epoch 00025: val_loss did not improve from 27.50179\n",
      "4800/4800 [==============================] - 3s 567us/sample - loss: 31.2370 - mae: 4.0766 - val_loss: 27.5062 - val_mae: 3.8660\n"
     ]
    },
    {
     "data": {
      "text/plain": [
       "<tensorflow.python.keras.callbacks.History at 0x159d89fb148>"
      ]
     },
     "execution_count": 13,
     "metadata": {},
     "output_type": "execute_result"
    }
   ],
   "source": [
    "final_model.compile(optimizer=sgd, loss='mse', metrics=['mae'])\n",
    "\n",
    "final_model.fit(x=[nose[:6000], left_eye[:6000], right_eye[:6000], face[:6000], grid_paper[:6000]], \n",
    "          y=labels[:6000],\n",
    "          batch_size=64,\n",
    "          epochs=25,\n",
    "          validation_split=0.2,\n",
    "          shuffle=True,\n",
    "          callbacks=[lr_callback, checkpointer])\n"
   ]
  }
 ],
 "metadata": {
  "kernelspec": {
   "display_name": "Python 3",
   "language": "python",
   "name": "python3"
  },
  "language_info": {
   "codemirror_mode": {
    "name": "ipython",
    "version": 3
   },
   "file_extension": ".py",
   "mimetype": "text/x-python",
   "name": "python",
   "nbconvert_exporter": "python",
   "pygments_lexer": "ipython3",
   "version": "3.6.5"
  }
 },
 "nbformat": 4,
 "nbformat_minor": 2
}
