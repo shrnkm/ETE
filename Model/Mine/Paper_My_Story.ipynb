{
 "cells": [
  {
   "cell_type": "code",
   "execution_count": 7,
   "metadata": {},
   "outputs": [],
   "source": [
    "import math\n",
    "import pickle\n",
    "import numpy as np\n",
    "import tensorflow as tf\n",
    "from tqdm.notebook import tqdm\n",
    "import matplotlib.pyplot as plt\n",
    "from tensorflow.keras import regularizers\n",
    "from tensorflow.keras.layers import Dense, Conv2D, MaxPool2D, Flatten   \n",
    "from tensorflow.keras.layers import Layer, ZeroPadding2D, Input, concatenate\n",
    "from tensorflow.keras.models import Model\n",
    "from tensorflow.keras.optimizers import SGD\n",
    "from tensorflow.keras.callbacks import ModelCheckpoint, LearningRateScheduler"
   ]
  },
  {
   "cell_type": "markdown",
   "metadata": {},
   "source": [
    "### Helpers"
   ]
  },
  {
   "cell_type": "code",
   "execution_count": 8,
   "metadata": {},
   "outputs": [],
   "source": [
    "# an implication of Pytorch CrossMapLRN2d with Keras\n",
    "class LRN2D(Layer):\n",
    "    \"\"\"\n",
    "    This code is adapted from pylearn2.\n",
    "    License at: https://github.com/lisa-lab/pylearn2/blob/master/LICENSE.txt\n",
    "    \"\"\"\n",
    "\n",
    "    def __init__(self, alpha=1e-4, k=2, beta=0.75, n=5):\n",
    "        if n % 2 == 0:\n",
    "            raise NotImplementedError('LRN2D only works with odd n. n provided: ' + str(n))\n",
    "        super(LRN2D, self).__init__()\n",
    "        self.alpha = alpha\n",
    "        self.k = k\n",
    "        self.beta = beta\n",
    "        self.n = n\n",
    "\n",
    "    def get_output(self, train):\n",
    "        X = self.get_input(train)\n",
    "        b, ch, r, c = X.shape\n",
    "        half_n = self.n // 2\n",
    "        input_sqr = T.sqr(X)\n",
    "        extra_channels = T.alloc(0., b, ch + 2*half_n, r, c)\n",
    "        input_sqr = T.set_subtensor(extra_channels[:, half_n:half_n+ch, :, :], input_sqr)\n",
    "        scale = self.k\n",
    "        for i in range(self.n):\n",
    "            scale += self.alpha * input_sqr[:, i:i+ch, :, :]\n",
    "        scale = scale ** self.beta\n",
    "        return X / scale\n",
    "\n",
    "    def get_config(self):\n",
    "        return {'name': self.__class__.__name__,\n",
    "                'alpha': self.alpha,\n",
    "                'k': self.k,\n",
    "                'beta': self.beta,\n",
    "                'n': self.n}\n",
    "\n",
    "    \n",
    "\n",
    "# another implication of Pytorch CrossMapLRN2d with Keras\n",
    "class LocalResponseNormalization(Layer):\n",
    "  \n",
    "    def __init__(self, n=5, alpha=1e-4, beta=0.75, k=2, **kwargs):\n",
    "        self.n = n\n",
    "        self.alpha = alpha\n",
    "        self.beta = beta\n",
    "        self.k = k\n",
    "        super(LocalResponseNormalization, self).__init__(**kwargs)\n",
    "\n",
    "    def build(self, input_shape):\n",
    "        self.shape = input_shape\n",
    "        super(LocalResponseNormalization, self).build(input_shape)\n",
    "\n",
    "    def call(self, x):\n",
    "        _, r, c, f = self.shape \n",
    "        squared = K.square(x)\n",
    "        pooled = K.pool2d(squared, (self.n, self.n), strides=(1,1), padding='same', pool_mode='avg')\n",
    "        summed = K.sum(pooled, axis=3, keepdims=True)\n",
    "        averaged = self.alpha * K.repeat_elements(summed, f, axis=3)\n",
    "        denom = K.pow(self.k + averaged, self.beta)\n",
    "        return x / denom \n",
    "    \n",
    "    def compute_output_shape(self, input_shape):\n",
    "        return input_shape\n",
    "\n",
    "\n",
    "\n",
    "# Function for changing learning rate over epochs\n",
    "def lr_decay(epoch):\n",
    "    decay = .1\n",
    "    lr = base_lr * math.pow(decay, (epoch // 30))   \n",
    "    return lr\n"
   ]
  },
  {
   "cell_type": "markdown",
   "metadata": {},
   "source": [
    "## **1. Data**"
   ]
  },
  {
   "cell_type": "code",
   "execution_count": 16,
   "metadata": {},
   "outputs": [
    {
     "data": {
      "application/vnd.jupyter.widget-view+json": {
       "model_id": "5d4e3e159dba487bb6738022ea7f5955",
       "version_major": 2,
       "version_minor": 0
      },
      "text/plain": [
       "HBox(children=(FloatProgress(value=0.0, max=6.0), HTML(value='')))"
      ]
     },
     "metadata": {},
     "output_type": "display_data"
    },
    {
     "name": "stdout",
     "output_type": "stream",
     "text": [
      "\n"
     ]
    }
   ],
   "source": [
    "# load the scaled dataset\n",
    "path = 'D:/ETE/Data/Data_Mini/'\n",
    "pickles = ['LeftEye_red', 'RightEye_red', 'Face_red', 'GridMTCNN', 'GridPaper', 'labels']\n",
    "\n",
    "for pkl in tqdm(pickles):\n",
    "    with open(path + pkl + '.pkl','rb') as f:\n",
    "        exec(pkl + ' = pickle.load(f)')"
   ]
  },
  {
   "cell_type": "markdown",
   "metadata": {},
   "source": [
    "## **2. The Model**"
   ]
  },
  {
   "cell_type": "markdown",
   "metadata": {},
   "source": [
    "### **Eye Net**"
   ]
  },
  {
   "cell_type": "code",
   "execution_count": 37,
   "metadata": {},
   "outputs": [],
   "source": [
    "eye_input = Input(shape=(112,112,3))\n",
    "eye_cnn1_out = Conv2D(filters=96,\n",
    "                       kernel_size=11,\n",
    "                       strides=4,\n",
    "                       padding='valid',\n",
    "                       activation='relu',\n",
    "                       kernel_regularizer=regularizers.l2(1e-4),\n",
    "                       input_shape=(224,224,3))(eye_input)\n",
    "eye_max1_out = MaxPool2D(pool_size=3, strides=2)(eye_cnn1_out)\n",
    "eye_lrn1_out = LRN2D(n=5, alpha=1e-4, beta=0.75, k=1.0)(eye_max1_out)\n",
    "eye_zro1_out = ZeroPadding2D(padding=2)(eye_lrn1_out)\n",
    "eye_cnn2_out = Conv2D(filters=256,\n",
    "                      kernel_size=5,\n",
    "                      strides=1,\n",
    "                      padding='valid',\n",
    "                      #groups=2,\n",
    "                      activation='relu',\n",
    "                      kernel_regularizer=regularizers.l2(1e-4))(eye_zro1_out)\n",
    "eye_max2_out = MaxPool2D(pool_size=3, strides=2)(eye_cnn2_out)\n",
    "eye_lrn2_out = LRN2D(n=5, alpha=1e-4, beta=0.75, k=1.0)(eye_max2_out)\n",
    "eye_cnn3_out = Conv2D(filters=384,\n",
    "                      kernel_size=3,\n",
    "                      strides=1,\n",
    "                      padding='same',\n",
    "                      activation='relu',\n",
    "                      kernel_regularizer=regularizers.l2(1e-4))(eye_lrn2_out)\n",
    "eye_cnn4_out = Conv2D(filters=64,\n",
    "                      kernel_size=1,\n",
    "                      strides=1,\n",
    "                      padding='valid',\n",
    "                      activation='relu',\n",
    "                      kernel_regularizer=regularizers.l2(1e-4))(eye_cnn3_out)\n",
    "eye_out = Flatten()(eye_cnn4_out)\n",
    "\n",
    "model_eye = Model(eye_input, eye_out)\n"
   ]
  },
  {
   "cell_type": "markdown",
   "metadata": {},
   "source": [
    "### **Left Eye Net**"
   ]
  },
  {
   "cell_type": "code",
   "execution_count": null,
   "metadata": {},
   "outputs": [],
   "source": [
    "# in the original model both eyes share the same model, that is Eye Net\n",
    "eyel_input = Input(shape=(112,112,3))\n",
    "eyel_cnn1_out = Conv2D(filters=96,\n",
    "                       kernel_size=11,\n",
    "                       strides=4,\n",
    "                       padding='valid',\n",
    "                       activation='relu',\n",
    "                       kernel_regularizer=regularizers.l2(1e-4),\n",
    "                       input_shape=(224,224,3))(eyel_input)\n",
    "eyel_max1_out = MaxPool2D(pool_size=3, strides=2)(eyel_cnn1_out)\n",
    "eyel_lrn1_out = LRN2D(n=5, alpha=1e-4, beta=0.75, k=1.0)(eyel_max1_out)\n",
    "eyel_zro1_out = ZeroPadding2D(padding=2)(eyel_lrn1_out)\n",
    "eyel_cnn2_out = Conv2D(filters=256,\n",
    "                       kernel_size=5,\n",
    "                       strides=1,\n",
    "                       padding='valid',\n",
    "                       #groups=2,\n",
    "                       activation='relu',\n",
    "                       kernel_regularizer=regularizers.l2(1e-4))(eyel_zro1_out)\n",
    "eyel_max2_out = MaxPool2D(pool_size=3, strides=2)(eyel_cnn2_out)\n",
    "eyel_lrn2_out = LRN2D(n=5, alpha=1e-4, beta=0.75, k=1.0)(eyel_max2_out)\n",
    "eyel_cnn3_out = Conv2D(filters=384,\n",
    "                       kernel_size=3,\n",
    "                       strides=1,\n",
    "                       padding='same',\n",
    "                       activation='relu',\n",
    "                       kernel_regularizer=regularizers.l2(1e-4))(eyel_lrn2_out)\n",
    "eyel_cnn4_out = Conv2D(filters=64,\n",
    "                       kernel_size=1,\n",
    "                       strides=1,\n",
    "                       padding='valid',\n",
    "                       activation='relu',\n",
    "                       kernel_regularizer=regularizers.l2(1e-4))(eyel_cnn3_out)\n",
    "eyel_out = Flatten()(eyel_cnn4_out)\n"
   ]
  },
  {
   "cell_type": "markdown",
   "metadata": {},
   "source": [
    "### **Right Eye Net**"
   ]
  },
  {
   "cell_type": "code",
   "execution_count": null,
   "metadata": {},
   "outputs": [],
   "source": [
    "# in the original model both eyes share the same model, that is Eye Net\n",
    "eyer_input = Input(shape=(112,112,3))\n",
    "eyer_cnn1_out = Conv2D(filters=96,\n",
    "                       kernel_size=11,\n",
    "                       strides=4,\n",
    "                       padding='valid',\n",
    "                       activation='relu',\n",
    "                       kernel_regularizer=regularizers.l2(1e-4),\n",
    "                       input_shape=(224,224,3))(eyer_input)\n",
    "eyer_max1_out = MaxPool2D(pool_size=3, strides=2)(eyer_cnn1_out)\n",
    "eyer_lrn1_out = LRN2D(n=5, alpha=1e-4, beta=0.75, k=1.0)(eyer_max1_out)\n",
    "eyer_zro1_out = ZeroPadding2D(padding=2)(eyer_lrn1_out)\n",
    "eyer_cnn2_out = Conv2D(filters=256,\n",
    "                       kernel_size=5,\n",
    "                       strides=1,\n",
    "                       padding='valid',\n",
    "                       #groups=2,\n",
    "                       activation='relu',\n",
    "                       kernel_regularizer=regularizers.l2(1e-4))(eyer_zro1_out)\n",
    "eyer_max2_out = MaxPool2D(pool_size=3, strides=2)(eyer_cnn2_out)\n",
    "eyer_lrn2_out = LRN2D(n=5, alpha=1e-4, beta=0.75, k=1.0)(eyer_max2_out)\n",
    "eyer_cnn3_out = Conv2D(filters=384,\n",
    "                       kernel_size=3,\n",
    "                       strides=1,\n",
    "                       padding='same',\n",
    "                       activation='relu',\n",
    "                       kernel_regularizer=regularizers.l2(1e-4))(eyer_lrn2_out)\n",
    "eyer_cnn4_out = Conv2D(filters=64,\n",
    "                       kernel_size=1,\n",
    "                       strides=1,\n",
    "                       padding='valid',\n",
    "                       activation='relu',\n",
    "                       kernel_regularizer=regularizers.l2(1e-4))(eyer_cnn3_out)\n",
    "eyer_out = Flatten()(eyer_cnn4_out)\n"
   ]
  },
  {
   "cell_type": "markdown",
   "metadata": {},
   "source": [
    "### **Face Net**"
   ]
  },
  {
   "cell_type": "code",
   "execution_count": 30,
   "metadata": {},
   "outputs": [],
   "source": [
    "face_input = Input(shape=(112,112,3))\n",
    "face_cnn1_out = Conv2D(filters=96,\n",
    "                       kernel_size=11,\n",
    "                       strides=4,\n",
    "                       padding='valid',\n",
    "                       activation='relu',\n",
    "                       kernel_regularizer=regularizers.l2(1e-4),\n",
    "                       input_shape=(224,224,3))(face_input)\n",
    "face_max1_out = MaxPool2D(pool_size=3, strides=2)(face_cnn1_out)\n",
    "face_lrn1_out = LRN2D(n=5, alpha=1e-4, beta=0.75, k=1.0)(face_max1_out)\n",
    "face_zro1_out = ZeroPadding2D(padding=2)(face_lrn1_out)\n",
    "face_cnn2_out = Conv2D(filters=256,\n",
    "                       kernel_size=5,\n",
    "                       strides=1,\n",
    "                       padding='valid',\n",
    "                       #groups=2,\n",
    "                       activation='relu',\n",
    "                       kernel_regularizer=regularizers.l2(1e-4))(face_zro1_out)\n",
    "face_max2_out = MaxPool2D(pool_size=3, strides=2)(face_cnn2_out)\n",
    "face_lrn2_out = LRN2D(n=5, alpha=1e-4, beta=0.75, k=1.0)(face_max2_out)\n",
    "face_cnn3_out = Conv2D(filters=384,\n",
    "                       kernel_size=3,\n",
    "                       strides=1,\n",
    "                       padding='same',\n",
    "                       activation='relu',\n",
    "                       kernel_regularizer=regularizers.l2(1e-4))(face_lrn2_out)\n",
    "face_cnn4_out = Conv2D(filters=64,\n",
    "                       kernel_size=1,\n",
    "                       strides=1,\n",
    "                       padding='valid',\n",
    "                       activation='relu',\n",
    "                       kernel_regularizer=regularizers.l2(1e-4))(face_cnn3_out)\n",
    "face_flt_out = Flatten()(face_cnn4_out)\n",
    "face_dns_out = Dense(128, activation = 'relu',\n",
    "                     kernel_regularizer=regularizers.l2(1e-4))(face_flt_out)\n",
    "face_out = Dense(64, activation = 'relu')(face_dns_out)\n"
   ]
  },
  {
   "cell_type": "markdown",
   "metadata": {},
   "source": [
    "### **Papaer Grid Net**"
   ]
  },
  {
   "cell_type": "code",
   "execution_count": 31,
   "metadata": {},
   "outputs": [],
   "source": [
    "grid_input = Input(shape=(25,25))\n",
    "grid_flt_out = Flatten()(grid_input)\n",
    "grid_dns_out = Dense(256, activation = 'relu',\n",
    "                     kernel_regularizer=regularizers.l2(1e-4))(grid_flt_out)\n",
    "grid_out = Dense(128, activation = 'relu',\n",
    "                 kernel_regularizer=regularizers.l2(1e-4))(grid_dns_out)\n"
   ]
  },
  {
   "cell_type": "markdown",
   "metadata": {},
   "source": [
    "### **MTCNN Grid Net**"
   ]
  },
  {
   "cell_type": "code",
   "execution_count": null,
   "metadata": {},
   "outputs": [],
   "source": [
    "grid_input = Input(shape=(25,25))\n",
    "grid_flt_out = Flatten()(grid_input)\n",
    "grid_dns_out = Dense(256, activation = 'relu',\n",
    "                     kernel_regularizer=regularizers.l2(1e-4))(grid_flt_out)\n",
    "grid_out = Dense(128, activation = 'relu',\n",
    "                 kernel_regularizer=regularizers.l2(1e-4))(grid_dns_out)\n"
   ]
  },
  {
   "cell_type": "markdown",
   "metadata": {},
   "source": [
    "### **Merge the Eyes' Nets**"
   ]
  },
  {
   "cell_type": "code",
   "execution_count": 32,
   "metadata": {},
   "outputs": [],
   "source": [
    "eye_left_input = Input(shape=(112,112,3))\n",
    "eye_right_input = Input(shape=(112,112,3))\n",
    "eye_left_out = model_eye(eye_left_input)\n",
    "eye_right_out = model_eye(eye_right_input)\n",
    "\n",
    "concat_eyes = concatenate([eye_left_out, eye_right_out])\n",
    "\n",
    "eyes_out = Dense(128, activation='relu',\n",
    "                 kernel_regularizer=regularizers.l2(1e-4))(concat_eyes)\n",
    "#model_eyes = Model([eye_left_input, eye_right_input], eyes_out)\n"
   ]
  },
  {
   "cell_type": "markdown",
   "metadata": {},
   "source": [
    "### **Merge the Eyes, Face, and the Grid Nets**"
   ]
  },
  {
   "cell_type": "code",
   "execution_count": 33,
   "metadata": {},
   "outputs": [],
   "source": [
    "concat_all = concatenate([eyes_out, face_out, grid_out])\n",
    "\n",
    "final_dns_out = Dense(128, activation='relu',\n",
    "                      kernel_regularizer=regularizers.l2(1e-4))(concat_all)\n",
    "final_out = Dense(2, activation='relu',\n",
    "                  kernel_regularizer=regularizers.l2(1e-4))(final_dns_out)\n",
    "\n",
    "final_model = Model([eye_left_input, eye_right_input, face_input, grid_input], final_out)\n"
   ]
  },
  {
   "cell_type": "code",
   "execution_count": 34,
   "metadata": {},
   "outputs": [
    {
     "name": "stdout",
     "output_type": "stream",
     "text": [
      "Model: \"model_3\"\n",
      "__________________________________________________________________________________________________\n",
      "Layer (type)                    Output Shape         Param #     Connected to                     \n",
      "==================================================================================================\n",
      "input_7 (InputLayer)            [(None, 112, 112, 3) 0                                            \n",
      "__________________________________________________________________________________________________\n",
      "conv2d_12 (Conv2D)              (None, 26, 26, 96)   34944       input_7[0][0]                    \n",
      "__________________________________________________________________________________________________\n",
      "max_pooling2d_6 (MaxPooling2D)  (None, 12, 12, 96)   0           conv2d_12[0][0]                  \n",
      "__________________________________________________________________________________________________\n",
      "lr_n2d_6 (LRN2D)                (None, 12, 12, 96)   0           max_pooling2d_6[0][0]            \n",
      "__________________________________________________________________________________________________\n",
      "zero_padding2d_3 (ZeroPadding2D (None, 16, 16, 96)   0           lr_n2d_6[0][0]                   \n",
      "__________________________________________________________________________________________________\n",
      "conv2d_13 (Conv2D)              (None, 12, 12, 256)  614656      zero_padding2d_3[0][0]           \n",
      "__________________________________________________________________________________________________\n",
      "max_pooling2d_7 (MaxPooling2D)  (None, 5, 5, 256)    0           conv2d_13[0][0]                  \n",
      "__________________________________________________________________________________________________\n",
      "lr_n2d_7 (LRN2D)                (None, 5, 5, 256)    0           max_pooling2d_7[0][0]            \n",
      "__________________________________________________________________________________________________\n",
      "conv2d_14 (Conv2D)              (None, 5, 5, 384)    885120      lr_n2d_7[0][0]                   \n",
      "__________________________________________________________________________________________________\n",
      "input_9 (InputLayer)            [(None, 112, 112, 3) 0                                            \n",
      "__________________________________________________________________________________________________\n",
      "input_10 (InputLayer)           [(None, 112, 112, 3) 0                                            \n",
      "__________________________________________________________________________________________________\n",
      "conv2d_15 (Conv2D)              (None, 5, 5, 64)     24640       conv2d_14[0][0]                  \n",
      "__________________________________________________________________________________________________\n",
      "input_8 (InputLayer)            [(None, 25, 25)]     0                                            \n",
      "__________________________________________________________________________________________________\n",
      "model_2 (Model)                 (None, 1600)         1559360     input_9[0][0]                    \n",
      "                                                                 input_10[0][0]                   \n",
      "__________________________________________________________________________________________________\n",
      "flatten_4 (Flatten)             (None, 1600)         0           conv2d_15[0][0]                  \n",
      "__________________________________________________________________________________________________\n",
      "flatten_5 (Flatten)             (None, 625)          0           input_8[0][0]                    \n",
      "__________________________________________________________________________________________________\n",
      "concatenate_2 (Concatenate)     (None, 3200)         0           model_2[1][0]                    \n",
      "                                                                 model_2[2][0]                    \n",
      "__________________________________________________________________________________________________\n",
      "dense_7 (Dense)                 (None, 128)          204928      flatten_4[0][0]                  \n",
      "__________________________________________________________________________________________________\n",
      "dense_9 (Dense)                 (None, 256)          160256      flatten_5[0][0]                  \n",
      "__________________________________________________________________________________________________\n",
      "dense_11 (Dense)                (None, 128)          409728      concatenate_2[0][0]              \n",
      "__________________________________________________________________________________________________\n",
      "dense_8 (Dense)                 (None, 64)           8256        dense_7[0][0]                    \n",
      "__________________________________________________________________________________________________\n",
      "dense_10 (Dense)                (None, 128)          32896       dense_9[0][0]                    \n",
      "__________________________________________________________________________________________________\n",
      "concatenate_3 (Concatenate)     (None, 320)          0           dense_11[0][0]                   \n",
      "                                                                 dense_8[0][0]                    \n",
      "                                                                 dense_10[0][0]                   \n",
      "__________________________________________________________________________________________________\n",
      "dense_12 (Dense)                (None, 128)          41088       concatenate_3[0][0]              \n",
      "__________________________________________________________________________________________________\n",
      "dense_13 (Dense)                (None, 2)            258         dense_12[0][0]                   \n",
      "==================================================================================================\n",
      "Total params: 3,976,130\n",
      "Trainable params: 3,976,130\n",
      "Non-trainable params: 0\n",
      "__________________________________________________________________________________________________\n"
     ]
    }
   ],
   "source": [
    "final_model.summary()"
   ]
  },
  {
   "cell_type": "markdown",
   "metadata": {},
   "source": [
    "## **3. Training**"
   ]
  },
  {
   "cell_type": "code",
   "execution_count": 35,
   "metadata": {},
   "outputs": [],
   "source": [
    "lr_callback = LearningRateScheduler(lr_decay)\n",
    "checkpointer = ModelCheckpoint(filepath='Weights.hdf5', monitor='val_loss',\n",
    "                               verbose=1, save_best_only=True)\n",
    "base_lr = 0.0001\n",
    "momentum = 0.9\n",
    "\n",
    "sgd = SGD(lr=base_lr, momentum=momentum)"
   ]
  },
  {
   "cell_type": "code",
   "execution_count": 36,
   "metadata": {},
   "outputs": [
    {
     "name": "stdout",
     "output_type": "stream",
     "text": [
      "Train on 7995 samples, validate on 1999 samples\n",
      "Epoch 1/25\n",
      "7968/7995 [============================>.] - ETA: 0s - loss: 16554300985.3619 - mae: 5627.9268\n",
      "Epoch 00001: val_loss improved from inf to 29.21515, saving model to Weights.hdf5\n",
      "7995/7995 [==============================] - 10s 1ms/sample - loss: 16498395278.5615 - mae: 5608.9346 - val_loss: 29.2151 - val_mae: 3.9598\n",
      "Epoch 2/25\n",
      "7968/7995 [============================>.] - ETA: 0s - loss: 30.7003 - mae: 4.0553\n",
      "Epoch 00002: val_loss improved from 29.21515 to 29.18858, saving model to Weights.hdf5\n",
      "7995/7995 [==============================] - 8s 1ms/sample - loss: 30.6673 - mae: 4.0527 - val_loss: 29.1886 - val_mae: 3.9598\n",
      "Epoch 3/25\n",
      "7968/7995 [============================>.] - ETA: 0s - loss: 30.6370 - mae: 4.0515\n",
      "Epoch 00003: val_loss improved from 29.18858 to 29.18251, saving model to Weights.hdf5\n",
      "7995/7995 [==============================] - 8s 1ms/sample - loss: 30.6542 - mae: 4.0527 - val_loss: 29.1825 - val_mae: 3.9598\n",
      "Epoch 4/25\n",
      "7968/7995 [============================>.] - ETA: 0s - loss: 30.6567 - mae: 4.0534\n",
      "Epoch 00004: val_loss improved from 29.18251 to 29.17976, saving model to Weights.hdf5\n",
      "7995/7995 [==============================] - 8s 1ms/sample - loss: 30.6502 - mae: 4.0527 - val_loss: 29.1798 - val_mae: 3.9598\n",
      "Epoch 5/25\n",
      "7968/7995 [============================>.] - ETA: 0s - loss: 30.6452 - mae: 4.0518\n",
      "Epoch 00005: val_loss improved from 29.17976 to 29.17778, saving model to Weights.hdf5\n",
      "7995/7995 [==============================] - 8s 1ms/sample - loss: 30.6479 - mae: 4.0527 - val_loss: 29.1778 - val_mae: 3.9598\n",
      "Epoch 6/25\n",
      "7968/7995 [============================>.] - ETA: 0s - loss: 30.6373 - mae: 4.0510\n",
      "Epoch 00006: val_loss improved from 29.17778 to 29.17607, saving model to Weights.hdf5\n",
      "7995/7995 [==============================] - 8s 1ms/sample - loss: 30.6461 - mae: 4.0527 - val_loss: 29.1761 - val_mae: 3.9598\n",
      "Epoch 7/25\n",
      "7968/7995 [============================>.] - ETA: 0s - loss: 30.6581 - mae: 4.0530\n",
      "Epoch 00007: val_loss improved from 29.17607 to 29.17448, saving model to Weights.hdf5\n",
      "7995/7995 [==============================] - 8s 1ms/sample - loss: 30.6444 - mae: 4.0527 - val_loss: 29.1745 - val_mae: 3.9598\n",
      "Epoch 8/25\n",
      "7968/7995 [============================>.] - ETA: 0s - loss: 30.6122 - mae: 4.0514\n",
      "Epoch 00008: val_loss improved from 29.17448 to 29.17299, saving model to Weights.hdf5\n",
      "7995/7995 [==============================] - 8s 1ms/sample - loss: 30.6429 - mae: 4.0527 - val_loss: 29.1730 - val_mae: 3.9598\n",
      "Epoch 9/25\n",
      "7968/7995 [============================>.] - ETA: 0s - loss: 30.6382 - mae: 4.0520\n",
      "Epoch 00009: val_loss improved from 29.17299 to 29.17156, saving model to Weights.hdf5\n",
      "7995/7995 [==============================] - 8s 1ms/sample - loss: 30.6414 - mae: 4.0527 - val_loss: 29.1716 - val_mae: 3.9598\n",
      "Epoch 10/25\n",
      "7968/7995 [============================>.] - ETA: 0s - loss: 30.6492 - mae: 4.0532\n",
      "Epoch 00010: val_loss improved from 29.17156 to 29.17020, saving model to Weights.hdf5\n",
      "7995/7995 [==============================] - 8s 1ms/sample - loss: 30.6400 - mae: 4.0527 - val_loss: 29.1702 - val_mae: 3.9598\n",
      "Epoch 11/25\n",
      "7968/7995 [============================>.] - ETA: 0s - loss: 30.6584 - mae: 4.0538\n",
      "Epoch 00011: val_loss improved from 29.17020 to 29.16889, saving model to Weights.hdf5\n",
      "7995/7995 [==============================] - 8s 1ms/sample - loss: 30.6387 - mae: 4.0527 - val_loss: 29.1689 - val_mae: 3.9598\n",
      "Epoch 12/25\n",
      "7968/7995 [============================>.] - ETA: 0s - loss: 30.6591 - mae: 4.0543\n",
      "Epoch 00012: val_loss improved from 29.16889 to 29.16765, saving model to Weights.hdf5\n",
      "7995/7995 [==============================] - 8s 1ms/sample - loss: 30.6374 - mae: 4.0527 - val_loss: 29.1677 - val_mae: 3.9598\n",
      "Epoch 13/25\n",
      "7968/7995 [============================>.] - ETA: 0s - loss: 30.6591 - mae: 4.0543\n",
      "Epoch 00013: val_loss improved from 29.16765 to 29.16647, saving model to Weights.hdf5\n",
      "7995/7995 [==============================] - 8s 1ms/sample - loss: 30.6362 - mae: 4.0527 - val_loss: 29.1665 - val_mae: 3.9598\n",
      "Epoch 14/25\n",
      "7968/7995 [============================>.] - ETA: 0s - loss: 30.6349 - mae: 4.0530\n",
      "Epoch 00014: val_loss improved from 29.16647 to 29.16534, saving model to Weights.hdf5\n",
      "7995/7995 [==============================] - 8s 1ms/sample - loss: 30.6350 - mae: 4.0527 - val_loss: 29.1653 - val_mae: 3.9598\n",
      "Epoch 15/25\n",
      "7968/7995 [============================>.] - ETA: 0s - loss: 30.6315 - mae: 4.0524\n",
      "Epoch 00015: val_loss improved from 29.16534 to 29.16428, saving model to Weights.hdf5\n",
      "7995/7995 [==============================] - 8s 1ms/sample - loss: 30.6339 - mae: 4.0527 - val_loss: 29.1643 - val_mae: 3.9598\n",
      "Epoch 16/25\n",
      "7968/7995 [============================>.] - ETA: 0s - loss: 30.6416 - mae: 4.0524\n",
      "Epoch 00016: val_loss improved from 29.16428 to 29.16328, saving model to Weights.hdf5\n",
      "7995/7995 [==============================] - 8s 998us/sample - loss: 30.6329 - mae: 4.0527 - val_loss: 29.1633 - val_mae: 3.9598\n",
      "Epoch 17/25\n",
      "7968/7995 [============================>.] - ETA: 0s - loss: 30.6626 - mae: 4.0547\n",
      "Epoch 00017: val_loss improved from 29.16328 to 29.16234, saving model to Weights.hdf5\n",
      "7995/7995 [==============================] - 8s 1ms/sample - loss: 30.6319 - mae: 4.0527 - val_loss: 29.1623 - val_mae: 3.9598\n",
      "Epoch 18/25\n",
      "7968/7995 [============================>.] - ETA: 0s - loss: 30.6190 - mae: 4.0532\n",
      "Epoch 00018: val_loss improved from 29.16234 to 29.16146, saving model to Weights.hdf5\n",
      "7995/7995 [==============================] - 8s 1ms/sample - loss: 30.6310 - mae: 4.0527 - val_loss: 29.1615 - val_mae: 3.9598\n",
      "Epoch 19/25\n",
      "7968/7995 [============================>.] - ETA: 0s - loss: 30.6328 - mae: 4.0525\n",
      "Epoch 00019: val_loss improved from 29.16146 to 29.16064, saving model to Weights.hdf5\n",
      "7995/7995 [==============================] - 8s 1ms/sample - loss: 30.6302 - mae: 4.0527 - val_loss: 29.1606 - val_mae: 3.9598\n",
      "Epoch 20/25\n",
      "7968/7995 [============================>.] - ETA: 0s - loss: 30.6345 - mae: 4.0530\n",
      "Epoch 00020: val_loss improved from 29.16064 to 29.15989, saving model to Weights.hdf5\n",
      "7995/7995 [==============================] - 9s 1ms/sample - loss: 30.6294 - mae: 4.0527 - val_loss: 29.1599 - val_mae: 3.9598\n",
      "Epoch 21/25\n",
      "7968/7995 [============================>.] - ETA: 0s - loss: 30.6483 - mae: 4.0541\n",
      "Epoch 00021: val_loss improved from 29.15989 to 29.15921, saving model to Weights.hdf5\n",
      "7995/7995 [==============================] - 8s 1ms/sample - loss: 30.6287 - mae: 4.0527 - val_loss: 29.1592 - val_mae: 3.9598\n",
      "Epoch 22/25\n",
      "7968/7995 [============================>.] - ETA: 0s - loss: 30.6164 - mae: 4.0516\n",
      "Epoch 00022: val_loss improved from 29.15921 to 29.15858, saving model to Weights.hdf5\n",
      "7995/7995 [==============================] - 8s 1ms/sample - loss: 30.6280 - mae: 4.0527 - val_loss: 29.1586 - val_mae: 3.9598\n",
      "Epoch 23/25\n",
      "7968/7995 [============================>.] - ETA: 0s - loss: 30.6326 - mae: 4.0519\n",
      "Epoch 00023: val_loss improved from 29.15858 to 29.15801, saving model to Weights.hdf5\n",
      "7995/7995 [==============================] - 8s 1ms/sample - loss: 30.6274 - mae: 4.0527 - val_loss: 29.1580 - val_mae: 3.9598\n",
      "Epoch 24/25\n",
      "7968/7995 [============================>.] - ETA: 0s - loss: 30.6375 - mae: 4.0528\n",
      "Epoch 00024: val_loss improved from 29.15801 to 29.15750, saving model to Weights.hdf5\n",
      "7995/7995 [==============================] - 8s 1ms/sample - loss: 30.6269 - mae: 4.0527 - val_loss: 29.1575 - val_mae: 3.9598\n",
      "Epoch 25/25\n",
      "7968/7995 [============================>.] - ETA: 0s - loss: 30.6038 - mae: 4.0516\n",
      "Epoch 00025: val_loss improved from 29.15750 to 29.15704, saving model to Weights.hdf5\n",
      "7995/7995 [==============================] - 8s 1ms/sample - loss: 30.6264 - mae: 4.0527 - val_loss: 29.1570 - val_mae: 3.9598\n"
     ]
    },
    {
     "data": {
      "text/plain": [
       "<tensorflow.python.keras.callbacks.History at 0x1d5ddefa308>"
      ]
     },
     "execution_count": 36,
     "metadata": {},
     "output_type": "execute_result"
    }
   ],
   "source": [
    "final_model.compile(optimizer=sgd, loss='mse', metrics=['mae'])\n",
    "\n",
    "final_model.fit(x=[LeftEye_red, RightEye_red, Face_red, GridPaper], \n",
    "          y=labels,\n",
    "          batch_size=32,\n",
    "          epochs=25,\n",
    "          validation_split=0.2,\n",
    "          shuffle=True,\n",
    "          callbacks=[lr_callback, checkpointer])"
   ]
  }
 ],
 "metadata": {
  "kernelspec": {
   "display_name": "Python 3",
   "language": "python",
   "name": "python3"
  },
  "language_info": {
   "codemirror_mode": {
    "name": "ipython",
    "version": 3
   },
   "file_extension": ".py",
   "mimetype": "text/x-python",
   "name": "python",
   "nbconvert_exporter": "python",
   "pygments_lexer": "ipython3",
   "version": "3.7.7"
  }
 },
 "nbformat": 4,
 "nbformat_minor": 2
}
