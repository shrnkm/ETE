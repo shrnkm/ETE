{
 "cells": [
  {
   "cell_type": "code",
   "execution_count": 1,
   "metadata": {},
   "outputs": [],
   "source": [
    "import math\n",
    "import pickle\n",
    "import numpy as np\n",
    "import tensorflow as tf\n",
    "from tqdm.notebook import tqdm\n",
    "import matplotlib.pyplot as plt\n",
    "from tensorflow.keras import regularizers\n",
    "from tensorflow.keras.layers import Dense, Conv2D, MaxPool2D, Flatten   \n",
    "from tensorflow.keras.layers import Layer, ZeroPadding2D, Input, concatenate\n",
    "from tensorflow.keras.models import Model\n",
    "from tensorflow.keras.optimizers import SGD, Adam\n",
    "from tensorflow.keras.callbacks import ModelCheckpoint, LearningRateScheduler"
   ]
  },
  {
   "cell_type": "markdown",
   "metadata": {},
   "source": [
    "### Helpers"
   ]
  },
  {
   "cell_type": "code",
   "execution_count": 2,
   "metadata": {},
   "outputs": [],
   "source": [
    "# an implication of Pytorch CrossMapLRN2d with Keras\n",
    "class LRN2D(Layer):\n",
    "    \"\"\"\n",
    "    This code is adapted from pylearn2.\n",
    "    License at: https://github.com/lisa-lab/pylearn2/blob/master/LICENSE.txt\n",
    "    \"\"\"\n",
    "\n",
    "    def __init__(self, alpha=1e-4, k=2, beta=0.75, n=5):\n",
    "        if n % 2 == 0:\n",
    "            raise NotImplementedError('LRN2D only works with odd n. n provided: ' + str(n))\n",
    "        super(LRN2D, self).__init__()\n",
    "        self.alpha = alpha\n",
    "        self.k = k\n",
    "        self.beta = beta\n",
    "        self.n = n\n",
    "\n",
    "    def get_output(self, train):\n",
    "        X = self.get_input(train)\n",
    "        b, ch, r, c = X.shape\n",
    "        half_n = self.n // 2\n",
    "        input_sqr = T.sqr(X)\n",
    "        extra_channels = T.alloc(0., b, ch + 2*half_n, r, c)\n",
    "        input_sqr = T.set_subtensor(extra_channels[:, half_n:half_n+ch, :, :], input_sqr)\n",
    "        scale = self.k\n",
    "        for i in range(self.n):\n",
    "            scale += self.alpha * input_sqr[:, i:i+ch, :, :]\n",
    "        scale = scale ** self.beta\n",
    "        return X / scale\n",
    "\n",
    "    def get_config(self):\n",
    "        return {'name': self.__class__.__name__,\n",
    "                'alpha': self.alpha,\n",
    "                'k': self.k,\n",
    "                'beta': self.beta,\n",
    "                'n': self.n}\n",
    "\n",
    "    \n",
    "\n",
    "# another implication of Pytorch CrossMapLRN2d with Keras\n",
    "class LocalResponseNormalization(Layer):\n",
    "  \n",
    "    def __init__(self, n=5, alpha=1e-4, beta=0.75, k=2, **kwargs):\n",
    "        self.n = n\n",
    "        self.alpha = alpha\n",
    "        self.beta = beta\n",
    "        self.k = k\n",
    "        super(LocalResponseNormalization, self).__init__(**kwargs)\n",
    "\n",
    "    def build(self, input_shape):\n",
    "        self.shape = input_shape\n",
    "        super(LocalResponseNormalization, self).build(input_shape)\n",
    "\n",
    "    def call(self, x):\n",
    "        _, r, c, f = self.shape \n",
    "        squared = K.square(x)\n",
    "        pooled = K.pool2d(squared, (self.n, self.n), strides=(1,1), padding='same', pool_mode='avg')\n",
    "        summed = K.sum(pooled, axis=3, keepdims=True)\n",
    "        averaged = self.alpha * K.repeat_elements(summed, f, axis=3)\n",
    "        denom = K.pow(self.k + averaged, self.beta)\n",
    "        return x / denom \n",
    "    \n",
    "    def compute_output_shape(self, input_shape):\n",
    "        return input_shape\n",
    "\n",
    "\n",
    "\n",
    "# Function for changing learning rate over epochs\n",
    "def lr_decay(epoch):\n",
    "    decay = .1\n",
    "    lr = base_lr * math.pow(decay, (epoch // 30))   \n",
    "    return lr\n"
   ]
  },
  {
   "cell_type": "markdown",
   "metadata": {},
   "source": [
    "## **1. Data**"
   ]
  },
  {
   "cell_type": "code",
   "execution_count": 10,
   "metadata": {},
   "outputs": [
    {
     "data": {
      "application/vnd.jupyter.widget-view+json": {
       "model_id": "f16d68f3339b428ea82885b3f0c9bc47",
       "version_major": 2,
       "version_minor": 0
      },
      "text/plain": [
       "HBox(children=(FloatProgress(value=0.0, max=4.0), HTML(value='')))"
      ]
     },
     "metadata": {},
     "output_type": "display_data"
    },
    {
     "name": "stdout",
     "output_type": "stream",
     "text": [
      "\n"
     ]
    }
   ],
   "source": [
    "# load the scaled dataset\n",
    "path = 'D:/ETE/Data/Data_Mini_4Os/pickles/'\n",
    "pickles = ['left_eye', 'right_eye', 'face', 'labels']\n",
    "\n",
    "for pkl in tqdm(pickles):\n",
    "    with open(path + pkl + '.pkl','rb') as f:\n",
    "        exec(pkl + ' = pickle.load(f)')"
   ]
  },
  {
   "cell_type": "markdown",
   "metadata": {},
   "source": [
    "## **2. The Model**"
   ]
  },
  {
   "cell_type": "markdown",
   "metadata": {},
   "source": [
    "### **Eye Net**"
   ]
  },
  {
   "cell_type": "code",
   "execution_count": 3,
   "metadata": {},
   "outputs": [],
   "source": [
    "eye_input = Input(shape=(64,64,3))\n",
    "eye_cnn1_out = Conv2D(filters=96,\n",
    "                       kernel_size=11,\n",
    "                       strides=4,\n",
    "                       padding='valid',\n",
    "                       activation='relu',\n",
    "                       kernel_regularizer=regularizers.l2(1e-4),\n",
    "                       input_shape=(224,224,3))(eye_input)\n",
    "eye_max1_out = MaxPool2D(pool_size=3, strides=2)(eye_cnn1_out)\n",
    "eye_lrn1_out = LRN2D(n=5, alpha=1e-4, beta=0.75, k=1.0)(eye_max1_out)\n",
    "eye_zro1_out = ZeroPadding2D(padding=2)(eye_lrn1_out)\n",
    "eye_cnn2_out = Conv2D(filters=256,\n",
    "                      kernel_size=5,\n",
    "                      strides=1,\n",
    "                      padding='valid',\n",
    "                      #groups=2,\n",
    "                      activation='relu',\n",
    "                      kernel_regularizer=regularizers.l2(1e-4))(eye_zro1_out)\n",
    "eye_max2_out = MaxPool2D(pool_size=3, strides=2)(eye_cnn2_out)\n",
    "eye_lrn2_out = LRN2D(n=5, alpha=1e-4, beta=0.75, k=1.0)(eye_max2_out)\n",
    "eye_cnn3_out = Conv2D(filters=384,\n",
    "                      kernel_size=3,\n",
    "                      strides=1,\n",
    "                      padding='same',\n",
    "                      activation='relu',\n",
    "                      kernel_regularizer=regularizers.l2(1e-4))(eye_lrn2_out)\n",
    "eye_cnn4_out = Conv2D(filters=64,\n",
    "                      kernel_size=1,\n",
    "                      strides=1,\n",
    "                      padding='valid',\n",
    "                      activation='relu',\n",
    "                      kernel_regularizer=regularizers.l2(1e-4))(eye_cnn3_out)\n",
    "eye_out = Flatten()(eye_cnn4_out)\n",
    "\n",
    "model_eye = Model(eye_input, eye_out)\n"
   ]
  },
  {
   "cell_type": "markdown",
   "metadata": {},
   "source": [
    "### **Face Net**"
   ]
  },
  {
   "cell_type": "code",
   "execution_count": 4,
   "metadata": {},
   "outputs": [],
   "source": [
    "face_input = Input(shape=(64,64,3))\n",
    "face_cnn1_out = Conv2D(filters=96,\n",
    "                       kernel_size=11,\n",
    "                       strides=4,\n",
    "                       padding='valid',\n",
    "                       activation='relu',\n",
    "                       kernel_regularizer=regularizers.l2(1e-4),\n",
    "                       input_shape=(224,224,3))(face_input)\n",
    "face_max1_out = MaxPool2D(pool_size=3, strides=2)(face_cnn1_out)\n",
    "face_lrn1_out = LRN2D(n=5, alpha=1e-4, beta=0.75, k=1.0)(face_max1_out)\n",
    "face_zro1_out = ZeroPadding2D(padding=2)(face_lrn1_out)\n",
    "face_cnn2_out = Conv2D(filters=256,\n",
    "                       kernel_size=5,\n",
    "                       strides=1,\n",
    "                       padding='valid',\n",
    "                       #groups=2,\n",
    "                       activation='relu',\n",
    "                       kernel_regularizer=regularizers.l2(1e-4))(face_zro1_out)\n",
    "face_max2_out = MaxPool2D(pool_size=3, strides=2)(face_cnn2_out)\n",
    "face_lrn2_out = LRN2D(n=5, alpha=1e-4, beta=0.75, k=1.0)(face_max2_out)\n",
    "face_cnn3_out = Conv2D(filters=384,\n",
    "                       kernel_size=3,\n",
    "                       strides=1,\n",
    "                       padding='same',\n",
    "                       activation='relu',\n",
    "                       kernel_regularizer=regularizers.l2(1e-4))(face_lrn2_out)\n",
    "face_cnn4_out = Conv2D(filters=64,\n",
    "                       kernel_size=1,\n",
    "                       strides=1,\n",
    "                       padding='valid',\n",
    "                       activation='relu',\n",
    "                       kernel_regularizer=regularizers.l2(1e-4))(face_cnn3_out)\n",
    "face_flt_out = Flatten()(face_cnn4_out)\n",
    "face_dns_out = Dense(128, activation = 'relu',\n",
    "                     kernel_regularizer=regularizers.l2(1e-4))(face_flt_out)\n",
    "face_out = Dense(64, activation = 'relu')(face_dns_out)\n"
   ]
  },
  {
   "cell_type": "markdown",
   "metadata": {},
   "source": [
    "### **Merge the Eyes' Nets**"
   ]
  },
  {
   "cell_type": "code",
   "execution_count": 5,
   "metadata": {},
   "outputs": [],
   "source": [
    "eye_left_input = Input(shape=(64,64,3))\n",
    "eye_right_input = Input(shape=(64,64,3))\n",
    "eye_left_out = model_eye(eye_left_input)\n",
    "eye_right_out = model_eye(eye_right_input)\n",
    "\n",
    "concat_eyes = concatenate([eye_left_out, eye_right_out])\n",
    "\n",
    "eyes_out = Dense(128, activation='relu',\n",
    "                 kernel_regularizer=regularizers.l2(1e-4))(concat_eyes)\n"
   ]
  },
  {
   "cell_type": "markdown",
   "metadata": {},
   "source": [
    "### **Merge the Eyes, Face, and the Grid Nets**"
   ]
  },
  {
   "cell_type": "code",
   "execution_count": 6,
   "metadata": {},
   "outputs": [],
   "source": [
    "concat_all = concatenate([eyes_out, face_out])\n",
    "\n",
    "final_dns_out = Dense(128, activation='relu',\n",
    "                      kernel_regularizer=regularizers.l2(1e-4))(concat_all)\n",
    "final_out = Dense(2, activation='relu',\n",
    "                  kernel_regularizer=regularizers.l2(1e-4))(final_dns_out)\n",
    "\n",
    "final_model = Model([eye_left_input, eye_right_input, face_input], final_out)\n"
   ]
  },
  {
   "cell_type": "code",
   "execution_count": 7,
   "metadata": {},
   "outputs": [
    {
     "name": "stdout",
     "output_type": "stream",
     "text": [
      "Model: \"model_1\"\n",
      "__________________________________________________________________________________________________\n",
      "Layer (type)                    Output Shape         Param #     Connected to                     \n",
      "==================================================================================================\n",
      "input_2 (InputLayer)            [(None, 64, 64, 3)]  0                                            \n",
      "__________________________________________________________________________________________________\n",
      "conv2d_4 (Conv2D)               (None, 14, 14, 96)   34944       input_2[0][0]                    \n",
      "__________________________________________________________________________________________________\n",
      "max_pooling2d_2 (MaxPooling2D)  (None, 6, 6, 96)     0           conv2d_4[0][0]                   \n",
      "__________________________________________________________________________________________________\n",
      "lr_n2d_2 (LRN2D)                (None, 6, 6, 96)     0           max_pooling2d_2[0][0]            \n",
      "__________________________________________________________________________________________________\n",
      "zero_padding2d_1 (ZeroPadding2D (None, 10, 10, 96)   0           lr_n2d_2[0][0]                   \n",
      "__________________________________________________________________________________________________\n",
      "conv2d_5 (Conv2D)               (None, 6, 6, 256)    614656      zero_padding2d_1[0][0]           \n",
      "__________________________________________________________________________________________________\n",
      "max_pooling2d_3 (MaxPooling2D)  (None, 2, 2, 256)    0           conv2d_5[0][0]                   \n",
      "__________________________________________________________________________________________________\n",
      "lr_n2d_3 (LRN2D)                (None, 2, 2, 256)    0           max_pooling2d_3[0][0]            \n",
      "__________________________________________________________________________________________________\n",
      "conv2d_6 (Conv2D)               (None, 2, 2, 384)    885120      lr_n2d_3[0][0]                   \n",
      "__________________________________________________________________________________________________\n",
      "input_3 (InputLayer)            [(None, 64, 64, 3)]  0                                            \n",
      "__________________________________________________________________________________________________\n",
      "input_4 (InputLayer)            [(None, 64, 64, 3)]  0                                            \n",
      "__________________________________________________________________________________________________\n",
      "conv2d_7 (Conv2D)               (None, 2, 2, 64)     24640       conv2d_6[0][0]                   \n",
      "__________________________________________________________________________________________________\n",
      "model (Model)                   (None, 256)          1559360     input_3[0][0]                    \n",
      "                                                                 input_4[0][0]                    \n",
      "__________________________________________________________________________________________________\n",
      "flatten_1 (Flatten)             (None, 256)          0           conv2d_7[0][0]                   \n",
      "__________________________________________________________________________________________________\n",
      "concatenate (Concatenate)       (None, 512)          0           model[1][0]                      \n",
      "                                                                 model[2][0]                      \n",
      "__________________________________________________________________________________________________\n",
      "dense (Dense)                   (None, 128)          32896       flatten_1[0][0]                  \n",
      "__________________________________________________________________________________________________\n",
      "dense_2 (Dense)                 (None, 128)          65664       concatenate[0][0]                \n",
      "__________________________________________________________________________________________________\n",
      "dense_1 (Dense)                 (None, 64)           8256        dense[0][0]                      \n",
      "__________________________________________________________________________________________________\n",
      "concatenate_1 (Concatenate)     (None, 192)          0           dense_2[0][0]                    \n",
      "                                                                 dense_1[0][0]                    \n",
      "__________________________________________________________________________________________________\n",
      "dense_3 (Dense)                 (None, 128)          24704       concatenate_1[0][0]              \n",
      "__________________________________________________________________________________________________\n",
      "dense_4 (Dense)                 (None, 2)            258         dense_3[0][0]                    \n",
      "==================================================================================================\n",
      "Total params: 3,250,498\n",
      "Trainable params: 3,250,498\n",
      "Non-trainable params: 0\n",
      "__________________________________________________________________________________________________\n"
     ]
    }
   ],
   "source": [
    "final_model.summary()"
   ]
  },
  {
   "cell_type": "markdown",
   "metadata": {},
   "source": [
    "## **3. Training**"
   ]
  },
  {
   "cell_type": "code",
   "execution_count": 8,
   "metadata": {},
   "outputs": [],
   "source": [
    "lr_callback = LearningRateScheduler(lr_decay)\n",
    "checkpointer = ModelCheckpoint(filepath='./weights/no_grid.hdf5', monitor='val_loss',\n",
    "                               verbose=1, save_best_only=True)\n",
    "base_lr = 0.0001\n",
    "momentum = 0.9\n",
    "\n",
    "# sgd = SGD(lr=base_lr, momentum=momentum)\n",
    "sgd = SGD(lr=1e-1, decay=5e-4, momentum=9e-1, nesterov=True)\n",
    "adam = Adam(lr=1e-1)"
   ]
  },
  {
   "cell_type": "code",
   "execution_count": 13,
   "metadata": {},
   "outputs": [
    {
     "name": "stdout",
     "output_type": "stream",
     "text": [
      "Train on 7992 samples, validate on 1998 samples\n",
      "Epoch 1/20\n",
      "7904/7992 [============================>.] - ETA: 0s - loss: 23.3566 - mae: 3.5760\n",
      "Epoch 00001: val_loss did not improve from 25.46563\n",
      "7992/7992 [==============================] - 7s 862us/sample - loss: 23.2866 - mae: 3.5705 - val_loss: 26.0314 - val_mae: 3.8321\n",
      "Epoch 2/20\n",
      "7936/7992 [============================>.] - ETA: 0s - loss: 20.3140 - mae: 3.2578 E\n",
      "Epoch 00002: val_loss improved from 25.46563 to 25.14429, saving model to ./weights/no_grid.hdf5\n",
      "7992/7992 [==============================] - 6s 705us/sample - loss: 20.3310 - mae: 3.2588 - val_loss: 25.1443 - val_mae: 3.7296\n",
      "Epoch 3/20\n",
      "7936/7992 [============================>.] - ETA: 0s - loss: 19.4907 - mae: 3.1584 ETA: \n",
      "Epoch 00003: val_loss did not improve from 25.14429\n",
      "7992/7992 [==============================] - 6s 720us/sample - loss: 19.5389 - mae: 3.1619 - val_loss: 25.8911 - val_mae: 3.7832\n",
      "Epoch 4/20\n",
      "7904/7992 [============================>.] - ETA: 0s - loss: 18.9993 - mae: 3.0726\n",
      "Epoch 00004: val_loss did not improve from 25.14429\n",
      "7992/7992 [==============================] - 5s 625us/sample - loss: 18.9511 - mae: 3.0688 - val_loss: 26.7332 - val_mae: 3.8704\n",
      "Epoch 5/20\n",
      "7904/7992 [============================>.] - ETA: 0s - loss: 18.5221 - mae: 3.0065\n",
      "Epoch 00005: val_loss did not improve from 25.14429\n",
      "7992/7992 [==============================] - 6s 729us/sample - loss: 18.5334 - mae: 3.0093 - val_loss: 25.4955 - val_mae: 3.7295\n",
      "Epoch 6/20\n",
      "7904/7992 [============================>.] - ETA: 0s - loss: 18.0616 - mae: 2.9248\n",
      "Epoch 00006: val_loss did not improve from 25.14429\n",
      "7992/7992 [==============================] - 5s 637us/sample - loss: 18.0973 - mae: 2.9291 - val_loss: 25.5234 - val_mae: 3.7083\n",
      "Epoch 7/20\n",
      "7904/7992 [============================>.] - ETA: 0s - loss: 17.8831 - mae: 2.8854\n",
      "Epoch 00007: val_loss did not improve from 25.14429\n",
      "7992/7992 [==============================] - 5s 675us/sample - loss: 17.8799 - mae: 2.8856 - val_loss: 25.3944 - val_mae: 3.7440\n",
      "Epoch 8/20\n",
      "7904/7992 [============================>.] - ETA: 0s - loss: 17.9343 - mae: 2.8955\n",
      "Epoch 00008: val_loss did not improve from 25.14429\n",
      "7992/7992 [==============================] - 5s 641us/sample - loss: 17.9326 - mae: 2.8986 - val_loss: 25.3192 - val_mae: 3.7334\n",
      "Epoch 9/20\n",
      "7936/7992 [============================>.] - ETA: 0s - loss: 17.6981 - mae: 2.8560\n",
      "Epoch 00009: val_loss did not improve from 25.14429\n",
      "7992/7992 [==============================] - 5s 625us/sample - loss: 17.6951 - mae: 2.8545 - val_loss: 25.6558 - val_mae: 3.7280\n",
      "Epoch 10/20\n",
      "7904/7992 [============================>.] - ETA: 0s - loss: 17.5962 - mae: 2.8319\n",
      "Epoch 00010: val_loss did not improve from 25.14429\n",
      "7992/7992 [==============================] - 5s 661us/sample - loss: 17.5843 - mae: 2.8317 - val_loss: 25.7506 - val_mae: 3.7754\n",
      "Epoch 11/20\n",
      "7936/7992 [============================>.] - ETA: 0s - loss: 17.5236 - mae: 2.8151\n",
      "Epoch 00011: val_loss improved from 25.14429 to 25.05715, saving model to ./weights/no_grid.hdf5\n",
      "7992/7992 [==============================] - 6s 690us/sample - loss: 17.5132 - mae: 2.8147 - val_loss: 25.0571 - val_mae: 3.7204\n",
      "Epoch 12/20\n",
      "7904/7992 [============================>.] - ETA: 0s - loss: 17.4513 - mae: 2.8039\n",
      "Epoch 00012: val_loss improved from 25.05715 to 24.83847, saving model to ./weights/no_grid.hdf5\n",
      "7992/7992 [==============================] - 6s 696us/sample - loss: 17.4716 - mae: 2.8068 - val_loss: 24.8385 - val_mae: 3.7000\n",
      "Epoch 13/20\n",
      "7904/7992 [============================>.] - ETA: 0s - loss: 17.1917 - mae: 2.7515\n",
      "Epoch 00013: val_loss did not improve from 24.83847\n",
      "7992/7992 [==============================] - 5s 625us/sample - loss: 17.2498 - mae: 2.7548 - val_loss: 25.0835 - val_mae: 3.7203\n",
      "Epoch 14/20\n",
      "7936/7992 [============================>.] - ETA: 0s - loss: 17.1091 - mae: 2.7218\n",
      "Epoch 00014: val_loss did not improve from 24.83847\n",
      "7992/7992 [==============================] - 5s 653us/sample - loss: 17.1057 - mae: 2.7211 - val_loss: 25.5297 - val_mae: 3.7700\n",
      "Epoch 15/20\n",
      "7904/7992 [============================>.] - ETA: 0s - loss: 17.0845 - mae: 2.7345\n",
      "Epoch 00015: val_loss did not improve from 24.83847\n",
      "7992/7992 [==============================] - 5s 635us/sample - loss: 17.1618 - mae: 2.7394 - val_loss: 24.9440 - val_mae: 3.7142\n",
      "Epoch 16/20\n",
      "7904/7992 [============================>.] - ETA: 0s - loss: 17.0987 - mae: 2.7147\n",
      "Epoch 00016: val_loss did not improve from 24.83847\n",
      "7992/7992 [==============================] - 5s 636us/sample - loss: 17.0808 - mae: 2.7148 - val_loss: 25.1183 - val_mae: 3.7266\n",
      "Epoch 17/20\n",
      "7904/7992 [============================>.] - ETA: 0s - loss: 16.9597 - mae: 2.6822\n",
      "Epoch 00017: val_loss did not improve from 24.83847\n",
      "7992/7992 [==============================] - 5s 616us/sample - loss: 16.9633 - mae: 2.6842 - val_loss: 24.9652 - val_mae: 3.6852\n",
      "Epoch 18/20\n",
      "7904/7992 [============================>.] - ETA: 0s - loss: 17.0157 - mae: 2.6928\n",
      "Epoch 00018: val_loss did not improve from 24.83847\n",
      "7992/7992 [==============================] - 5s 645us/sample - loss: 16.9886 - mae: 2.6889 - val_loss: 25.2339 - val_mae: 3.7145\n",
      "Epoch 19/20\n",
      "7904/7992 [============================>.] - ETA: 0s - loss: 16.9124 - mae: 2.6602\n",
      "Epoch 00019: val_loss did not improve from 24.83847\n",
      "7992/7992 [==============================] - 5s 627us/sample - loss: 16.8826 - mae: 2.6587 - val_loss: 25.4969 - val_mae: 3.7691\n",
      "Epoch 20/20\n",
      "7904/7992 [============================>.] - ETA: 0s - loss: 16.9376 - mae: 2.6703\n",
      "Epoch 00020: val_loss did not improve from 24.83847\n",
      "7992/7992 [==============================] - 5s 636us/sample - loss: 16.9118 - mae: 2.6678 - val_loss: 24.8511 - val_mae: 3.6850\n"
     ]
    },
    {
     "data": {
      "text/plain": [
       "<tensorflow.python.keras.callbacks.History at 0x23469806148>"
      ]
     },
     "execution_count": 13,
     "metadata": {},
     "output_type": "execute_result"
    }
   ],
   "source": [
    "final_model.compile(optimizer=adam, loss='mse', metrics=['mae'])\n",
    "\n",
    "final_model.fit(x=[left_eye, right_eye, face], \n",
    "          y=labels,\n",
    "          batch_size=32,\n",
    "          epochs=20,\n",
    "          validation_split=0.2,\n",
    "          shuffle=True,\n",
    "          callbacks=[lr_callback, checkpointer])\n"
   ]
  }
 ],
 "metadata": {
  "kernelspec": {
   "display_name": "Python 3",
   "language": "python",
   "name": "python3"
  },
  "language_info": {
   "codemirror_mode": {
    "name": "ipython",
    "version": 3
   },
   "file_extension": ".py",
   "mimetype": "text/x-python",
   "name": "python",
   "nbconvert_exporter": "python",
   "pygments_lexer": "ipython3",
   "version": "3.7.7"
  }
 },
 "nbformat": 4,
 "nbformat_minor": 2
}
