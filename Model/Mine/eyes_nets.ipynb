{
 "cells": [
  {
   "cell_type": "code",
   "execution_count": 1,
   "metadata": {},
   "outputs": [],
   "source": [
    "import math\n",
    "import pickle\n",
    "import numpy as np\n",
    "import tensorflow as tf\n",
    "from tqdm.notebook import tqdm\n",
    "import matplotlib.pyplot as plt\n",
    "from tensorflow.keras import regularizers\n",
    "from tensorflow.keras.layers import Dense, Conv2D, MaxPool2D, Flatten   \n",
    "from tensorflow.keras.layers import Layer, ZeroPadding2D, Input, concatenate\n",
    "from tensorflow.keras.models import Model\n",
    "from tensorflow.keras.optimizers import SGD, Adam\n",
    "from tensorflow.keras.callbacks import ModelCheckpoint, LearningRateScheduler"
   ]
  },
  {
   "cell_type": "markdown",
   "metadata": {},
   "source": [
    "### Helpers"
   ]
  },
  {
   "cell_type": "code",
   "execution_count": 2,
   "metadata": {},
   "outputs": [],
   "source": [
    "# an implication of Pytorch CrossMapLRN2d with Keras\n",
    "class LRN2D(Layer):\n",
    "    \"\"\"\n",
    "    This code is adapted from pylearn2.\n",
    "    License at: https://github.com/lisa-lab/pylearn2/blob/master/LICENSE.txt\n",
    "    \"\"\"\n",
    "\n",
    "    def __init__(self, alpha=1e-4, k=2, beta=0.75, n=5):\n",
    "        if n % 2 == 0:\n",
    "            raise NotImplementedError('LRN2D only works with odd n. n provided: ' + str(n))\n",
    "        super(LRN2D, self).__init__()\n",
    "        self.alpha = alpha\n",
    "        self.k = k\n",
    "        self.beta = beta\n",
    "        self.n = n\n",
    "\n",
    "    def get_output(self, train):\n",
    "        X = self.get_input(train)\n",
    "        b, ch, r, c = X.shape\n",
    "        half_n = self.n // 2\n",
    "        input_sqr = T.sqr(X)\n",
    "        extra_channels = T.alloc(0., b, ch + 2*half_n, r, c)\n",
    "        input_sqr = T.set_subtensor(extra_channels[:, half_n:half_n+ch, :, :], input_sqr)\n",
    "        scale = self.k\n",
    "        for i in range(self.n):\n",
    "            scale += self.alpha * input_sqr[:, i:i+ch, :, :]\n",
    "        scale = scale ** self.beta\n",
    "        return X / scale\n",
    "\n",
    "    def get_config(self):\n",
    "        return {'name': self.__class__.__name__,\n",
    "                'alpha': self.alpha,\n",
    "                'k': self.k,\n",
    "                'beta': self.beta,\n",
    "                'n': self.n}\n",
    "\n",
    "    \n",
    "\n",
    "# another implication of Pytorch CrossMapLRN2d with Keras\n",
    "class LocalResponseNormalization(Layer):\n",
    "  \n",
    "    def __init__(self, n=5, alpha=1e-4, beta=0.75, k=2, **kwargs):\n",
    "        self.n = n\n",
    "        self.alpha = alpha\n",
    "        self.beta = beta\n",
    "        self.k = k\n",
    "        super(LocalResponseNormalization, self).__init__(**kwargs)\n",
    "\n",
    "    def build(self, input_shape):\n",
    "        self.shape = input_shape\n",
    "        super(LocalResponseNormalization, self).build(input_shape)\n",
    "\n",
    "    def call(self, x):\n",
    "        _, r, c, f = self.shape \n",
    "        squared = K.square(x)\n",
    "        pooled = K.pool2d(squared, (self.n, self.n), strides=(1,1), padding='same', pool_mode='avg')\n",
    "        summed = K.sum(pooled, axis=3, keepdims=True)\n",
    "        averaged = self.alpha * K.repeat_elements(summed, f, axis=3)\n",
    "        denom = K.pow(self.k + averaged, self.beta)\n",
    "        return x / denom \n",
    "    \n",
    "    def compute_output_shape(self, input_shape):\n",
    "        return input_shape\n",
    "\n",
    "\n",
    "\n",
    "# Function for changing learning rate over epochs\n",
    "def lr_decay(epoch):\n",
    "    decay = .1\n",
    "    lr = base_lr * math.pow(decay, (epoch // 30))   \n",
    "    return lr\n"
   ]
  },
  {
   "cell_type": "markdown",
   "metadata": {},
   "source": [
    "## **1. Data**"
   ]
  },
  {
   "cell_type": "code",
   "execution_count": 13,
   "metadata": {},
   "outputs": [
    {
     "data": {
      "application/vnd.jupyter.widget-view+json": {
       "model_id": "c6889681006c47d988fedeb0ca723a49",
       "version_major": 2,
       "version_minor": 0
      },
      "text/plain": [
       "HBox(children=(FloatProgress(value=0.0, max=5.0), HTML(value='')))"
      ]
     },
     "metadata": {},
     "output_type": "display_data"
    },
    {
     "name": "stdout",
     "output_type": "stream",
     "text": [
      "\n"
     ]
    }
   ],
   "source": [
    "# load the scaled dataset\n",
    "path = 'D:/ETE/Data/Data_Mini_4Os/pickles/'\n",
    "pickles = ['left_eye', 'right_eye', 'face', 'grid_paper', 'labels']\n",
    "\n",
    "for pkl in tqdm(pickles):\n",
    "    with open(path + pkl + '.pkl','rb') as f:\n",
    "        exec(pkl + ' = pickle.load(f)')"
   ]
  },
  {
   "cell_type": "markdown",
   "metadata": {},
   "source": [
    "## **2. The Model**"
   ]
  },
  {
   "cell_type": "markdown",
   "metadata": {},
   "source": [
    "### **Left Eye Net**"
   ]
  },
  {
   "cell_type": "code",
   "execution_count": 3,
   "metadata": {},
   "outputs": [],
   "source": [
    "eyel_input = Input(shape=(64,64,3))\n",
    "eyel_cnn1_out = Conv2D(filters=96,\n",
    "                       kernel_size=11,\n",
    "                       strides=4,\n",
    "                       padding='valid',\n",
    "                       activation='relu',\n",
    "                       kernel_regularizer=regularizers.l2(1e-4),\n",
    "                       input_shape=(224,224,3))(eyel_input)\n",
    "eyel_max1_out = MaxPool2D(pool_size=3, strides=2)(eyel_cnn1_out)\n",
    "eyel_lrn1_out = LRN2D(n=5, alpha=1e-4, beta=0.75, k=1.0)(eyel_max1_out)\n",
    "eyel_zro1_out = ZeroPadding2D(padding=2)(eyel_lrn1_out)\n",
    "eyel_cnn2_out = Conv2D(filters=256,\n",
    "                      kernel_size=5,\n",
    "                      strides=1,\n",
    "                      padding='valid',\n",
    "                      #groups=2,\n",
    "                      activation='relu',\n",
    "                      kernel_regularizer=regularizers.l2(1e-4))(eyel_zro1_out)\n",
    "eyel_max2_out = MaxPool2D(pool_size=3, strides=2)(eyel_cnn2_out)\n",
    "eyel_lrn2_out = LRN2D(n=5, alpha=1e-4, beta=0.75, k=1.0)(eyel_max2_out)\n",
    "eyel_cnn3_out = Conv2D(filters=384,\n",
    "                      kernel_size=3,\n",
    "                      strides=1,\n",
    "                      padding='same',\n",
    "                      activation='relu',\n",
    "                      kernel_regularizer=regularizers.l2(1e-4))(eyel_lrn2_out)\n",
    "eyel_cnn4_out = Conv2D(filters=64,\n",
    "                      kernel_size=1,\n",
    "                      strides=1,\n",
    "                      padding='valid',\n",
    "                      activation='relu',\n",
    "                      kernel_regularizer=regularizers.l2(1e-4))(eyel_cnn3_out)\n",
    "eyel_out = Flatten()(eyel_cnn4_out)\n"
   ]
  },
  {
   "cell_type": "markdown",
   "metadata": {},
   "source": [
    "### **Right Eye Net**"
   ]
  },
  {
   "cell_type": "code",
   "execution_count": 5,
   "metadata": {},
   "outputs": [],
   "source": [
    "eyer_input = Input(shape=(64,64,3))\n",
    "eyer_cnn1_out = Conv2D(filters=96,\n",
    "                       kernel_size=11,\n",
    "                       strides=4,\n",
    "                       padding='valid',\n",
    "                       activation='relu',\n",
    "                       kernel_regularizer=regularizers.l2(1e-4),\n",
    "                       input_shape=(224,224,3))(eyer_input)\n",
    "eyer_max1_out = MaxPool2D(pool_size=3, strides=2)(eyer_cnn1_out)\n",
    "eyer_lrn1_out = LRN2D(n=5, alpha=1e-4, beta=0.75, k=1.0)(eyer_max1_out)\n",
    "eyer_zro1_out = ZeroPadding2D(padding=2)(eyer_lrn1_out)\n",
    "eyer_cnn2_out = Conv2D(filters=256,\n",
    "                      kernel_size=5,\n",
    "                      strides=1,\n",
    "                      padding='valid',\n",
    "                      #groups=2,\n",
    "                      activation='relu',\n",
    "                      kernel_regularizer=regularizers.l2(1e-4))(eyer_zro1_out)\n",
    "eyer_max2_out = MaxPool2D(pool_size=3, strides=2)(eyer_cnn2_out)\n",
    "eyer_lrn2_out = LRN2D(n=5, alpha=1e-4, beta=0.75, k=1.0)(eyer_max2_out)\n",
    "eyer_cnn3_out = Conv2D(filters=384,\n",
    "                      kernel_size=3,\n",
    "                      strides=1,\n",
    "                      padding='same',\n",
    "                      activation='relu',\n",
    "                      kernel_regularizer=regularizers.l2(1e-4))(eyer_lrn2_out)\n",
    "eyer_cnn4_out = Conv2D(filters=64,\n",
    "                      kernel_size=1,\n",
    "                      strides=1,\n",
    "                      padding='valid',\n",
    "                      activation='relu',\n",
    "                      kernel_regularizer=regularizers.l2(1e-4))(eyer_cnn3_out)\n",
    "eyer_out = Flatten()(eyer_cnn4_out)\n",
    "\n"
   ]
  },
  {
   "cell_type": "markdown",
   "metadata": {},
   "source": [
    "### **Face Net**"
   ]
  },
  {
   "cell_type": "code",
   "execution_count": 6,
   "metadata": {},
   "outputs": [],
   "source": [
    "face_input = Input(shape=(64,64,3))\n",
    "face_cnn1_out = Conv2D(filters=96,\n",
    "                       kernel_size=11,\n",
    "                       strides=4,\n",
    "                       padding='valid',\n",
    "                       activation='relu',\n",
    "                       kernel_regularizer=regularizers.l2(1e-4),\n",
    "                       input_shape=(224,224,3))(face_input)\n",
    "face_max1_out = MaxPool2D(pool_size=3, strides=2)(face_cnn1_out)\n",
    "face_lrn1_out = LRN2D(n=5, alpha=1e-4, beta=0.75, k=1.0)(face_max1_out)\n",
    "face_zro1_out = ZeroPadding2D(padding=2)(face_lrn1_out)\n",
    "face_cnn2_out = Conv2D(filters=256,\n",
    "                       kernel_size=5,\n",
    "                       strides=1,\n",
    "                       padding='valid',\n",
    "                       #groups=2,\n",
    "                       activation='relu',\n",
    "                       kernel_regularizer=regularizers.l2(1e-4))(face_zro1_out)\n",
    "face_max2_out = MaxPool2D(pool_size=3, strides=2)(face_cnn2_out)\n",
    "face_lrn2_out = LRN2D(n=5, alpha=1e-4, beta=0.75, k=1.0)(face_max2_out)\n",
    "face_cnn3_out = Conv2D(filters=384,\n",
    "                       kernel_size=3,\n",
    "                       strides=1,\n",
    "                       padding='same',\n",
    "                       activation='relu',\n",
    "                       kernel_regularizer=regularizers.l2(1e-4))(face_lrn2_out)\n",
    "face_cnn4_out = Conv2D(filters=64,\n",
    "                       kernel_size=1,\n",
    "                       strides=1,\n",
    "                       padding='valid',\n",
    "                       activation='relu',\n",
    "                       kernel_regularizer=regularizers.l2(1e-4))(face_cnn3_out)\n",
    "face_flt_out = Flatten()(face_cnn4_out)\n",
    "face_dns_out = Dense(128, activation = 'relu',\n",
    "                     kernel_regularizer=regularizers.l2(1e-4))(face_flt_out)\n",
    "face_out = Dense(64, activation = 'relu')(face_dns_out)\n"
   ]
  },
  {
   "cell_type": "markdown",
   "metadata": {},
   "source": [
    "### **Papaer Grid Net**"
   ]
  },
  {
   "cell_type": "code",
   "execution_count": 7,
   "metadata": {},
   "outputs": [],
   "source": [
    "grid_input = Input(shape=(25,25))\n",
    "grid_flt_out = Flatten()(grid_input)\n",
    "grid_dns_out = Dense(256, activation = 'relu',\n",
    "                     kernel_regularizer=regularizers.l2(1e-4))(grid_flt_out)\n",
    "grid_out = Dense(128, activation = 'relu',\n",
    "                 kernel_regularizer=regularizers.l2(1e-4))(grid_dns_out)\n"
   ]
  },
  {
   "cell_type": "markdown",
   "metadata": {},
   "source": [
    "### **Merge the Eyes, Face, and the Grid Nets**"
   ]
  },
  {
   "cell_type": "code",
   "execution_count": 10,
   "metadata": {},
   "outputs": [],
   "source": [
    "concat_all = concatenate([eyel_out, eyer_out, face_out, grid_out])\n",
    "\n",
    "final_dns_out = Dense(128, activation='relu',\n",
    "                      kernel_regularizer=regularizers.l2(1e-4))(concat_all)\n",
    "final_out = Dense(2, activation='relu',\n",
    "                  kernel_regularizer=regularizers.l2(1e-4))(final_dns_out)\n",
    "\n",
    "final_model = Model([eyel_input, eyer_input, face_input, grid_input], final_out)\n"
   ]
  },
  {
   "cell_type": "code",
   "execution_count": 11,
   "metadata": {},
   "outputs": [
    {
     "name": "stdout",
     "output_type": "stream",
     "text": [
      "Model: \"model\"\n",
      "__________________________________________________________________________________________________\n",
      "Layer (type)                    Output Shape         Param #     Connected to                     \n",
      "==================================================================================================\n",
      "input_4 (InputLayer)            [(None, 64, 64, 3)]  0                                            \n",
      "__________________________________________________________________________________________________\n",
      "conv2d_12 (Conv2D)              (None, 14, 14, 96)   34944       input_4[0][0]                    \n",
      "__________________________________________________________________________________________________\n",
      "input_1 (InputLayer)            [(None, 64, 64, 3)]  0                                            \n",
      "__________________________________________________________________________________________________\n",
      "input_3 (InputLayer)            [(None, 64, 64, 3)]  0                                            \n",
      "__________________________________________________________________________________________________\n",
      "max_pooling2d_6 (MaxPooling2D)  (None, 6, 6, 96)     0           conv2d_12[0][0]                  \n",
      "__________________________________________________________________________________________________\n",
      "conv2d (Conv2D)                 (None, 14, 14, 96)   34944       input_1[0][0]                    \n",
      "__________________________________________________________________________________________________\n",
      "conv2d_8 (Conv2D)               (None, 14, 14, 96)   34944       input_3[0][0]                    \n",
      "__________________________________________________________________________________________________\n",
      "lr_n2d_6 (LRN2D)                (None, 6, 6, 96)     0           max_pooling2d_6[0][0]            \n",
      "__________________________________________________________________________________________________\n",
      "max_pooling2d (MaxPooling2D)    (None, 6, 6, 96)     0           conv2d[0][0]                     \n",
      "__________________________________________________________________________________________________\n",
      "max_pooling2d_4 (MaxPooling2D)  (None, 6, 6, 96)     0           conv2d_8[0][0]                   \n",
      "__________________________________________________________________________________________________\n",
      "zero_padding2d_3 (ZeroPadding2D (None, 10, 10, 96)   0           lr_n2d_6[0][0]                   \n",
      "__________________________________________________________________________________________________\n",
      "lr_n2d (LRN2D)                  (None, 6, 6, 96)     0           max_pooling2d[0][0]              \n",
      "__________________________________________________________________________________________________\n",
      "lr_n2d_4 (LRN2D)                (None, 6, 6, 96)     0           max_pooling2d_4[0][0]            \n",
      "__________________________________________________________________________________________________\n",
      "conv2d_13 (Conv2D)              (None, 6, 6, 256)    614656      zero_padding2d_3[0][0]           \n",
      "__________________________________________________________________________________________________\n",
      "zero_padding2d (ZeroPadding2D)  (None, 10, 10, 96)   0           lr_n2d[0][0]                     \n",
      "__________________________________________________________________________________________________\n",
      "zero_padding2d_2 (ZeroPadding2D (None, 10, 10, 96)   0           lr_n2d_4[0][0]                   \n",
      "__________________________________________________________________________________________________\n",
      "max_pooling2d_7 (MaxPooling2D)  (None, 2, 2, 256)    0           conv2d_13[0][0]                  \n",
      "__________________________________________________________________________________________________\n",
      "conv2d_1 (Conv2D)               (None, 6, 6, 256)    614656      zero_padding2d[0][0]             \n",
      "__________________________________________________________________________________________________\n",
      "conv2d_9 (Conv2D)               (None, 6, 6, 256)    614656      zero_padding2d_2[0][0]           \n",
      "__________________________________________________________________________________________________\n",
      "lr_n2d_7 (LRN2D)                (None, 2, 2, 256)    0           max_pooling2d_7[0][0]            \n",
      "__________________________________________________________________________________________________\n",
      "max_pooling2d_1 (MaxPooling2D)  (None, 2, 2, 256)    0           conv2d_1[0][0]                   \n",
      "__________________________________________________________________________________________________\n",
      "max_pooling2d_5 (MaxPooling2D)  (None, 2, 2, 256)    0           conv2d_9[0][0]                   \n",
      "__________________________________________________________________________________________________\n",
      "conv2d_14 (Conv2D)              (None, 2, 2, 384)    885120      lr_n2d_7[0][0]                   \n",
      "__________________________________________________________________________________________________\n",
      "lr_n2d_1 (LRN2D)                (None, 2, 2, 256)    0           max_pooling2d_1[0][0]            \n",
      "__________________________________________________________________________________________________\n",
      "lr_n2d_5 (LRN2D)                (None, 2, 2, 256)    0           max_pooling2d_5[0][0]            \n",
      "__________________________________________________________________________________________________\n",
      "conv2d_15 (Conv2D)              (None, 2, 2, 64)     24640       conv2d_14[0][0]                  \n",
      "__________________________________________________________________________________________________\n",
      "input_5 (InputLayer)            [(None, 25, 25)]     0                                            \n",
      "__________________________________________________________________________________________________\n",
      "conv2d_2 (Conv2D)               (None, 2, 2, 384)    885120      lr_n2d_1[0][0]                   \n",
      "__________________________________________________________________________________________________\n",
      "conv2d_10 (Conv2D)              (None, 2, 2, 384)    885120      lr_n2d_5[0][0]                   \n",
      "__________________________________________________________________________________________________\n",
      "flatten_3 (Flatten)             (None, 256)          0           conv2d_15[0][0]                  \n",
      "__________________________________________________________________________________________________\n",
      "flatten_4 (Flatten)             (None, 625)          0           input_5[0][0]                    \n",
      "__________________________________________________________________________________________________\n",
      "conv2d_3 (Conv2D)               (None, 2, 2, 64)     24640       conv2d_2[0][0]                   \n",
      "__________________________________________________________________________________________________\n",
      "conv2d_11 (Conv2D)              (None, 2, 2, 64)     24640       conv2d_10[0][0]                  \n",
      "__________________________________________________________________________________________________\n",
      "dense (Dense)                   (None, 128)          32896       flatten_3[0][0]                  \n",
      "__________________________________________________________________________________________________\n",
      "dense_2 (Dense)                 (None, 256)          160256      flatten_4[0][0]                  \n",
      "__________________________________________________________________________________________________\n",
      "flatten (Flatten)               (None, 256)          0           conv2d_3[0][0]                   \n",
      "__________________________________________________________________________________________________\n",
      "flatten_2 (Flatten)             (None, 256)          0           conv2d_11[0][0]                  \n",
      "__________________________________________________________________________________________________\n",
      "dense_1 (Dense)                 (None, 64)           8256        dense[0][0]                      \n",
      "__________________________________________________________________________________________________\n",
      "dense_3 (Dense)                 (None, 128)          32896       dense_2[0][0]                    \n",
      "__________________________________________________________________________________________________\n",
      "concatenate_1 (Concatenate)     (None, 704)          0           flatten[0][0]                    \n",
      "                                                                 flatten_2[0][0]                  \n",
      "                                                                 dense_1[0][0]                    \n",
      "                                                                 dense_3[0][0]                    \n",
      "__________________________________________________________________________________________________\n",
      "dense_6 (Dense)                 (None, 128)          90240       concatenate_1[0][0]              \n",
      "__________________________________________________________________________________________________\n",
      "dense_7 (Dense)                 (None, 2)            258         dense_6[0][0]                    \n",
      "==================================================================================================\n",
      "Total params: 5,002,882\n",
      "Trainable params: 5,002,882\n",
      "Non-trainable params: 0\n",
      "__________________________________________________________________________________________________\n"
     ]
    }
   ],
   "source": [
    "final_model.summary()"
   ]
  },
  {
   "cell_type": "markdown",
   "metadata": {},
   "source": [
    "## **3. Training**"
   ]
  },
  {
   "cell_type": "code",
   "execution_count": 12,
   "metadata": {},
   "outputs": [],
   "source": [
    "lr_callback = LearningRateScheduler(lr_decay)\n",
    "checkpointer = ModelCheckpoint(filepath='./weights/eyes_nets.hdf5', monitor='val_loss',\n",
    "                               verbose=1, save_best_only=True)\n",
    "base_lr = 0.0001\n",
    "momentum = 0.9\n",
    "\n",
    "# sgd = SGD(lr=base_lr, momentum=momentum)\n",
    "sgd = SGD(lr=1e-1, decay=5e-4, momentum=9e-1, nesterov=True)\n",
    "adam = Adam(lr=1e-1)"
   ]
  },
  {
   "cell_type": "code",
   "execution_count": 15,
   "metadata": {},
   "outputs": [
    {
     "name": "stdout",
     "output_type": "stream",
     "text": [
      "Train on 7992 samples, validate on 1998 samples\n",
      "Epoch 1/20\n",
      "7936/7992 [============================>.] - ETA: 0s - loss: 20.5907 - mae: 3.2770\n",
      "Epoch 00001: val_loss did not improve from 22.23999\n",
      "7992/7992 [==============================] - 8s 1ms/sample - loss: 20.6103 - mae: 3.2792 - val_loss: 22.7632 - val_mae: 3.4827\n",
      "Epoch 2/20\n",
      "7936/7992 [============================>.] - ETA: 0s - loss: 19.0849 - mae: 3.0915\n",
      "Epoch 00002: val_loss did not improve from 22.23999\n",
      "7992/7992 [==============================] - 6s 768us/sample - loss: 19.0855 - mae: 3.0926 - val_loss: 22.9877 - val_mae: 3.5042\n",
      "Epoch 3/20\n",
      "7968/7992 [============================>.] - ETA: 0s - loss: 18.3729 - mae: 2.9834\n",
      "Epoch 00003: val_loss did not improve from 22.23999\n",
      "7992/7992 [==============================] - 6s 733us/sample - loss: 18.3849 - mae: 2.9841 - val_loss: 22.3691 - val_mae: 3.4365\n",
      "Epoch 4/20\n",
      "7904/7992 [============================>.] - ETA: 0s - loss: 18.0235 - mae: 2.9194\n",
      "Epoch 00004: val_loss did not improve from 22.23999\n",
      "7992/7992 [==============================] - 5s 659us/sample - loss: 18.0367 - mae: 2.9203 - val_loss: 22.5988 - val_mae: 3.4424\n",
      "Epoch 5/20\n",
      "7904/7992 [============================>.] - ETA: 0s - loss: 17.8490 - mae: 2.8958\n",
      "Epoch 00005: val_loss did not improve from 22.23999\n",
      "7992/7992 [==============================] - 5s 657us/sample - loss: 17.9120 - mae: 2.9007 - val_loss: 22.5125 - val_mae: 3.4419\n",
      "Epoch 6/20\n",
      "7904/7992 [============================>.] - ETA: 0s - loss: 17.6039 - mae: 2.8312\n",
      "Epoch 00006: val_loss did not improve from 22.23999\n",
      "7992/7992 [==============================] - 5s 663us/sample - loss: 17.5933 - mae: 2.8316 - val_loss: 22.7778 - val_mae: 3.4478\n",
      "Epoch 7/20\n",
      "7968/7992 [============================>.] - ETA: 0s - loss: 17.4823 - mae: 2.8087\n",
      "Epoch 00007: val_loss did not improve from 22.23999\n",
      "7992/7992 [==============================] - 5s 658us/sample - loss: 17.4799 - mae: 2.8088 - val_loss: 22.3290 - val_mae: 3.4112\n",
      "Epoch 8/20\n",
      "7904/7992 [============================>.] - ETA: 0s - loss: 17.2688 - mae: 2.7614\n",
      "Epoch 00008: val_loss did not improve from 22.23999\n",
      "7992/7992 [==============================] - 5s 688us/sample - loss: 17.2916 - mae: 2.7638 - val_loss: 22.4305 - val_mae: 3.4299\n",
      "Epoch 9/20\n",
      "7904/7992 [============================>.] - ETA: 0s - loss: 17.2317 - mae: 2.7425\n",
      "Epoch 00009: val_loss did not improve from 22.23999\n",
      "7992/7992 [==============================] - 5s 673us/sample - loss: 17.1744 - mae: 2.7383 - val_loss: 22.6157 - val_mae: 3.4432\n",
      "Epoch 10/20\n",
      "7904/7992 [============================>.] - ETA: 0s - loss: 17.1085 - mae: 2.7218\n",
      "Epoch 00010: val_loss did not improve from 22.23999\n",
      "7992/7992 [==============================] - 5s 671us/sample - loss: 17.1113 - mae: 2.7231 - val_loss: 22.6236 - val_mae: 3.4474\n",
      "Epoch 11/20\n",
      "7904/7992 [============================>.] - ETA: 0s - loss: 17.0842 - mae: 2.7178\n",
      "Epoch 00011: val_loss did not improve from 22.23999\n",
      "7992/7992 [==============================] - 6s 691us/sample - loss: 17.0751 - mae: 2.7160 - val_loss: 22.2850 - val_mae: 3.4126\n",
      "Epoch 12/20\n",
      "7968/7992 [============================>.] - ETA: 0s - loss: 17.0242 - mae: 2.6976\n",
      "Epoch 00012: val_loss did not improve from 22.23999\n",
      "7992/7992 [==============================] - 6s 699us/sample - loss: 17.0096 - mae: 2.6969 - val_loss: 22.2928 - val_mae: 3.4051\n",
      "Epoch 13/20\n",
      "7904/7992 [============================>.] - ETA: 0s - loss: 16.8978 - mae: 2.6644\n",
      "Epoch 00013: val_loss improved from 22.23999 to 22.21918, saving model to ./weights/eyes_nets.hdf5\n",
      "7992/7992 [==============================] - 6s 772us/sample - loss: 16.8896 - mae: 2.6648 - val_loss: 22.2192 - val_mae: 3.3974\n",
      "Epoch 14/20\n",
      "7936/7992 [============================>.] - ETA: 0s - loss: 16.8657 - mae: 2.6639\n",
      "Epoch 00014: val_loss did not improve from 22.21918\n",
      "7992/7992 [==============================] - 6s 709us/sample - loss: 16.8862 - mae: 2.6658 - val_loss: 22.2239 - val_mae: 3.4062\n",
      "Epoch 15/20\n",
      "7904/7992 [============================>.] - ETA: 0s - loss: 16.7401 - mae: 2.6219\n",
      "Epoch 00015: val_loss improved from 22.21918 to 22.14282, saving model to ./weights/eyes_nets.hdf5\n",
      "7992/7992 [==============================] - 6s 734us/sample - loss: 16.7522 - mae: 2.6236 - val_loss: 22.1428 - val_mae: 3.3904\n",
      "Epoch 16/20\n",
      "7904/7992 [============================>.] - ETA: 0s - loss: 16.8732 - mae: 2.6569 ETA: 0s - loss:\n",
      "Epoch 00016: val_loss did not improve from 22.14282\n",
      "7992/7992 [==============================] - 5s 664us/sample - loss: 16.8497 - mae: 2.6559 - val_loss: 22.3960 - val_mae: 3.4180\n",
      "Epoch 17/20\n",
      "7904/7992 [============================>.] - ETA: 0s - loss: 16.7578 - mae: 2.6235\n",
      "Epoch 00017: val_loss did not improve from 22.14282\n",
      "7992/7992 [==============================] - 5s 673us/sample - loss: 16.7354 - mae: 2.6223 - val_loss: 22.4275 - val_mae: 3.4326\n",
      "Epoch 18/20\n",
      "7968/7992 [============================>.] - ETA: 0s - loss: 16.6465 - mae: 2.6000\n",
      "Epoch 00018: val_loss did not improve from 22.14282\n",
      "7992/7992 [==============================] - 5s 666us/sample - loss: 16.6688 - mae: 2.6022 - val_loss: 22.1598 - val_mae: 3.4012\n",
      "Epoch 19/20\n",
      "7904/7992 [============================>.] - ETA: 0s - loss: 16.5805 - mae: 2.5783\n",
      "Epoch 00019: val_loss improved from 22.14282 to 22.13838, saving model to ./weights/eyes_nets.hdf5\n",
      "7992/7992 [==============================] - 6s 747us/sample - loss: 16.6045 - mae: 2.5791 - val_loss: 22.1384 - val_mae: 3.3976\n",
      "Epoch 20/20\n",
      "7968/7992 [============================>.] - ETA: 0s - loss: 16.4935 - mae: 2.5465\n",
      "Epoch 00020: val_loss did not improve from 22.13838\n",
      "7992/7992 [==============================] - 5s 679us/sample - loss: 16.5276 - mae: 2.5493 - val_loss: 22.1611 - val_mae: 3.3949\n"
     ]
    },
    {
     "data": {
      "text/plain": [
       "<tensorflow.python.keras.callbacks.History at 0x1a92a6b6608>"
      ]
     },
     "execution_count": 15,
     "metadata": {},
     "output_type": "execute_result"
    }
   ],
   "source": [
    "final_model.compile(optimizer=adam, loss='mse', metrics=['mae'])\n",
    "\n",
    "final_model.fit(x=[left_eye, right_eye, face, grid_paper], \n",
    "          y=labels,\n",
    "          batch_size=32,\n",
    "          epochs=20,\n",
    "          validation_split=0.2,\n",
    "          shuffle=True,\n",
    "          callbacks=[lr_callback, checkpointer])\n"
   ]
  }
 ],
 "metadata": {
  "kernelspec": {
   "display_name": "Python 3",
   "language": "python",
   "name": "python3"
  },
  "language_info": {
   "codemirror_mode": {
    "name": "ipython",
    "version": 3
   },
   "file_extension": ".py",
   "mimetype": "text/x-python",
   "name": "python",
   "nbconvert_exporter": "python",
   "pygments_lexer": "ipython3",
   "version": "3.7.7"
  }
 },
 "nbformat": 4,
 "nbformat_minor": 2
}
