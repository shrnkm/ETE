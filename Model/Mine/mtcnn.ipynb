{
 "cells": [
  {
   "cell_type": "code",
   "execution_count": 1,
   "metadata": {},
   "outputs": [],
   "source": [
    "import math\n",
    "import pickle\n",
    "import numpy as np\n",
    "import tensorflow as tf\n",
    "from tqdm.notebook import tqdm\n",
    "import matplotlib.pyplot as plt\n",
    "from tensorflow.keras import regularizers\n",
    "from tensorflow.keras.layers import Dense, Conv2D, MaxPool2D, Flatten   \n",
    "from tensorflow.keras.layers import Layer, ZeroPadding2D, Input, concatenate\n",
    "from tensorflow.keras.models import Model\n",
    "from tensorflow.keras.optimizers import SGD\n",
    "from tensorflow.keras.callbacks import ModelCheckpoint, LearningRateScheduler"
   ]
  },
  {
   "cell_type": "markdown",
   "metadata": {},
   "source": [
    "### Helpers"
   ]
  },
  {
   "cell_type": "code",
   "execution_count": 2,
   "metadata": {},
   "outputs": [],
   "source": [
    "# an implication of Pytorch CrossMapLRN2d with Keras\n",
    "class LRN2D(Layer):\n",
    "    \"\"\"\n",
    "    This code is adapted from pylearn2.\n",
    "    License at: https://github.com/lisa-lab/pylearn2/blob/master/LICENSE.txt\n",
    "    \"\"\"\n",
    "\n",
    "    def __init__(self, alpha=1e-4, k=2, beta=0.75, n=5):\n",
    "        if n % 2 == 0:\n",
    "            raise NotImplementedError('LRN2D only works with odd n. n provided: ' + str(n))\n",
    "        super(LRN2D, self).__init__()\n",
    "        self.alpha = alpha\n",
    "        self.k = k\n",
    "        self.beta = beta\n",
    "        self.n = n\n",
    "\n",
    "    def get_output(self, train):\n",
    "        X = self.get_input(train)\n",
    "        b, ch, r, c = X.shape\n",
    "        half_n = self.n // 2\n",
    "        input_sqr = T.sqr(X)\n",
    "        extra_channels = T.alloc(0., b, ch + 2*half_n, r, c)\n",
    "        input_sqr = T.set_subtensor(extra_channels[:, half_n:half_n+ch, :, :], input_sqr)\n",
    "        scale = self.k\n",
    "        for i in range(self.n):\n",
    "            scale += self.alpha * input_sqr[:, i:i+ch, :, :]\n",
    "        scale = scale ** self.beta\n",
    "        return X / scale\n",
    "\n",
    "    def get_config(self):\n",
    "        return {'name': self.__class__.__name__,\n",
    "                'alpha': self.alpha,\n",
    "                'k': self.k,\n",
    "                'beta': self.beta,\n",
    "                'n': self.n}\n",
    "\n",
    "    \n",
    "\n",
    "# another implication of Pytorch CrossMapLRN2d with Keras\n",
    "class LocalResponseNormalization(Layer):\n",
    "  \n",
    "    def __init__(self, n=5, alpha=1e-4, beta=0.75, k=2, **kwargs):\n",
    "        self.n = n\n",
    "        self.alpha = alpha\n",
    "        self.beta = beta\n",
    "        self.k = k\n",
    "        super(LocalResponseNormalization, self).__init__(**kwargs)\n",
    "\n",
    "    def build(self, input_shape):\n",
    "        self.shape = input_shape\n",
    "        super(LocalResponseNormalization, self).build(input_shape)\n",
    "\n",
    "    def call(self, x):\n",
    "        _, r, c, f = self.shape \n",
    "        squared = K.square(x)\n",
    "        pooled = K.pool2d(squared, (self.n, self.n), strides=(1,1), padding='same', pool_mode='avg')\n",
    "        summed = K.sum(pooled, axis=3, keepdims=True)\n",
    "        averaged = self.alpha * K.repeat_elements(summed, f, axis=3)\n",
    "        denom = K.pow(self.k + averaged, self.beta)\n",
    "        return x / denom \n",
    "    \n",
    "    def compute_output_shape(self, input_shape):\n",
    "        return input_shape\n",
    "\n",
    "\n",
    "\n",
    "# Function for changing learning rate over epochs\n",
    "def lr_decay(epoch):\n",
    "    decay = .1\n",
    "    lr = base_lr * math.pow(decay, (epoch // 30))   \n",
    "    return lr\n"
   ]
  },
  {
   "cell_type": "markdown",
   "metadata": {},
   "source": [
    "## **1. Data**"
   ]
  },
  {
   "cell_type": "code",
   "execution_count": 10,
   "metadata": {},
   "outputs": [
    {
     "data": {
      "application/vnd.jupyter.widget-view+json": {
       "model_id": "6869fa0e2e1f441a8a1bb5581e142610",
       "version_major": 2,
       "version_minor": 0
      },
      "text/plain": [
       "HBox(children=(FloatProgress(value=0.0, max=5.0), HTML(value='')))"
      ]
     },
     "metadata": {},
     "output_type": "display_data"
    },
    {
     "name": "stdout",
     "output_type": "stream",
     "text": [
      "\n"
     ]
    }
   ],
   "source": [
    "# load the scaled dataset\n",
    "path = 'D:/ETE/Data/Data_Mini/pickles/'\n",
    "pickles = ['left_eye', 'right_eye', 'face', 'grid_mtcnn', 'labels']\n",
    "\n",
    "for pkl in tqdm(pickles):\n",
    "    with open(path + pkl + '.pkl','rb') as f:\n",
    "        exec(pkl + ' = pickle.load(f)')"
   ]
  },
  {
   "cell_type": "markdown",
   "metadata": {},
   "source": [
    "## **2. The Model**"
   ]
  },
  {
   "cell_type": "markdown",
   "metadata": {},
   "source": [
    "### **Eye Net**"
   ]
  },
  {
   "cell_type": "code",
   "execution_count": 3,
   "metadata": {},
   "outputs": [],
   "source": [
    "eye_input = Input(shape=(64,64,3))\n",
    "eye_cnn1_out = Conv2D(filters=96,\n",
    "                       kernel_size=11,\n",
    "                       strides=4,\n",
    "                       padding='valid',\n",
    "                       activation='relu',\n",
    "                       kernel_regularizer=regularizers.l2(1e-4),\n",
    "                       input_shape=(224,224,3))(eye_input)\n",
    "eye_max1_out = MaxPool2D(pool_size=3, strides=2)(eye_cnn1_out)\n",
    "eye_lrn1_out = LRN2D(n=5, alpha=1e-4, beta=0.75, k=1.0)(eye_max1_out)\n",
    "eye_zro1_out = ZeroPadding2D(padding=2)(eye_lrn1_out)\n",
    "eye_cnn2_out = Conv2D(filters=256,\n",
    "                      kernel_size=5,\n",
    "                      strides=1,\n",
    "                      padding='valid',\n",
    "                      #groups=2,\n",
    "                      activation='relu',\n",
    "                      kernel_regularizer=regularizers.l2(1e-4))(eye_zro1_out)\n",
    "eye_max2_out = MaxPool2D(pool_size=3, strides=2)(eye_cnn2_out)\n",
    "eye_lrn2_out = LRN2D(n=5, alpha=1e-4, beta=0.75, k=1.0)(eye_max2_out)\n",
    "eye_cnn3_out = Conv2D(filters=384,\n",
    "                      kernel_size=3,\n",
    "                      strides=1,\n",
    "                      padding='same',\n",
    "                      activation='relu',\n",
    "                      kernel_regularizer=regularizers.l2(1e-4))(eye_lrn2_out)\n",
    "eye_cnn4_out = Conv2D(filters=64,\n",
    "                      kernel_size=1,\n",
    "                      strides=1,\n",
    "                      padding='valid',\n",
    "                      activation='relu',\n",
    "                      kernel_regularizer=regularizers.l2(1e-4))(eye_cnn3_out)\n",
    "eye_out = Flatten()(eye_cnn4_out)\n",
    "\n",
    "model_eye = Model(eye_input, eye_out)\n"
   ]
  },
  {
   "cell_type": "markdown",
   "metadata": {},
   "source": [
    "### **Face Net**"
   ]
  },
  {
   "cell_type": "code",
   "execution_count": 4,
   "metadata": {},
   "outputs": [],
   "source": [
    "face_input = Input(shape=(64,64,3))\n",
    "face_cnn1_out = Conv2D(filters=96,\n",
    "                       kernel_size=11,\n",
    "                       strides=4,\n",
    "                       padding='valid',\n",
    "                       activation='relu',\n",
    "                       kernel_regularizer=regularizers.l2(1e-4),\n",
    "                       input_shape=(224,224,3))(face_input)\n",
    "face_max1_out = MaxPool2D(pool_size=3, strides=2)(face_cnn1_out)\n",
    "face_lrn1_out = LRN2D(n=5, alpha=1e-4, beta=0.75, k=1.0)(face_max1_out)\n",
    "face_zro1_out = ZeroPadding2D(padding=2)(face_lrn1_out)\n",
    "face_cnn2_out = Conv2D(filters=256,\n",
    "                       kernel_size=5,\n",
    "                       strides=1,\n",
    "                       padding='valid',\n",
    "                       #groups=2,\n",
    "                       activation='relu',\n",
    "                       kernel_regularizer=regularizers.l2(1e-4))(face_zro1_out)\n",
    "face_max2_out = MaxPool2D(pool_size=3, strides=2)(face_cnn2_out)\n",
    "face_lrn2_out = LRN2D(n=5, alpha=1e-4, beta=0.75, k=1.0)(face_max2_out)\n",
    "face_cnn3_out = Conv2D(filters=384,\n",
    "                       kernel_size=3,\n",
    "                       strides=1,\n",
    "                       padding='same',\n",
    "                       activation='relu',\n",
    "                       kernel_regularizer=regularizers.l2(1e-4))(face_lrn2_out)\n",
    "face_cnn4_out = Conv2D(filters=64,\n",
    "                       kernel_size=1,\n",
    "                       strides=1,\n",
    "                       padding='valid',\n",
    "                       activation='relu',\n",
    "                       kernel_regularizer=regularizers.l2(1e-4))(face_cnn3_out)\n",
    "face_flt_out = Flatten()(face_cnn4_out)\n",
    "face_dns_out = Dense(128, activation = 'relu',\n",
    "                     kernel_regularizer=regularizers.l2(1e-4))(face_flt_out)\n",
    "face_out = Dense(64, activation = 'relu')(face_dns_out)\n"
   ]
  },
  {
   "cell_type": "markdown",
   "metadata": {},
   "source": [
    "### **MTCNN Grid Net**"
   ]
  },
  {
   "cell_type": "code",
   "execution_count": 5,
   "metadata": {},
   "outputs": [],
   "source": [
    "grid_input = Input(shape=(128,96))\n",
    "grid_flt_out = Flatten()(grid_input)\n",
    "grid_dns_out = Dense(256, activation = 'relu',\n",
    "                     kernel_regularizer=regularizers.l2(1e-4))(grid_flt_out)\n",
    "grid_out = Dense(128, activation = 'relu',\n",
    "                 kernel_regularizer=regularizers.l2(1e-4))(grid_dns_out)\n"
   ]
  },
  {
   "cell_type": "markdown",
   "metadata": {},
   "source": [
    "### **Merge the Eyes' Nets**"
   ]
  },
  {
   "cell_type": "code",
   "execution_count": 6,
   "metadata": {},
   "outputs": [],
   "source": [
    "eye_left_input = Input(shape=(64,64,3))\n",
    "eye_right_input = Input(shape=(64,64,3))\n",
    "eye_left_out = model_eye(eye_left_input)\n",
    "eye_right_out = model_eye(eye_right_input)\n",
    "\n",
    "concat_eyes = concatenate([eye_left_out, eye_right_out])\n",
    "\n",
    "eyes_out = Dense(128, activation='relu',\n",
    "                 kernel_regularizer=regularizers.l2(1e-4))(concat_eyes)\n"
   ]
  },
  {
   "cell_type": "markdown",
   "metadata": {},
   "source": [
    "### **Merge the Eyes, Face, and the Grid Nets**"
   ]
  },
  {
   "cell_type": "code",
   "execution_count": 7,
   "metadata": {},
   "outputs": [],
   "source": [
    "concat_all = concatenate([eyes_out, face_out, grid_out])\n",
    "\n",
    "final_dns_out = Dense(128, activation='relu',\n",
    "                      kernel_regularizer=regularizers.l2(1e-4))(concat_all)\n",
    "final_out = Dense(2, activation='relu',\n",
    "                  kernel_regularizer=regularizers.l2(1e-4))(final_dns_out)\n",
    "\n",
    "final_model = Model([eye_left_input, eye_right_input, face_input, grid_input], final_out)\n"
   ]
  },
  {
   "cell_type": "code",
   "execution_count": 8,
   "metadata": {},
   "outputs": [
    {
     "name": "stdout",
     "output_type": "stream",
     "text": [
      "Model: \"model_1\"\n",
      "__________________________________________________________________________________________________\n",
      "Layer (type)                    Output Shape         Param #     Connected to                     \n",
      "==================================================================================================\n",
      "input_2 (InputLayer)            [(None, 64, 64, 3)]  0                                            \n",
      "__________________________________________________________________________________________________\n",
      "conv2d_4 (Conv2D)               (None, 14, 14, 96)   34944       input_2[0][0]                    \n",
      "__________________________________________________________________________________________________\n",
      "max_pooling2d_2 (MaxPooling2D)  (None, 6, 6, 96)     0           conv2d_4[0][0]                   \n",
      "__________________________________________________________________________________________________\n",
      "lr_n2d_2 (LRN2D)                (None, 6, 6, 96)     0           max_pooling2d_2[0][0]            \n",
      "__________________________________________________________________________________________________\n",
      "zero_padding2d_1 (ZeroPadding2D (None, 10, 10, 96)   0           lr_n2d_2[0][0]                   \n",
      "__________________________________________________________________________________________________\n",
      "conv2d_5 (Conv2D)               (None, 6, 6, 256)    614656      zero_padding2d_1[0][0]           \n",
      "__________________________________________________________________________________________________\n",
      "max_pooling2d_3 (MaxPooling2D)  (None, 2, 2, 256)    0           conv2d_5[0][0]                   \n",
      "__________________________________________________________________________________________________\n",
      "lr_n2d_3 (LRN2D)                (None, 2, 2, 256)    0           max_pooling2d_3[0][0]            \n",
      "__________________________________________________________________________________________________\n",
      "conv2d_6 (Conv2D)               (None, 2, 2, 384)    885120      lr_n2d_3[0][0]                   \n",
      "__________________________________________________________________________________________________\n",
      "input_4 (InputLayer)            [(None, 64, 64, 3)]  0                                            \n",
      "__________________________________________________________________________________________________\n",
      "input_5 (InputLayer)            [(None, 64, 64, 3)]  0                                            \n",
      "__________________________________________________________________________________________________\n",
      "conv2d_7 (Conv2D)               (None, 2, 2, 64)     24640       conv2d_6[0][0]                   \n",
      "__________________________________________________________________________________________________\n",
      "input_3 (InputLayer)            [(None, 128, 96)]    0                                            \n",
      "__________________________________________________________________________________________________\n",
      "model (Model)                   (None, 256)          1559360     input_4[0][0]                    \n",
      "                                                                 input_5[0][0]                    \n",
      "__________________________________________________________________________________________________\n",
      "flatten_1 (Flatten)             (None, 256)          0           conv2d_7[0][0]                   \n",
      "__________________________________________________________________________________________________\n",
      "flatten_2 (Flatten)             (None, 12288)        0           input_3[0][0]                    \n",
      "__________________________________________________________________________________________________\n",
      "concatenate (Concatenate)       (None, 512)          0           model[1][0]                      \n",
      "                                                                 model[2][0]                      \n",
      "__________________________________________________________________________________________________\n",
      "dense (Dense)                   (None, 128)          32896       flatten_1[0][0]                  \n",
      "__________________________________________________________________________________________________\n",
      "dense_2 (Dense)                 (None, 256)          3145984     flatten_2[0][0]                  \n",
      "__________________________________________________________________________________________________\n",
      "dense_4 (Dense)                 (None, 128)          65664       concatenate[0][0]                \n",
      "__________________________________________________________________________________________________\n",
      "dense_1 (Dense)                 (None, 64)           8256        dense[0][0]                      \n",
      "__________________________________________________________________________________________________\n",
      "dense_3 (Dense)                 (None, 128)          32896       dense_2[0][0]                    \n",
      "__________________________________________________________________________________________________\n",
      "concatenate_1 (Concatenate)     (None, 320)          0           dense_4[0][0]                    \n",
      "                                                                 dense_1[0][0]                    \n",
      "                                                                 dense_3[0][0]                    \n",
      "__________________________________________________________________________________________________\n",
      "dense_5 (Dense)                 (None, 128)          41088       concatenate_1[0][0]              \n",
      "__________________________________________________________________________________________________\n",
      "dense_6 (Dense)                 (None, 2)            258         dense_5[0][0]                    \n",
      "==================================================================================================\n",
      "Total params: 6,445,762\n",
      "Trainable params: 6,445,762\n",
      "Non-trainable params: 0\n",
      "__________________________________________________________________________________________________\n"
     ]
    }
   ],
   "source": [
    "final_model.summary()"
   ]
  },
  {
   "cell_type": "markdown",
   "metadata": {},
   "source": [
    "## **3. Training**"
   ]
  },
  {
   "cell_type": "code",
   "execution_count": 9,
   "metadata": {},
   "outputs": [],
   "source": [
    "lr_callback = LearningRateScheduler(lr_decay)\n",
    "checkpointer = ModelCheckpoint(filepath='Weights.hdf5', monitor='val_loss',\n",
    "                               verbose=1, save_best_only=True)\n",
    "base_lr = 0.0001\n",
    "momentum = 0.9\n",
    "\n",
    "sgd = SGD(lr=base_lr, momentum=momentum)"
   ]
  },
  {
   "cell_type": "code",
   "execution_count": 11,
   "metadata": {},
   "outputs": [
    {
     "name": "stdout",
     "output_type": "stream",
     "text": [
      "Train on 7995 samples, validate on 1999 samples\n",
      "Epoch 1/25\n",
      "7936/7995 [============================>.] - ETA: 0s - loss: 30.2454 - mae: 4.0257\n",
      "Epoch 00001: val_loss improved from inf to 28.79121, saving model to Weights.hdf5\n",
      "7995/7995 [==============================] - 11s 1ms/sample - loss: 30.3198 - mae: 4.0287 - val_loss: 28.7912 - val_mae: 3.9269\n",
      "Epoch 2/25\n",
      "7936/7995 [============================>.] - ETA: 0s - loss: 30.3250 - mae: 4.0254\n",
      "Epoch 00002: val_loss did not improve from 28.79121\n",
      "7995/7995 [==============================] - 6s 802us/sample - loss: 30.3046 - mae: 4.0240 - val_loss: 28.8352 - val_mae: 3.9347\n",
      "Epoch 3/25\n",
      "7968/7995 [============================>.] - ETA: 0s - loss: 30.2980 - mae: 4.0241\n",
      "Epoch 00003: val_loss did not improve from 28.79121\n",
      "7995/7995 [==============================] - 6s 763us/sample - loss: 30.2992 - mae: 4.0236 - val_loss: 28.8087 - val_mae: 3.9305\n",
      "Epoch 4/25\n",
      "7936/7995 [============================>.] - ETA: 0s - loss: 30.3302 - mae: 4.0247\n",
      "Epoch 00004: val_loss did not improve from 28.79121\n",
      "7995/7995 [==============================] - 6s 753us/sample - loss: 30.2962 - mae: 4.0227 - val_loss: 28.8343 - val_mae: 3.9349\n",
      "Epoch 5/25\n",
      "7968/7995 [============================>.] - ETA: 0s - loss: 30.3013 - mae: 4.0228\n",
      "Epoch 00005: val_loss did not improve from 28.79121\n",
      "7995/7995 [==============================] - 6s 752us/sample - loss: 30.2908 - mae: 4.0217 - val_loss: 28.8105 - val_mae: 3.9319\n",
      "Epoch 6/25\n",
      "7936/7995 [============================>.] - ETA: 0s - loss: 30.3035 - mae: 4.0230\n",
      "Epoch 00006: val_loss did not improve from 28.79121\n",
      "7995/7995 [==============================] - 6s 734us/sample - loss: 30.2891 - mae: 4.0224 - val_loss: 28.8067 - val_mae: 3.9291\n",
      "Epoch 7/25\n",
      "7904/7995 [============================>.] - ETA: 0s - loss: 30.2810 - mae: 4.0214\n",
      "Epoch 00007: val_loss did not improve from 28.79121\n",
      "7995/7995 [==============================] - 6s 775us/sample - loss: 30.2857 - mae: 4.0213 - val_loss: 28.8898 - val_mae: 3.9429\n",
      "Epoch 8/25\n",
      "7968/7995 [============================>.] - ETA: 0s - loss: 30.3099 - mae: 4.0233\n",
      "Epoch 00008: val_loss did not improve from 28.79121\n",
      "7995/7995 [==============================] - 6s 735us/sample - loss: 30.2943 - mae: 4.0221 - val_loss: 28.8136 - val_mae: 3.9305\n",
      "Epoch 9/25\n",
      "7968/7995 [============================>.] - ETA: 0s - loss: 30.2962 - mae: 4.0208\n",
      "Epoch 00009: val_loss did not improve from 28.79121\n",
      "7995/7995 [==============================] - 6s 740us/sample - loss: 30.2836 - mae: 4.0208 - val_loss: 28.8361 - val_mae: 3.9350\n",
      "Epoch 10/25\n",
      "7968/7995 [============================>.] - ETA: 0s - loss: 30.2802 - mae: 4.0212\n",
      "Epoch 00010: val_loss did not improve from 28.79121\n",
      "7995/7995 [==============================] - 6s 738us/sample - loss: 30.2818 - mae: 4.0202 - val_loss: 28.7967 - val_mae: 3.9272\n",
      "Epoch 11/25\n",
      "7904/7995 [============================>.] - ETA: 0s - loss: 30.3487 - mae: 4.0233\n",
      "Epoch 00011: val_loss did not improve from 28.79121\n",
      "7995/7995 [==============================] - 6s 744us/sample - loss: 30.2815 - mae: 4.0192 - val_loss: 28.7929 - val_mae: 3.9277\n",
      "Epoch 12/25\n",
      "7936/7995 [============================>.] - ETA: 0s - loss: 30.2748 - mae: 4.0179\n",
      "Epoch 00012: val_loss improved from 28.79121 to 28.78709, saving model to Weights.hdf5\n",
      "7995/7995 [==============================] - 8s 940us/sample - loss: 30.2759 - mae: 4.0184 - val_loss: 28.7871 - val_mae: 3.9251\n",
      "Epoch 13/25\n",
      "7936/7995 [============================>.] - ETA: 0s - loss: 30.2945 - mae: 4.0207\n",
      "Epoch 00013: val_loss improved from 28.78709 to 28.78199, saving model to Weights.hdf5\n",
      "7995/7995 [==============================] - 6s 781us/sample - loss: 30.2839 - mae: 4.0206 - val_loss: 28.7820 - val_mae: 3.9255\n",
      "Epoch 14/25\n",
      "7936/7995 [============================>.] - ETA: 0s - loss: 30.2604 - mae: 4.0174\n",
      "Epoch 00014: val_loss did not improve from 28.78199\n",
      "7995/7995 [==============================] - 6s 715us/sample - loss: 30.2805 - mae: 4.0191 - val_loss: 28.7950 - val_mae: 3.9281\n",
      "Epoch 15/25\n",
      "7968/7995 [============================>.] - ETA: 0s - loss: 30.2685 - mae: 4.0165\n",
      "Epoch 00015: val_loss did not improve from 28.78199\n",
      "7995/7995 [==============================] - 6s 741us/sample - loss: 30.2770 - mae: 4.0184 - val_loss: 28.8309 - val_mae: 3.9341\n",
      "Epoch 16/25\n",
      "7968/7995 [============================>.] - ETA: 0s - loss: 30.2743 - mae: 4.0184\n",
      "Epoch 00016: val_loss did not improve from 28.78199\n",
      "7995/7995 [==============================] - 6s 727us/sample - loss: 30.2747 - mae: 4.0180 - val_loss: 28.8299 - val_mae: 3.9343\n",
      "Epoch 17/25\n",
      "7904/7995 [============================>.] - ETA: 0s - loss: 30.2407 - mae: 4.0165\n",
      "Epoch 00017: val_loss did not improve from 28.78199\n",
      "7995/7995 [==============================] - 6s 746us/sample - loss: 30.2736 - mae: 4.0188 - val_loss: 28.8100 - val_mae: 3.9292\n",
      "Epoch 18/25\n",
      "7968/7995 [============================>.] - ETA: 0s - loss: 30.2736 - mae: 4.0175\n",
      "Epoch 00018: val_loss did not improve from 28.78199\n",
      "7995/7995 [==============================] - 6s 773us/sample - loss: 30.2698 - mae: 4.0169 - val_loss: 28.7971 - val_mae: 3.9278\n",
      "Epoch 19/25\n",
      "7968/7995 [============================>.] - ETA: 0s - loss: 30.2715 - mae: 4.0162\n",
      "Epoch 00019: val_loss did not improve from 28.78199\n",
      "7995/7995 [==============================] - 6s 755us/sample - loss: 30.2692 - mae: 4.0164 - val_loss: 28.8126 - val_mae: 3.9308\n",
      "Epoch 20/25\n",
      "7936/7995 [============================>.] - ETA: 0s - loss: 30.2464 - mae: 4.0158\n",
      "Epoch 00020: val_loss did not improve from 28.78199\n",
      "7995/7995 [==============================] - 6s 753us/sample - loss: 30.2684 - mae: 4.0169 - val_loss: 28.8094 - val_mae: 3.9296\n",
      "Epoch 21/25\n",
      "7904/7995 [============================>.] - ETA: 0s - loss: 30.3077 - mae: 4.0173 ETA: 1s - loss: 30. - ETA: 0s - loss:\n",
      "Epoch 00021: val_loss did not improve from 28.78199\n",
      "7995/7995 [==============================] - 6s 705us/sample - loss: 30.2684 - mae: 4.0163 - val_loss: 28.8013 - val_mae: 3.9293\n",
      "Epoch 22/25\n",
      "7904/7995 [============================>.] - ETA: 0s - loss: 30.2077 - mae: 4.0146 ETA: 0s - loss: 30.1482 - m - ETA: 0s - loss: 30.2399 - mae: 4.0157\n",
      "Epoch 00022: val_loss did not improve from 28.78199\n",
      "7995/7995 [==============================] - 6s 701us/sample - loss: 30.2671 - mae: 4.0163 - val_loss: 28.8110 - val_mae: 3.9297\n",
      "Epoch 23/25\n",
      "7904/7995 [============================>.] - ETA: 0s - loss: 30.2467 - mae: 4.0148\n",
      "Epoch 00023: val_loss did not improve from 28.78199\n",
      "7995/7995 [==============================] - 6s 717us/sample - loss: 30.2614 - mae: 4.0151 - val_loss: 28.8162 - val_mae: 3.9305\n",
      "Epoch 24/25\n",
      "7904/7995 [============================>.] - ETA: 0s - loss: 30.2071 - mae: 4.0144\n",
      "Epoch 00024: val_loss did not improve from 28.78199\n",
      "7995/7995 [==============================] - 6s 715us/sample - loss: 30.2686 - mae: 4.0175 - val_loss: 28.7937 - val_mae: 3.9267\n",
      "Epoch 25/25\n",
      "7904/7995 [============================>.] - ETA: 0s - loss: 30.3567 - mae: 4.0218\n",
      "Epoch 00025: val_loss did not improve from 28.78199\n",
      "7995/7995 [==============================] - 6s 709us/sample - loss: 30.2642 - mae: 4.0155 - val_loss: 28.8268 - val_mae: 3.9320\n"
     ]
    },
    {
     "data": {
      "text/plain": [
       "<tensorflow.python.keras.callbacks.History at 0x20d4d02a0c8>"
      ]
     },
     "execution_count": 11,
     "metadata": {},
     "output_type": "execute_result"
    }
   ],
   "source": [
    "final_model.compile(optimizer=sgd, loss='mse', metrics=['mae'])\n",
    "\n",
    "final_model.fit(x=[left_eye, right_eye, face, grid_mtcnn], \n",
    "          y=labels,\n",
    "          batch_size=32,\n",
    "          epochs=25,\n",
    "          validation_split=0.2,\n",
    "          shuffle=True,\n",
    "          callbacks=[lr_callback, checkpointer])\n"
   ]
  }
 ],
 "metadata": {
  "kernelspec": {
   "display_name": "Python 3",
   "language": "python",
   "name": "python3"
  },
  "language_info": {
   "codemirror_mode": {
    "name": "ipython",
    "version": 3
   },
   "file_extension": ".py",
   "mimetype": "text/x-python",
   "name": "python",
   "nbconvert_exporter": "python",
   "pygments_lexer": "ipython3",
   "version": "3.7.7"
  }
 },
 "nbformat": 4,
 "nbformat_minor": 2
}
