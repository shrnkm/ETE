{
 "cells": [
  {
   "cell_type": "code",
   "execution_count": 1,
   "metadata": {},
   "outputs": [],
   "source": [
    "import os\n",
    "import random\n",
    "import numpy as np\n",
    "import cv2\n",
    "import json\n",
    "import pickle\n",
    "import matplotlib.pyplot as plt\n",
    "import matplotlib.patches as patches\n",
    "from mtcnn.mtcnn import MTCNN\n",
    "from tqdm.notebook import tqdm"
   ]
  },
  {
   "cell_type": "markdown",
   "metadata": {},
   "source": [
    "# Settings"
   ]
  },
  {
   "cell_type": "code",
   "execution_count": 2,
   "metadata": {},
   "outputs": [],
   "source": [
    "# set the size of the dataset, manually\n",
    "samples = 10000\n",
    "# set the target orientation\n",
    "orientation = 1\n",
    "# set the scale for resizing the images\n",
    "scale = .5"
   ]
  },
  {
   "cell_type": "markdown",
   "metadata": {},
   "source": [
    "# Helper Functions"
   ]
  },
  {
   "cell_type": "code",
   "execution_count": 143,
   "metadata": {},
   "outputs": [],
   "source": [
    "# ----------------------------------------------------------------------\n",
    "# function for reading the Json files\n",
    "# ----------------------------------------------------------------------\n",
    "def idx_finder(folder):\n",
    "    '''\n",
    "    This function takes the folder name (string),\n",
    "    and returns a list of indices of the target\n",
    "    orientation and valid frames in the folder.\n",
    "    '''\n",
    "    # set the specific folder's path\n",
    "    path = 'Data_MIT/' + folder\n",
    "\n",
    "    # read the json files\n",
    "    # ------------------------------------------------------------------\n",
    "    # read the Face Crop json\n",
    "    with open(path + '/appleFace.json', 'r') as file:\n",
    "        face = json.load(file)\n",
    "    # read the Left Eye json\n",
    "    with open(path + '/appleLeftEye.json', 'r') as file:\n",
    "        eye_l = json.load(file)\n",
    "    # read the Right Eye json\n",
    "    with open(path + '/appleRightEye.json', 'r') as file:\n",
    "        eye_r = json.load(file)\n",
    "    # read the Scree json\n",
    "    with open(path + '/screen.json', 'r') as file:\n",
    "        screen = json.load(file)\n",
    "    \n",
    "    # make a list of all valid indices\n",
    "    # ------------------------------------------------------------------\n",
    "    # list of all frames with full face in it\n",
    "    faces = [idx for idx, val in enumerate(face['IsValid']) if val == 1]\n",
    "    # list of all frames with the left eye in it\n",
    "    eyes_l = [idx for idx, val in enumerate(eye_l['IsValid']) if val == 1]\n",
    "    # list of all frames with the right eye in it\n",
    "    eyes_r = [idx for idx, val in enumerate(eye_r['IsValid']) if val == 1]\n",
    "    # list of all portrait frames\n",
    "    portraits = [idx for idx, ori in enumerate(screen['Orientation']) if ori == orientation]\n",
    "    # intersection of all those lists\n",
    "    indices = [idx for idx in faces if idx in eyes_l and idx in eyes_r and idx in portraits]\n",
    "    \n",
    "    return indices\n",
    "\n",
    "\n",
    "\n",
    "# ----------------------------------------------------------------------\n",
    "# a function for reading Json files\n",
    "# ----------------------------------------------------------------------\n",
    "def json_reader(dictionary, jsn, frame):\n",
    "    '''\n",
    "    The function takes a dictionary and a string mentioning\n",
    "    the name of the json file, and a frame index, and it\n",
    "    reads index-related info from json files and record them\n",
    "    in the dictionary.\n",
    "    '''\n",
    "    # set the path to the json files\n",
    "    path = 'Data_MIT/' + frame[:5] + '/'\n",
    "    # get the index of the frame\n",
    "    idx = int(frame[-5:])\n",
    "    # read the face json file\n",
    "    with open(str(path + 'apple' + jsn + '.json'), 'r') as file:\n",
    "        jsn_info = json.load(file)    \n",
    "    # add the face patch coordinates to the dictionary\n",
    "    dictionary[jsn] = [round(jsn_info['X'][idx]),\n",
    "                       round(jsn_info['Y'][idx]),\n",
    "                       round(jsn_info['W'][idx]),\n",
    "                       round(jsn_info['H'][idx])]\n",
    "\n",
    "\n",
    "    \n",
    "# ----------------------------------------------------------------------    \n",
    "# a function to cut, resize, and save a patch\n",
    "# ----------------------------------------------------------------------\n",
    "def patch_reader(image, coordinates, path):\n",
    "    '''\n",
    "    The function takes an image and a list of coordinates (int),\n",
    "    and a path (string), and cuts a patch out of the image,\n",
    "    resizes it, and saves it in desired path.\n",
    "    '''\n",
    "    # check if the patches falls out of the frame\n",
    "    # -------------------------------------------\n",
    "    # whether the X coordinate is negative\n",
    "    if coordinates[0] < 0:\n",
    "        # if so, fill the shortage by replicating the edge \n",
    "        image = cv2.copyMakeBorder(image, 0, 0, np.abs(coordinates[0]), 0, cv2.BORDER_REPLICATE)\n",
    "        # and reset the X value regarding the new frame\n",
    "        coordinates[0] = 0\n",
    "\n",
    "    # whether Y is negative\n",
    "    if coordinates[1] < 0:\n",
    "        # if so, fill the shortage by replicating the edge \n",
    "        image = cv2.copyMakeBorder(image, np.abs(coordinates[1]), 0, 0, 0, cv2.BORDER_REPLICATE)\n",
    "        # and reset the Y value regarding the new frame\n",
    "        coordinates[1] = 0\n",
    "\n",
    "    # whether X+W is larger than the frame width\n",
    "    if coordinates[0]+coordinates[2] > image.shape[1]:\n",
    "        # if so, fill the shortage (diff) by replicating the edge\n",
    "        diff = np.abs(image.shape[1]-(coordinates[0]+coordinates[2]))\n",
    "        image = cv2.copyMakeBorder(image, 0, 0, 0, diff, cv2.BORDER_REPLICATE)\n",
    "\n",
    "    # whether Y+H is larger than the frame height\n",
    "    if coordinates[1]+coordinates[3] > image.shape[0]:\n",
    "        # so we fill the shortage (diff) by replicating the edge\n",
    "        diff = np.abs(image.shape[0]-(coordinates[1]+coordinates[3]))\n",
    "        image = cv2.copyMakeBorder(image, 0, diff, 0, 0, 0, cv2.BORDER_REPLICATE)\n",
    "\n",
    "        \n",
    "    # cut the patch\n",
    "    patch = image[coordinates[1]:coordinates[1]+coordinates[3],\n",
    "                  coordinates[0]:coordinates[0]+coordinates[2]]\n",
    "    \n",
    "    # resize the patch\n",
    "    patch_res = cv2.resize(patch, (224, 224))\n",
    "    \n",
    "    # save the image\n",
    "    cv2.imwrite(path, patch_res);\n",
    "\n",
    "\n",
    "\n",
    "# ----------------------------------------------------------------------\n",
    "# a function for reading grid coordinates\n",
    "# ----------------------------------------------------------------------\n",
    "def get_coords(folder, frame):\n",
    "    '''\n",
    "    This function takes the folder and the frame names (string),\n",
    "    read the faceGrid.json file, and returns the grid\n",
    "    coordinates.\n",
    "    '''\n",
    "    # set the path to the grid json file\n",
    "    path = 'Data_MIT/' + folder + '/faceGrid.json'\n",
    "    # read the json file\n",
    "    with open(path, 'r') as file:\n",
    "        grid = json.load(file)\n",
    "    # set the frame index\n",
    "    idx = int(frame)\n",
    "    # make a list of the X,Y,W, and H coordinates\n",
    "    coords = [round(grid['X'][idx]), round(grid['Y'][idx]),\n",
    "              round(grid['W'][idx]), round(grid['H'][idx])]\n",
    "    \n",
    "    # and return the coords list\n",
    "    return coords\n",
    "\n",
    "\n",
    "\n",
    "# ----------------------------------------------------------------------\n",
    "# a function for creating the grids based on the paper\n",
    "# ----------------------------------------------------------------------\n",
    "def grid_paper(coords, name):\n",
    "    '''\n",
    "    This function takes a list of coordinates, and\n",
    "    a name, and saves the face grid within a 25X25\n",
    "    white frame. \n",
    "    '''\n",
    "    # set the canvas\n",
    "    canvas = np.ones((25,25))*255\n",
    "\n",
    "    # grid coordinates\n",
    "    x = coords[0]\n",
    "    y = coords[1]\n",
    "    w = coords[2]\n",
    "    h = coords[3]\n",
    "    \n",
    "    # mask the face location\n",
    "    canvas[y:y+h, x:x+w] = 0\n",
    "\n",
    "    # set the path to save the grids\n",
    "    path = 'Data_Mini/GridPaper/' + name + '.jpg'\n",
    "    # save the face grid\n",
    "    plt.imsave(path, canvas, cmap='gray');\n",
    "\n",
    "\n",
    "\n",
    "# ----------------------------------------------------------------------\n",
    "# define a function for making facial grid of an image using MTCNN\n",
    "# ----------------------------------------------------------------------\n",
    "def grid_mtcnn(path):\n",
    "    '''\n",
    "    The function takes a path (string) to a scaled image (320,240) of a face \n",
    "    using the MTCNN computes its facial landmarks, creates a white canvas\n",
    "    of the same size as the original image and marks the facial landmarks\n",
    "    with black face-box and white dots for eyes and nose, and saves the\n",
    "    canvas (the gird) with the same name in the Grids folder. \n",
    "    '''\n",
    "    # read the image\n",
    "    img = plt.imread(path)\n",
    "    # detect face keypoints using MTCNN\n",
    "    results = MTCNN().detect_faces(img)\n",
    "    # set a white canvas with the same dimensions as the image\n",
    "    canvas = np.ones((320,240)) * 255\n",
    "    # get the face bounding box parameters\n",
    "    x, y, width, height = results[0]['box']\n",
    "    # blacken all the pixels falling in the face bounding box\n",
    "    canvas[y:y+height, x:x+width] = 0\n",
    "    # get the keypoints for eyes and nose while ignoring the mouth two points\n",
    "    keypoints = {key: val for key, val in results[0]['keypoints'].items() if not key.startswith('m')}\n",
    "    # whiten the keypoints\n",
    "    for key, val in keypoints.items():\n",
    "        canvas[val[1],val[0]]=255\n",
    "    # finally save it\n",
    "    plt.imsave(p[:10] + 'GridMTCNN/' + p[-15:], canvas, cmap='gray')\n",
    "    "
   ]
  },
  {
   "cell_type": "markdown",
   "metadata": {},
   "source": [
    "# Create the Input"
   ]
  },
  {
   "cell_type": "markdown",
   "metadata": {},
   "source": [
    "### Picking/Saving Random Frames"
   ]
  },
  {
   "cell_type": "code",
   "execution_count": 13,
   "metadata": {},
   "outputs": [
    {
     "data": {
      "application/vnd.jupyter.widget-view+json": {
       "model_id": "4ae8a4a819a5445cbfe2ff330f6221e9",
       "version_major": 2,
       "version_minor": 0
      },
      "text/plain": [
       "HBox(children=(FloatProgress(value=0.0, max=1474.0), HTML(value='')))"
      ]
     },
     "metadata": {},
     "output_type": "display_data"
    },
    {
     "name": "stdout",
     "output_type": "stream",
     "text": [
      "\n"
     ]
    }
   ],
   "source": [
    "# make a list of the folders in the data directory\n",
    "folders = [name for name in os.listdir('Data_MIT/')]\n",
    "# drop the irrelevant file in the data directory\n",
    "folders.remove('LICENSE.md')\n",
    "folders.remove('README.md')\n",
    "\n",
    "# create a list of valid and portrait frames in folders\n",
    "frames_all = []\n",
    "for folder in tqdm(folders):\n",
    "    # make a list of valid frames\n",
    "    indices = idx_finder(folder)\n",
    "    frames = [folder + '-' + (5 - len(str(idx))) * '0' + str(idx) for idx in indices]\n",
    "    frames_all = frames_all + frames\n",
    "\n",
    "# pick the 'samples' number of the frames, randomly\n",
    "# and in case of 'samples' larger than the number of\n",
    "# all frames, pick them all\n",
    "frames = random.sample(frames_all, k=min(samples, len(frames_all)))\n",
    "frames.sort()\n",
    "\n",
    "# create a dictionary of folders (keys) and frames (values-list)\n",
    "# first create a list of the folders\n",
    "folders = sorted(list(set([frame[:5] for frame in frames])))\n",
    "# the create an empty dictionary for saving the frames data\n",
    "frames_dic = {}\n",
    "# iterate over the folders and store each folder's picked frames\n",
    "for folder in folders:\n",
    "    frames_dic[folder] = [frame[-5:] for frame in frames if frame[:5]==folder]\n",
    "    \n",
    "# save the dictionary\n",
    "with open('Data_Mini/frames.pkl','wb') as f:\n",
    "    pickle.dump(frames_dic, f)\n"
   ]
  },
  {
   "cell_type": "markdown",
   "metadata": {},
   "source": [
    "### Extract/Save the Labels"
   ]
  },
  {
   "cell_type": "code",
   "execution_count": 72,
   "metadata": {},
   "outputs": [],
   "source": [
    "# create a list to store dot location for each frame\n",
    "labels = []\n",
    "\n",
    "\n",
    "# iterate over dictionary keys/values and get the labels\n",
    "for key, value in frames_dic.items():\n",
    "    # set the specific folder's path\n",
    "    path = 'Data_MIT/' + key\n",
    "    \n",
    "    # read the dot json\n",
    "    with open(path + '/dotInfo.json', 'r') as file:\n",
    "        dot = json.load(file)\n",
    "    \n",
    "    # convert the frames list from string to integer\n",
    "    indices_int = [int(idx) for idx in value] \n",
    "    \n",
    "    for idx in indices_int:\n",
    "        labels.append([dot['XCam'][idx], dot['YCam'][idx]])\n",
    "\n",
    "        \n",
    "# make an np.array out of the coordinates for valid frames\n",
    "labels = np.array(labels)\n",
    "\n",
    "# and save it in a pickle file\n",
    "with open('Data_Mini/labels.pkl','wb') as f:\n",
    "    pickle.dump(labels, f)"
   ]
  },
  {
   "cell_type": "markdown",
   "metadata": {},
   "source": [
    "### Extract/Save the Resized Images"
   ]
  },
  {
   "cell_type": "code",
   "execution_count": 77,
   "metadata": {},
   "outputs": [
    {
     "data": {
      "application/vnd.jupyter.widget-view+json": {
       "model_id": "9ede0f02d7ce4b6aa4a1b28344809467",
       "version_major": 2,
       "version_minor": 0
      },
      "text/plain": [
       "HBox(children=(FloatProgress(value=0.0, max=1342.0), HTML(value='')))"
      ]
     },
     "metadata": {},
     "output_type": "display_data"
    },
    {
     "name": "stdout",
     "output_type": "stream",
     "text": [
      "\n"
     ]
    }
   ],
   "source": [
    "# iterate over folders in dict and frames in folders\n",
    "for key, value in tqdm(frames_dic.items()):\n",
    "    for idx in value:\n",
    "        # set the path to each frame\n",
    "        path = 'Data_MIT/' + key + '/frames/' + idx + '.jpg'\n",
    "        \n",
    "        # read the image\n",
    "        img = cv2.imread(path)\n",
    "        \n",
    "        # resize the image\n",
    "        new_h = int(img.shape[1]*scale)\n",
    "        new_w = int(img.shape[0]*scale)\n",
    "        img = cv2.resize(img, (new_h, new_w))\n",
    "    \n",
    "        # set the address for saving the image\n",
    "        save_path = 'Data_Mini/Images/' + key + '-' + idx + '.jpg'  \n",
    "        \n",
    "        # and save the image\n",
    "        cv2.imwrite(save_path, img);\n"
   ]
  },
  {
   "cell_type": "markdown",
   "metadata": {},
   "source": [
    "### Extract/Save the Patches"
   ]
  },
  {
   "cell_type": "code",
   "execution_count": 101,
   "metadata": {},
   "outputs": [
    {
     "data": {
      "application/vnd.jupyter.widget-view+json": {
       "model_id": "399da2b51e5c41c4ae5a65ded2b6100e",
       "version_major": 2,
       "version_minor": 0
      },
      "text/plain": [
       "HBox(children=(FloatProgress(value=0.0, max=1342.0), HTML(value='')))"
      ]
     },
     "metadata": {},
     "output_type": "display_data"
    },
    {
     "name": "stdout",
     "output_type": "stream",
     "text": [
      "\n"
     ]
    }
   ],
   "source": [
    "# list of the json files to read\n",
    "json_list = ['Face', 'LeftEye', 'RightEye']\n",
    "\n",
    "\n",
    "# iterate over folders in dict and frames in folders\n",
    "for key, value in tqdm(frames_dic.items()):\n",
    "    for idx in value:\n",
    "        \n",
    "        # define the dictionary for recording the info\n",
    "        coords = {}\n",
    "        \n",
    "        # iterate over all json files and read/record the info\n",
    "        for jsn in json_list:\n",
    "            # read each json file\n",
    "            json_reader(coords, jsn, key + '-' + idx)\n",
    "\n",
    "        # adjust the eyes' coordinates to express the location\n",
    "        # for within the frame\n",
    "        coords['LeftEye'][0] += coords['Face'][0]\n",
    "        coords['LeftEye'][1] += coords['Face'][1]\n",
    "        coords['RightEye'][0] += coords['Face'][0]\n",
    "        coords['RightEye'][1] += coords['Face'][1]\n",
    "\n",
    "        # set the path to the image\n",
    "        path = 'Data_MIT/' + key + '/frames/' + idx + '.jpg'\n",
    "        # read the image\n",
    "        img = cv2.imread(path)\n",
    "        \n",
    "        # iterate over two eyes\n",
    "        for patch in ['Face', 'LeftEye', 'RightEye']:\n",
    "            # set the save path\n",
    "            save_path = 'Data_Mini/' + patch + '/' + key + '-' + idx + '.jpg' \n",
    "            # save the patch\n",
    "            patch_reader(img, coords[patch], save_path)\n"
   ]
  },
  {
   "cell_type": "markdown",
   "metadata": {},
   "source": [
    "### Extract/Save the Paper Grids"
   ]
  },
  {
   "cell_type": "code",
   "execution_count": 138,
   "metadata": {},
   "outputs": [
    {
     "data": {
      "application/vnd.jupyter.widget-view+json": {
       "model_id": "246f1e2cb90b42e2bcbe943b2003332c",
       "version_major": 2,
       "version_minor": 0
      },
      "text/plain": [
       "HBox(children=(FloatProgress(value=0.0, max=1342.0), HTML(value='')))"
      ]
     },
     "metadata": {},
     "output_type": "display_data"
    },
    {
     "name": "stdout",
     "output_type": "stream",
     "text": [
      "\n"
     ]
    }
   ],
   "source": [
    "# iterate over folders in dict and frames in folders\n",
    "for key, value in tqdm(frames_dic.items()):\n",
    "    for idx in value:\n",
    "        # get the grid coordinates\n",
    "        coords = get_coords(key, idx)\n",
    "        # save the grid\n",
    "        grid_paper(coords, key + '-' + idx )\n"
   ]
  },
  {
   "cell_type": "markdown",
   "metadata": {},
   "source": [
    "### Extract/Save the MTCNN Grids"
   ]
  },
  {
   "cell_type": "code",
   "execution_count": null,
   "metadata": {},
   "outputs": [],
   "source": [
    "# iterate over folders in dict and frames in folders\n",
    "for key, value in frames_dic.items():\n",
    "    for idx in value:\n",
    "        # set the path to the image\n",
    "        path = 'Data_Mini' + key + '-' + idx + '.jpg'\n",
    "        # create and save the grid\n",
    "        grid_mtcnn(path)\n",
    "        "
   ]
  },
  {
   "cell_type": "markdown",
   "metadata": {},
   "source": [
    "# Save Data-Pickle Files"
   ]
  }
 ],
 "metadata": {
  "kernelspec": {
   "display_name": "Python 3",
   "language": "python",
   "name": "python3"
  },
  "language_info": {
   "codemirror_mode": {
    "name": "ipython",
    "version": 3
   },
   "file_extension": ".py",
   "mimetype": "text/x-python",
   "name": "python",
   "nbconvert_exporter": "python",
   "pygments_lexer": "ipython3",
   "version": "3.7.7"
  }
 },
 "nbformat": 4,
 "nbformat_minor": 4
}
