{
 "cells": [
  {
   "cell_type": "code",
   "execution_count": 25,
   "metadata": {},
   "outputs": [],
   "source": [
    "import os\n",
    "import numpy as np\n",
    "import json\n",
    "import pickle"
   ]
  },
  {
   "cell_type": "markdown",
   "metadata": {},
   "source": [
    "## Create the Lists"
   ]
  },
  {
   "cell_type": "code",
   "execution_count": 27,
   "metadata": {},
   "outputs": [
    {
     "name": "stdout",
     "output_type": "stream",
     "text": [
      " We have 1274 train folders,\n",
      " 150 test folders, and\n",
      " 50 validate folders.\n"
     ]
    }
   ],
   "source": [
    "# make a list of the folders in the data directory\n",
    "folders = [name for name in os.listdir('Data_MIT/')]\n",
    "# drop the irrelevant file in the data directory\n",
    "folders.remove('LICENSE.md')\n",
    "\n",
    "# create three lists for recording the training, testing, and\n",
    "# validating frames (folders)\n",
    "train =[]\n",
    "test = []\n",
    "val = []\n",
    "\n",
    "# loop over all folders available in the folders list\n",
    "for folder in folders:\n",
    "    # set the path to the folder on my system\n",
    "    path = 'Data_MIT/' + folder\n",
    "    #  read the info jason\n",
    "    with open(path + '/info.json', 'r') as file:\n",
    "        info = json.load(file)\n",
    "    # if there is at least one useable frame in the folder,\n",
    "    if info['NumFaceDetections'] and info['NumFaceDetections']:\n",
    "        # read the whether it is a train, test, or validation folder\n",
    "        subset = info['Dataset']\n",
    "        # and append the name of the folder to the corresponding list\n",
    "        exec(subset + '.append(str(folder))')\n",
    "\n",
    "# check the number of folders in each set\n",
    "tr = len(train)\n",
    "ts = len(test)\n",
    "vl = len(val)\n",
    "\n",
    "# print it out\n",
    "print(' We have', tr, 'train folders,\\n',\n",
    "      ts, 'test folders, and\\n',\n",
    "      vl, 'validate folders.')\n",
    "\n",
    "with open('train.pkl', 'wb') as f:\n",
    "    pickle.dump(train, f)\n",
    "\n",
    "with open('test.pkl', 'wb') as f:\n",
    "    pickle.dump(test, f)\n",
    "\n",
    "with open('val.pkl', 'wb') as f:\n",
    "    pickle.dump(val, f)\n"
   ]
  },
  {
   "cell_type": "markdown",
   "metadata": {},
   "source": [
    "## Save the Cropped Images"
   ]
  }
 ],
 "metadata": {
  "kernelspec": {
   "display_name": "Python 3",
   "language": "python",
   "name": "python3"
  },
  "language_info": {
   "codemirror_mode": {
    "name": "ipython",
    "version": 3
   },
   "file_extension": ".py",
   "mimetype": "text/x-python",
   "name": "python",
   "nbconvert_exporter": "python",
   "pygments_lexer": "ipython3",
   "version": "3.7.5"
  }
 },
 "nbformat": 4,
 "nbformat_minor": 2
}
