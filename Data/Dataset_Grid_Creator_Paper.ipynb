{
 "cells": [
  {
   "cell_type": "code",
   "execution_count": 1,
   "metadata": {},
   "outputs": [],
   "source": [
    "import pickle\n",
    "import json\n",
    "import numpy\n",
    "import cv2\n",
    "from tqdm.notebook import tqdm"
   ]
  },
  {
   "cell_type": "code",
   "execution_count": 2,
   "metadata": {},
   "outputs": [],
   "source": [
    "# read the pkl file and load the data\n",
    "with open('Data_Mini/frames.pkl','rb') as file:\n",
    "    frames = pickle.load(file)\n",
    "frames.sort()"
   ]
  },
  {
   "cell_type": "markdown",
   "metadata": {},
   "source": [
    "## Helper Functions"
   ]
  },
  {
   "cell_type": "code",
   "execution_count": 3,
   "metadata": {},
   "outputs": [],
   "source": [
    "# a function for reading grid coordinates\n",
    "def get_coords(frame):\n",
    "    '''\n",
    "    This function takes the frame full name (string),\n",
    "    read the faceGrid.json file, and returns the grid\n",
    "    coordinates.\n",
    "    '''\n",
    "    # set the path to the grid json file\n",
    "    path = 'Data_MIT/' + frame[:5] + '/faceGrid.json'\n",
    "    # read the json file\n",
    "    with open(path, 'r') as file:\n",
    "        grid = json.load(file)\n",
    "    # set the frame index\n",
    "    idx = int(frame[5:])\n",
    "    # make a list of the X,Y,W, and H coordinates\n",
    "    coords = [round(grid['X'][idx]), round(grid['Y'][idx]),\n",
    "              round(grid['W'][idx]), round(grid['H'][idx])]\n",
    "    \n",
    "    # and return the coords list\n",
    "    return coords\n",
    "\n",
    "\n",
    "# a function for saving the grids\n",
    "def save_grid(coords, name):\n",
    "    '''\n",
    "    This function takes a list of coordinates, and\n",
    "    a name, and saves the face grid within a 25X25\n",
    "    white frame. \n",
    "    '''\n",
    "    # set the canvas\n",
    "    canvas = numpy.ones((25,25))*255\n",
    "\n",
    "    # grid coordinates\n",
    "    x = coords[0]\n",
    "    y = coords[1]\n",
    "    w = coords[2]\n",
    "    h = coords[3]\n",
    "    \n",
    "    # mask the face location\n",
    "    canvas[y:y+h, x:x+w] = 0\n",
    "\n",
    "    # set the path to save the grids\n",
    "    path = 'Data_Mini/Grids_Paper/' + name + '.jpg'\n",
    "    # save the face grid\n",
    "    cv2.imwrite(path, canvas);\n",
    "    "
   ]
  },
  {
   "cell_type": "markdown",
   "metadata": {},
   "source": [
    "## Save the Grids"
   ]
  },
  {
   "cell_type": "code",
   "execution_count": null,
   "metadata": {},
   "outputs": [
    {
     "data": {
      "application/vnd.jupyter.widget-view+json": {
       "model_id": "abde92f5785449d0abc9c6af760f95ca",
       "version_major": 2,
       "version_minor": 0
      },
      "text/plain": [
       "HBox(children=(FloatProgress(value=0.0, max=10000.0), HTML(value='')))"
      ]
     },
     "metadata": {},
     "output_type": "display_data"
    }
   ],
   "source": [
    "# set the counter for naming the grid files\n",
    "counter = 0\n",
    "\n",
    "# for each frame in mini dataset\n",
    "for frame in tqdm(frames):\n",
    "    # read the face grid coordinates\n",
    "    coords = get_coords(frame)\n",
    "    # set the name\n",
    "    name = '0'*(5-len(str(counter))) + str(counter) \n",
    "    # save the grid\n",
    "    save_grid(coords, name)\n",
    "    # increment the counter\n",
    "    counter += 1"
   ]
  }
 ],
 "metadata": {
  "kernelspec": {
   "display_name": "Python 3",
   "language": "python",
   "name": "python3"
  },
  "language_info": {
   "codemirror_mode": {
    "name": "ipython",
    "version": 3
   },
   "file_extension": ".py",
   "mimetype": "text/x-python",
   "name": "python",
   "nbconvert_exporter": "python",
   "pygments_lexer": "ipython3",
   "version": "3.7.5"
  }
 },
 "nbformat": 4,
 "nbformat_minor": 2
}
