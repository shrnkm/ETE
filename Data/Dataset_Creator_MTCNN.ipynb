{
 "cells": [
  {
   "cell_type": "code",
   "execution_count": 1,
   "metadata": {},
   "outputs": [],
   "source": [
    "import os\n",
    "import random\n",
    "import numpy as np\n",
    "import cv2\n",
    "import json\n",
    "import pickle\n",
    "import matplotlib.pyplot as plt\n",
    "import matplotlib.patches as patches"
   ]
  },
  {
   "cell_type": "markdown",
   "metadata": {},
   "source": [
    "## Settings"
   ]
  },
  {
   "cell_type": "code",
   "execution_count": null,
   "metadata": {},
   "outputs": [],
   "source": [
    "# set the size of the dataset, manually\n",
    "samples = 10000\n",
    "# set the new size of the input images, manually\n",
    "height = 420 # original height is 640 pixels"
   ]
  },
  {
   "cell_type": "markdown",
   "metadata": {},
   "source": [
    "## Helper Functions"
   ]
  },
  {
   "cell_type": "code",
   "execution_count": null,
   "metadata": {},
   "outputs": [],
   "source": []
  },
  {
   "cell_type": "markdown",
   "metadata": {},
   "source": [
    "## Create the Dataset"
   ]
  },
  {
   "cell_type": "code",
   "execution_count": 6,
   "metadata": {},
   "outputs": [],
   "source": [
    "# make a list of the folders in the data directory\n",
    "folders = [name for name in os.listdir('Data_MIT/')]\n",
    "# drop the irrelevant file in the data directory\n",
    "folders.remove('LICENSE.md')\n",
    "\n",
    "# create a dictionary of valid and portrait frames in each folder\n",
    "for folder in folders:\n",
    "    # make a list of valid frames\n",
    "    \n",
    "    frames = [name for name in os.listdir('Data_MIT/'+folder+'/frames/')]\n",
    "    break"
   ]
  },
  {
   "cell_type": "code",
   "execution_count": 7,
   "metadata": {},
   "outputs": [
    {
     "data": {
      "text/plain": [
       "['00000.jpg',\n",
       " '00001.jpg',\n",
       " '00002.jpg',\n",
       " '00003.jpg',\n",
       " '00004.jpg',\n",
       " '00005.jpg',\n",
       " '00006.jpg',\n",
       " '00007.jpg',\n",
       " '00008.jpg',\n",
       " '00009.jpg',\n",
       " '00010.jpg',\n",
       " '00011.jpg',\n",
       " '00012.jpg',\n",
       " '00013.jpg',\n",
       " '00014.jpg',\n",
       " '00015.jpg',\n",
       " '00016.jpg',\n",
       " '00017.jpg',\n",
       " '00018.jpg',\n",
       " '00019.jpg',\n",
       " '00020.jpg',\n",
       " '00021.jpg',\n",
       " '00022.jpg',\n",
       " '00023.jpg',\n",
       " '00024.jpg',\n",
       " '00025.jpg',\n",
       " '00026.jpg',\n",
       " '00027.jpg',\n",
       " '00028.jpg',\n",
       " '00029.jpg',\n",
       " '00030.jpg',\n",
       " '00031.jpg',\n",
       " '00032.jpg',\n",
       " '00033.jpg',\n",
       " '00034.jpg',\n",
       " '00035.jpg',\n",
       " '00036.jpg',\n",
       " '00037.jpg',\n",
       " '00038.jpg',\n",
       " '00039.jpg',\n",
       " '00040.jpg',\n",
       " '00041.jpg',\n",
       " '00042.jpg',\n",
       " '00043.jpg',\n",
       " '00044.jpg',\n",
       " '00045.jpg',\n",
       " '00046.jpg',\n",
       " '00047.jpg',\n",
       " '00048.jpg',\n",
       " '00049.jpg',\n",
       " '00050.jpg',\n",
       " '00051.jpg',\n",
       " '00052.jpg',\n",
       " '00053.jpg',\n",
       " '00054.jpg',\n",
       " '00055.jpg',\n",
       " '00056.jpg',\n",
       " '00057.jpg',\n",
       " '00058.jpg',\n",
       " '00059.jpg',\n",
       " '00060.jpg',\n",
       " '00061.jpg',\n",
       " '00062.jpg',\n",
       " '00063.jpg',\n",
       " '00064.jpg',\n",
       " '00065.jpg',\n",
       " '00066.jpg',\n",
       " '00067.jpg',\n",
       " '00068.jpg',\n",
       " '00069.jpg',\n",
       " '00070.jpg',\n",
       " '00071.jpg',\n",
       " '00072.jpg',\n",
       " '00073.jpg',\n",
       " '00074.jpg',\n",
       " '00075.jpg',\n",
       " '00076.jpg',\n",
       " '00077.jpg',\n",
       " '00078.jpg',\n",
       " '00079.jpg',\n",
       " '00080.jpg',\n",
       " '00081.jpg',\n",
       " '00082.jpg',\n",
       " '00083.jpg',\n",
       " '00084.jpg',\n",
       " '00085.jpg',\n",
       " '00086.jpg',\n",
       " '00087.jpg',\n",
       " '00088.jpg',\n",
       " '00089.jpg',\n",
       " '00090.jpg',\n",
       " '00091.jpg',\n",
       " '00092.jpg',\n",
       " '00093.jpg',\n",
       " '00094.jpg',\n",
       " '00095.jpg',\n",
       " '00096.jpg',\n",
       " '00097.jpg',\n",
       " '00098.jpg']"
      ]
     },
     "execution_count": 7,
     "metadata": {},
     "output_type": "execute_result"
    }
   ],
   "source": [
    "frames"
   ]
  },
  {
   "cell_type": "code",
   "execution_count": 8,
   "metadata": {},
   "outputs": [
    {
     "data": {
      "text/plain": [
       "99"
      ]
     },
     "execution_count": 8,
     "metadata": {},
     "output_type": "execute_result"
    }
   ],
   "source": [
    "len(frames)"
   ]
  }
 ],
 "metadata": {
  "kernelspec": {
   "display_name": "Python 3",
   "language": "python",
   "name": "python3"
  },
  "language_info": {
   "codemirror_mode": {
    "name": "ipython",
    "version": 3
   },
   "file_extension": ".py",
   "mimetype": "text/x-python",
   "name": "python",
   "nbconvert_exporter": "python",
   "pygments_lexer": "ipython3",
   "version": "3.7.5"
  }
 },
 "nbformat": 4,
 "nbformat_minor": 2
}
