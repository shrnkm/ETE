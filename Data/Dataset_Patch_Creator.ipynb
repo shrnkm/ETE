{
 "cells": [
  {
   "cell_type": "code",
   "execution_count": 1,
   "metadata": {},
   "outputs": [],
   "source": [
    "import os\n",
    "import json\n",
    "import pickle\n",
    "import cv2\n",
    "import numpy as np\n",
    "from tqdm.notebook import tqdm"
   ]
  },
  {
   "cell_type": "markdown",
   "metadata": {},
   "source": [
    "## Helper Functions"
   ]
  },
  {
   "cell_type": "code",
   "execution_count": 2,
   "metadata": {},
   "outputs": [],
   "source": [
    "# a function for reading Json files\n",
    "def json_reader(dictionary, jsn, frame):\n",
    "    '''\n",
    "    The function takes a dictionary and a string mentioning\n",
    "    the name of the json file, and a frame index, and it\n",
    "    reads index-related info from json files and record them\n",
    "    in the dictionary.\n",
    "    '''\n",
    "    # set the path to the json files\n",
    "    path = 'Data_MIT/' + frame[:5] + '/'\n",
    "    # get the index of the frame\n",
    "    idx = int(frame[5:])\n",
    "    # read the face json file\n",
    "    with open(str(path + 'apple' + jsn + '.json'), 'r') as file:\n",
    "        jsn_info = json.load(file)    \n",
    "    # add the face patch coordinates to the dictionary\n",
    "    dictionary[jsn] = [round(jsn_info['X'][idx]),\n",
    "                       round(jsn_info['Y'][idx]),\n",
    "                       round(jsn_info['W'][idx]),\n",
    "                       round(jsn_info['H'][idx])]\n",
    "\n",
    "    \n",
    "# a function to cut, resize, and save a patch\n",
    "def patch_reader(image, coordinates, name):\n",
    "    '''\n",
    "    The function takes an image and a list of coordinates (int),\n",
    "    and a name (string), and cuts a patch out of the image,\n",
    "    resizes it, and saves it under the given name.\n",
    "    '''\n",
    "    # check if the patches falls out of the frame\n",
    "    # -------------------------------------------\n",
    "    # whether the X coordinate is negative\n",
    "    if coordinates[0] < 0:\n",
    "        # if so, fill the shortage by replicating the edge \n",
    "        image = cv2.copyMakeBorder(image, 0, 0, np.abs(coordinates[0]), 0, cv2.BORDER_REPLICATE)\n",
    "        # and reset the X value regarding the new frame\n",
    "        coordinates[0] = 0\n",
    "\n",
    "    # whether Y is negative\n",
    "    if coordinates[1] < 0:\n",
    "        # if so, fill the shortage by replicating the edge \n",
    "        image = cv2.copyMakeBorder(image, np.abs(coordinates[1]), 0, 0, 0, cv2.BORDER_REPLICATE)\n",
    "        # and reset the Y value regarding the new frame\n",
    "        coordinates[1] = 0\n",
    "\n",
    "    # whether X+W is larger than the frame width\n",
    "    if coordinates[0]+coordinates[2] > image.shape[1]:\n",
    "        # if so, fill the shortage (diff) by replicating the edge\n",
    "        diff = np.abs(image.shape[1]-(coordinates[0]+coordinates[2]))\n",
    "        image = cv2.copyMakeBorder(image, 0, 0, 0, diff, cv2.BORDER_REPLICATE)\n",
    "\n",
    "    # whether Y+H is larger than the frame height\n",
    "    if coordinates[1]+coordinates[3] > image.shape[0]:\n",
    "        # so we fill the shortage (diff) by replicating the edge\n",
    "        diff = np.abs(image.shape[0]-(coordinates[1]+coordinates[3]))\n",
    "        image = cv2.copyMakeBorder(image, 0, diff, 0, 0, 0, cv2.BORDER_REPLICATE)\n",
    "\n",
    "        \n",
    "    # cut the patch\n",
    "    patch = image[coordinates[1]:coordinates[1]+coordinates[3],\n",
    "                  coordinates[0]:coordinates[0]+coordinates[2]]\n",
    "    \n",
    "    # resize the patch\n",
    "    patch_res = cv2.resize(patch, (224, 224))\n",
    "    \n",
    "    # set the path and name for the image\n",
    "    path = 'Data_MTCNN/Patches/' + name + '.jpg'\n",
    "    # save the image\n",
    "    cv2.imwrite(path, patch_res);\n",
    "    "
   ]
  },
  {
   "cell_type": "markdown",
   "metadata": {},
   "source": [
    "## Patch Creator"
   ]
  },
  {
   "cell_type": "code",
   "execution_count": 3,
   "metadata": {},
   "outputs": [],
   "source": [
    "# read the pkl file and load the data\n",
    "with open('Data_MTCNN/frames.pkl','rb') as f:\n",
    "    frames = pickle.load(f)\n",
    "frames.sort()"
   ]
  },
  {
   "cell_type": "code",
   "execution_count": 4,
   "metadata": {},
   "outputs": [
    {
     "data": {
      "application/vnd.jupyter.widget-view+json": {
       "model_id": "b854eb6b39db470fbd72e0e9ddc2d1d3",
       "version_major": 2,
       "version_minor": 0
      },
      "text/plain": [
       "HBox(children=(FloatProgress(value=0.0, max=10000.0), HTML(value='')))"
      ]
     },
     "metadata": {},
     "output_type": "display_data"
    },
    {
     "name": "stdout",
     "output_type": "stream",
     "text": [
      "\n"
     ]
    }
   ],
   "source": [
    "# set counter for naming the patches\n",
    "counter = 0\n",
    "\n",
    "# iterate over frames\n",
    "for frame in tqdm(frames):\n",
    "    # define the dictionary for recording the info\n",
    "    coords = {}\n",
    "    # list of name of json files\n",
    "    json_list = ['Face', 'LeftEye', 'RightEye']\n",
    "    \n",
    "    # iterate over all json files and read/record the info\n",
    "    for jsn in json_list:\n",
    "        # read each json file\n",
    "        json_reader(coords, jsn, frame)\n",
    "    \n",
    "    # adjust the eyes' coordinates to express the location\n",
    "    # for within the frame\n",
    "    coords['LeftEye'][0] += coords['Face'][0]\n",
    "    coords['LeftEye'][1] += coords['Face'][1]\n",
    "    coords['RightEye'][0] += coords['Face'][0]\n",
    "    coords['RightEye'][1] += coords['Face'][1]\n",
    "    \n",
    "    # set the image name\n",
    "    name = '0'*(5-len(str(counter))) + str(counter)\n",
    "    # set the path to the image\n",
    "    path = 'Data_MIT/' + frame[:5] + '/frames/' + '0'*(5-len(frame[5:])) + frame[5:] + '.jpg'\n",
    "    # read the image\n",
    "    img = cv2.imread(path)\n",
    "    \n",
    "    # iterate over two eyes\n",
    "    for patch in ['Face', 'LeftEye', 'RightEye']:\n",
    "        # save the patch\n",
    "        patch_reader(img, coords[patch], name + '_' + patch[0].lower())\n",
    "        \n",
    "    # count\n",
    "    counter += 1\n",
    "    "
   ]
  }
 ],
 "metadata": {
  "kernelspec": {
   "display_name": "Python 3",
   "language": "python",
   "name": "python3"
  },
  "language_info": {
   "codemirror_mode": {
    "name": "ipython",
    "version": 3
   },
   "file_extension": ".py",
   "mimetype": "text/x-python",
   "name": "python",
   "nbconvert_exporter": "python",
   "pygments_lexer": "ipython3",
   "version": "3.7.5"
  }
 },
 "nbformat": 4,
 "nbformat_minor": 2
}
