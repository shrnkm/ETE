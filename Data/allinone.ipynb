{
 "cells": [
  {
   "cell_type": "code",
   "execution_count": 1,
   "metadata": {},
   "outputs": [],
   "source": [
    "import os\n",
    "import random\n",
    "import numpy as np\n",
    "import cv2\n",
    "import json\n",
    "import pickle\n",
    "import matplotlib.pyplot as plt\n",
    "import matplotlib.patches as patches\n",
    "from tqdm.notebook import tqdm"
   ]
  },
  {
   "cell_type": "markdown",
   "metadata": {},
   "source": [
    "## Settings"
   ]
  },
  {
   "cell_type": "code",
   "execution_count": 2,
   "metadata": {},
   "outputs": [],
   "source": [
    "# set the size of the dataset, manually\n",
    "samples = 10000\n",
    "# set the target orientation\n",
    "orientation = 1\n",
    "# set the scale for resizing the images\n",
    "scale = .5"
   ]
  },
  {
   "cell_type": "markdown",
   "metadata": {},
   "source": [
    "## Helper Functions"
   ]
  },
  {
   "cell_type": "code",
   "execution_count": 3,
   "metadata": {},
   "outputs": [],
   "source": [
    "# function for reading the Json files\n",
    "def idx_finder(folder):\n",
    "    '''\n",
    "    This function takes the folder name (string),\n",
    "    and returns a list of indices of the target\n",
    "    orientation and valid frames in the folder.\n",
    "    '''\n",
    "    # set the specific folder's path\n",
    "    path = 'Data_MIT/' + folder\n",
    "\n",
    "    # read the json files\n",
    "    # ------------------------------------------------------------------\n",
    "    # read the Face Crop json\n",
    "    with open(path + '/appleFace.json', 'r') as file:\n",
    "        face = json.load(file)\n",
    "    # read the Left Eye json\n",
    "    with open(path + '/appleLeftEye.json', 'r') as file:\n",
    "        eye_l = json.load(file)\n",
    "    # read the Right Eye json\n",
    "    with open(path + '/appleRightEye.json', 'r') as file:\n",
    "        eye_r = json.load(file)\n",
    "    # read the Scree json\n",
    "    with open(path + '/screen.json', 'r') as file:\n",
    "        screen = json.load(file)\n",
    "    \n",
    "    # make a list of all valid indices\n",
    "    # ------------------------------------------------------------------\n",
    "    # list of all frames with full face in it\n",
    "    faces = [idx for idx, val in enumerate(face['IsValid']) if val == 1]\n",
    "    # list of all frames with the left eye in it\n",
    "    eyes_l = [idx for idx, val in enumerate(eye_l['IsValid']) if val == 1]\n",
    "    # list of all frames with the right eye in it\n",
    "    eyes_r = [idx for idx, val in enumerate(eye_r['IsValid']) if val == 1]\n",
    "    # list of all portrait frames\n",
    "    portraits = [idx for idx, ori in enumerate(screen['Orientation']) if ori == orientation]\n",
    "    # intersection of all those lists\n",
    "    indices = [idx for idx in faces if idx in eyes_l and idx in eyes_r and idx in portraits]\n",
    "    \n",
    "    return indices\n",
    "    \n",
    "    \n",
    "    \n",
    "# function for getting the gaze coordinates\n",
    "def get_labels(folder, indices):\n",
    "    '''\n",
    "    The function takes the folder name (string),\n",
    "    and a list of indices (list) and returns an\n",
    "    np.array of gaze coordinates or the labels.\n",
    "    '''\n",
    "    # set the specific folder's path\n",
    "    path = 'Data_MIT/' + folder\n",
    "    \n",
    "    # read the dot json\n",
    "    with open(path + '/dotInfo.json', 'r') as file:\n",
    "        dot = json.load(file)\n",
    "    \n",
    "    # list of XCam coordinate for valid frames\n",
    "    dot_x = [x for idx, x in enumerate(dot['XCam']) if idx in indices]\n",
    "    # list of YCam coordinate for valid frames\n",
    "    dot_y = [y for idx, y in enumerate(dot['YCam']) if idx in indices]\n",
    "    # make an np.array out of the coordinates for valid frames\n",
    "    dots = np.column_stack((dot_x, dot_y))\n",
    "    \n",
    "    return dots\n",
    "    \n",
    "    "
   ]
  },
  {
   "cell_type": "markdown",
   "metadata": {},
   "source": [
    "## Picking Random Frames"
   ]
  },
  {
   "cell_type": "code",
   "execution_count": 6,
   "metadata": {},
   "outputs": [],
   "source": [
    "# make a list of the folders in the data directory\n",
    "folders = [name for name in os.listdir('Data_MIT/')]\n",
    "# drop the irrelevant file in the data directory\n",
    "folders.remove('LICENSE.md')\n",
    "folders.remove('README.md')\n",
    "\n",
    "# create a list of valid and portrait frames in folders\n",
    "frames_all = []\n",
    "for folder in tqdm(folders):\n",
    "    # make a list of valid frames\n",
    "    indices = idx_finder(folder)\n",
    "    frames = [folder+str(idx) for idx in indices]\n",
    "    frames_all = frames_all + frames\n",
    "    break"
   ]
  }
 ],
 "metadata": {
  "kernelspec": {
   "display_name": "Python 3",
   "language": "python",
   "name": "python3"
  },
  "language_info": {
   "codemirror_mode": {
    "name": "ipython",
    "version": 3
   },
   "file_extension": ".py",
   "mimetype": "text/x-python",
   "name": "python",
   "nbconvert_exporter": "python",
   "pygments_lexer": "ipython3",
   "version": "3.7.7"
  }
 },
 "nbformat": 4,
 "nbformat_minor": 4
}
