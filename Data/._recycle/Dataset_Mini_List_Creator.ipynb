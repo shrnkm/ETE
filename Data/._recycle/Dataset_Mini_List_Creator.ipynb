{
 "cells": [
  {
   "cell_type": "code",
   "execution_count": 1,
   "metadata": {},
   "outputs": [],
   "source": [
    "import os\n",
    "import random\n",
    "import numpy as np\n",
    "import cv2\n",
    "import json\n",
    "import pickle\n",
    "import matplotlib.pyplot as plt\n",
    "import matplotlib.patches as patches\n",
    "from tqdm.notebook import tqdm"
   ]
  },
  {
   "cell_type": "markdown",
   "metadata": {},
   "source": [
    "## Settings"
   ]
  },
  {
   "cell_type": "code",
   "execution_count": 2,
   "metadata": {},
   "outputs": [],
   "source": [
    "# set the size of the dataset, manually\n",
    "samples = 10000\n",
    "# set the target orientation\n",
    "orientation = 1\n",
    "# set the scale for resizing the images\n",
    "scale = .5"
   ]
  },
  {
   "cell_type": "markdown",
   "metadata": {},
   "source": [
    "## Helper Functions"
   ]
  },
  {
   "cell_type": "code",
   "execution_count": 3,
   "metadata": {},
   "outputs": [],
   "source": [
    "# function for reading the Json files\n",
    "def idx_finder(folder):\n",
    "    '''\n",
    "    This function takes the folder name (string),\n",
    "    and returns a list of indices of the target\n",
    "    orientation and valid frames in the folder.\n",
    "    '''\n",
    "    # set the specific folder's path\n",
    "    path = 'Data_MIT/' + folder\n",
    "\n",
    "    # read the json files\n",
    "    # ------------------------------------------------------------------\n",
    "    # read the Face Crop json\n",
    "    with open(path + '/appleFace.json', 'r') as file:\n",
    "        face = json.load(file)\n",
    "    # read the Left Eye json\n",
    "    with open(path + '/appleLeftEye.json', 'r') as file:\n",
    "        eye_l = json.load(file)\n",
    "    # read the Right Eye json\n",
    "    with open(path + '/appleRightEye.json', 'r') as file:\n",
    "        eye_r = json.load(file)\n",
    "    # read the Scree json\n",
    "    with open(path + '/screen.json', 'r') as file:\n",
    "        screen = json.load(file)\n",
    "    \n",
    "    # make a list of all valid indices\n",
    "    # ------------------------------------------------------------------\n",
    "    # list of all frames with full face in it\n",
    "    faces = [idx for idx, val in enumerate(face['IsValid']) if val == 1]\n",
    "    # list of all frames with the left eye in it\n",
    "    eyes_l = [idx for idx, val in enumerate(eye_l['IsValid']) if val == 1]\n",
    "    # list of all frames with the right eye in it\n",
    "    eyes_r = [idx for idx, val in enumerate(eye_r['IsValid']) if val == 1]\n",
    "    # list of all portrait frames\n",
    "    portraits = [idx for idx, ori in enumerate(screen['Orientation']) if ori == orientation]\n",
    "    # intersection of all those lists\n",
    "    indices = [idx for idx in faces if idx in eyes_l and idx in eyes_r and idx in portraits]\n",
    "    \n",
    "    return indices\n",
    "    \n",
    "    \n",
    "    \n",
    "# function for getting the gaze coordinates\n",
    "def get_labels(folder, indices):\n",
    "    '''\n",
    "    The function takes the folder name (string),\n",
    "    and a list of indices (list) and returns an\n",
    "    np.array of gaze coordinates or the labels.\n",
    "    '''\n",
    "    # set the specific folder's path\n",
    "    path = 'Data_MIT/' + folder\n",
    "    \n",
    "    # read the dot json\n",
    "    with open(path + '/dotInfo.json', 'r') as file:\n",
    "        dot = json.load(file)\n",
    "    \n",
    "    # list of XCam coordinate for valid frames\n",
    "    dot_x = [x for idx, x in enumerate(dot['XCam']) if idx in indices]\n",
    "    # list of YCam coordinate for valid frames\n",
    "    dot_y = [y for idx, y in enumerate(dot['YCam']) if idx in indices]\n",
    "    # make an np.array out of the coordinates for valid frames\n",
    "    dots = np.column_stack((dot_x, dot_y))\n",
    "    \n",
    "    return dots\n",
    "\n",
    "\n",
    "\n",
    "# function for read, resize, and save an image\n",
    "def resize(path, scale):\n",
    "    '''\n",
    "    The function takes a path to an image (string),\n",
    "    and a scale (float) to rescale the image and\n",
    "    save it.\n",
    "    '''\n",
    "    # read the image\n",
    "    img = cv2.imread(path)\n",
    "    # resize the image\n",
    "    new_h = int(img.shape[1]*scale)\n",
    "    new_w = int(img.shape[0]*scale)\n",
    "    img = cv2.resize(img, (new_h, new_w))\n",
    "    # count the number of files already available in the destination folder\n",
    "    files = len(os.listdir('Data_MTCNN/'))\n",
    "    # set the path and name for the file\n",
    "    save_path = 'Data_MTCNN/' + '0'*(5-len(str(files))) + str(files) + '.jpg'\n",
    "    # and save the image\n",
    "    cv2.imwrite(save_path, img);\n",
    "    \n",
    "    "
   ]
  },
  {
   "cell_type": "markdown",
   "metadata": {},
   "source": [
    "## Create the Dataset"
   ]
  },
  {
   "cell_type": "code",
   "execution_count": 4,
   "metadata": {},
   "outputs": [
    {
     "data": {
      "application/vnd.jupyter.widget-view+json": {
       "model_id": "77e08dbf6f1c48558b4104117cc9cfb5",
       "version_major": 2,
       "version_minor": 0
      },
      "text/plain": [
       "HBox(children=(FloatProgress(value=0.0, max=1474.0), HTML(value='')))"
      ]
     },
     "metadata": {},
     "output_type": "display_data"
    },
    {
     "name": "stdout",
     "output_type": "stream",
     "text": [
      "\n"
     ]
    }
   ],
   "source": [
    "# make a list of the folders in the data directory\n",
    "folders = [name for name in os.listdir('Data_MIT/')]\n",
    "# drop the irrelevant file in the data directory\n",
    "folders.remove('LICENSE.md')\n",
    "\n",
    "# create a list of valid and portrait frames in folders\n",
    "frames_all = []\n",
    "for folder in tqdm(folders):\n",
    "    # make a list of valid frames\n",
    "    indices = idx_finder(folder)\n",
    "    frames = [folder+str(idx) for idx in indices]\n",
    "    frames_all = frames_all + frames\n",
    "    \n",
    "# pick the 'samples' number of the frames, randomly\n",
    "# and in case of 'samples' larger than the number of\n",
    "# all frames, pick them all\n",
    "frames = random.sample(frames_all, k=min(samples, len(frames_all)))\n",
    "\n",
    "# set a list for labels\n",
    "labels = []\n",
    "\n",
    "# make a list of the folders picked and listed in frames\n",
    "folder_list = sorted(list(set([frame[:5] for frame in frames])))\n",
    "\n",
    "# for each folder...\n",
    "for folder in tqdm(folder_list):\n",
    "    # get indices of picked frames in that folder\n",
    "    indices = [int(frame[5:]) for frame in frames if frame[:5] == folder]\n",
    "    # and then returns a list of the labels and append it to labels list\n",
    "    labels.append(get_labels(folder, indices))\n",
    "    \n",
    "\n",
    "    # for each file in the folder...\n",
    "    for idx in indices:\n",
    "        # set the path to the file\n",
    "        path = 'Data_MIT/' + folder + '/frames/' + '0'*(5-len(str(idx))) + str(idx) + '.jpg'\n",
    "        # read, resize, and save the file\n",
    "        resize(path, scale)\n"
   ]
  },
  {
   "cell_type": "markdown",
   "metadata": {},
   "source": [
    "## Save the Dataset"
   ]
  },
  {
   "cell_type": "code",
   "execution_count": 6,
   "metadata": {},
   "outputs": [],
   "source": [
    "# convert the labels list to an array\n",
    "labels = np.array(labels)\n",
    "# and save it in a pickle file\n",
    "with open('Data_MTCNN/labels.pkl','wb') as f:\n",
    "    pickle.dump(labels, f)\n",
    "\n",
    "\n",
    "\n",
    "# read images and convert them to an np.array\n",
    "images = []\n",
    "\n",
    "for i in tqdm(range(samples)):\n",
    "    # read the image\n",
    "    img = plt.imread('Data_MTCNN/' + '0'*(5-len(str(i))) + str(i) + '.jpg')\n",
    "    # append the image to the images list\n",
    "    images.append(img)\n",
    "\n",
    "# convert the labels list to an array\n",
    "images = np.array(images)\n",
    "# and save it in a pickle file\n",
    "with open('Data_MTCNN/images.pkl','wb') as f:\n",
    "    pickle.dump(images, f)\n",
    "\n",
    "\n",
    "\n",
    "# save the frames list for replication purposes\n",
    "with open('Data_MTCNN/frames.pkl','wb') as f:\n",
    "    pickle.dump(frames, f)\n"
   ]
  }
 ],
 "metadata": {
  "kernelspec": {
   "display_name": "Python 3",
   "language": "python",
   "name": "python3"
  },
  "language_info": {
   "codemirror_mode": {
    "name": "ipython",
    "version": 3
   },
   "file_extension": ".py",
   "mimetype": "text/x-python",
   "name": "python",
   "nbconvert_exporter": "python",
   "pygments_lexer": "ipython3",
   "version": "3.7.7"
  }
 },
 "nbformat": 4,
 "nbformat_minor": 2
}
