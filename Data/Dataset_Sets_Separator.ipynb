{
 "cells": [
  {
   "cell_type": "code",
   "execution_count": 1,
   "metadata": {},
   "outputs": [],
   "source": [
    "import os\n",
    "import numpy as np\n",
    "import json\n",
    "import pickle\n",
    "import random"
   ]
  },
  {
   "cell_type": "markdown",
   "metadata": {},
   "source": [
    "## Create Lists of Train, Test, and Val Folders"
   ]
  },
  {
   "cell_type": "code",
   "execution_count": 9,
   "metadata": {},
   "outputs": [
    {
     "name": "stdout",
     "output_type": "stream",
     "text": [
      " We have 1271 train folders/subjects, containing 1251983 frames/samples\n",
      " and 50 validate folders/subjects, containing 59480 frames/samples\n",
      " and 150 test folders/subjects, containing 179496 frames/samples.\n"
     ]
    }
   ],
   "source": [
    "# make a list of the folders in the data directory\n",
    "folders = [name for name in os.listdir('Data_MIT/')]\n",
    "# drop the irrelevant file in the data directory\n",
    "folders = folders[:-3]\n",
    "\n",
    "# create three lists for recording the training, testing, and\n",
    "# validating frames (folders)\n",
    "train =[]\n",
    "val = []\n",
    "test = []\n",
    "\n",
    "\n",
    "# create three counters for counting the number of frames/samples per set\n",
    "train_sp = 0\n",
    "val_sp = 0\n",
    "test_sp = 0\n",
    "\n",
    "# loop over all folders available in the folders list\n",
    "for folder in folders:\n",
    "    # set the path to the folder on my system\n",
    "    path = 'Data_MIT/' + folder\n",
    "    #  read the info jason\n",
    "    with open(path + '/info.json', 'r') as file:\n",
    "        info = json.load(file)\n",
    "    # if there is at least one useable frame in the folder,\n",
    "    if info['NumFaceDetections'] and info['NumEyeDetections']:\n",
    "        # read the whether it is a train, test, or validation folder\n",
    "        subset = info['Dataset']\n",
    "        # and append the name of the folder to the corresponding list\n",
    "        exec(subset + '.append(str(folder))')\n",
    "        # and also add the number of useable/valid frames avaible in the folder\n",
    "        # to the corresponding counter\n",
    "        exec(subset + '_sp += min(info[\\'NumFaceDetections\\'], info[\\'NumEyeDetections\\'])')\n",
    "\n",
    "# check the number of folders/subjects in each set\n",
    "train_sb = len(train)\n",
    "val_sb = len(val)\n",
    "test_sb = len(test)\n",
    "\n",
    "# print it out\n",
    "print(' We have', train_sb, 'train folders/subjects, containing',\n",
    "      train_sp, 'frames/samples\\n and',\n",
    "      val_sb, 'validate folders/subjects, containing',\n",
    "      val_sp, 'frames/samples\\n and',\n",
    "      test_sb, 'test folders/subjects, containing',\n",
    "      test_sp, 'frames/samples.')\n",
    "\n",
    "with open('train.pkl', 'wb') as f:\n",
    "    pickle.dump(train, f)\n",
    "\n",
    "with open('val.pkl', 'wb') as f:\n",
    "    pickle.dump(val, f)\n",
    "    \n",
    "with open('test.pkl', 'wb') as f:\n",
    "    pickle.dump(test, f)\n",
    "\n"
   ]
  }
 ],
 "metadata": {
  "kernelspec": {
   "display_name": "Python 3",
   "language": "python",
   "name": "python3"
  },
  "language_info": {
   "codemirror_mode": {
    "name": "ipython",
    "version": 3
   },
   "file_extension": ".py",
   "mimetype": "text/x-python",
   "name": "python",
   "nbconvert_exporter": "python",
   "pygments_lexer": "ipython3",
   "version": "3.7.5"
  }
 },
 "nbformat": 4,
 "nbformat_minor": 2
}
